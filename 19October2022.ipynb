{    
 "cells": [
  {
   "cell_type": "markdown",
   "id": "8ac91b65",
   "metadata": {},
   "source": [
    "#### Python-List-Exercises"
   ]
  },
  {
   "cell_type": "code",
   "execution_count": 16,
   "id": "7955e4c7",
   "metadata": {},
   "outputs": [
    {
     "data": {
      "text/plain": [
       "3"
      ]
     },
     "execution_count": 16,
     "metadata": {},
     "output_type": "execute_result"
    }
   ],
   "source": [
    "len([[4,5],[[4,5,6,7,4],[1,2,3], [4,5,6,7], [4,6,7,8,9,6,]],[4,5,6,7,8,8]])"
   ]
  },
  {
   "cell_type": "code",
   "execution_count": 5,
   "id": "55321230",
   "metadata": {},
   "outputs": [],
   "source": [
    "a = 11"
   ]
  },
  {
   "cell_type": "code",
   "execution_count": 6,
   "id": "2a555d42",
   "metadata": {},
   "outputs": [
    {
     "name": "stdout",
     "output_type": "stream",
     "text": [
      "-11\n"
     ]
    }
   ],
   "source": [
    "print(-a)"
   ]
  },
  {
   "cell_type": "code",
   "execution_count": 42,
   "id": "87a75357",
   "metadata": {},
   "outputs": [
    {
     "data": {
      "text/plain": [
       "'4.43,\\\\5.343434...\\\\!@#$%^&*()\\\\?/6'"
      ]
     },
     "execution_count": 42,
     "metadata": {},
     "output_type": "execute_result"
    }
   ],
   "source": [
    "text = \"{:.2f},\\\\\\\n",
    "{}...\\\\\\\n",
    "!@#$%^&*()\\?/{}\".format(4.434,5.343434,6)\n",
    "\n",
    "text"
   ]
  },
  {
   "cell_type": "code",
   "execution_count": 45,
   "id": "243d09f0",
   "metadata": {},
   "outputs": [
    {
     "data": {
      "text/plain": [
       "'4.4,\\\\5.343434...\\\\!@#$%^&*()\\\\?/6'"
      ]
     },
     "execution_count": 45,
     "metadata": {},
     "output_type": "execute_result"
    }
   ],
   "source": [
    "text = \"{:.2},\\\\\\\n",
    "{}...\\\\\\\n",
    "!@#$%^&*()\\?/{}\".format(4.434,5.343434,6)\n",
    "\n",
    "text"
   ]
  },
  {
   "cell_type": "code",
   "execution_count": 47,
   "id": "c66c0cb8",
   "metadata": {},
   "outputs": [
    {
     "data": {
      "text/plain": [
       "'a3, 5.b, 7.32'"
      ]
     },
     "execution_count": 47,
     "metadata": {},
     "output_type": "execute_result"
    }
   ],
   "source": [
    "tet = \"{:.2s}, {:.3s}, {:.4s}\".format(\"a3.1463\", \"5.b367\", \"7.324324\")\n",
    "tet"
   ]
  },
  {
   "cell_type": "code",
   "execution_count": 48,
   "id": "715c2fd6",
   "metadata": {},
   "outputs": [
    {
     "data": {
      "text/plain": [
       "'a3, 5.b, 7.32'"
      ]
     },
     "execution_count": 48,
     "metadata": {},
     "output_type": "execute_result"
    }
   ],
   "source": [
    "tet = \"{:.2}, {:.3}, {:.4}\".format(\"a3.1463\", \"5.b367\", \"7.324324\")\n",
    "tet"
   ]
  },
  {
   "cell_type": "code",
   "execution_count": 49,
   "id": "04263b4c",
   "metadata": {},
   "outputs": [
    {
     "data": {
      "text/plain": [
       "'test'"
      ]
     },
     "execution_count": 49,
     "metadata": {},
     "output_type": "execute_result"
    }
   ],
   "source": [
    "ter = \"{:}\".format(\"test\")\n",
    "ter"
   ]
  },
  {
   "cell_type": "code",
   "execution_count": 50,
   "id": "ebda6539",
   "metadata": {},
   "outputs": [
    {
     "data": {
      "text/plain": [
       "'      test'"
      ]
     },
     "execution_count": 50,
     "metadata": {},
     "output_type": "execute_result"
    }
   ],
   "source": [
    "ter = \"{:>10}\".format(\"test\")\n",
    "ter"
   ]
  },
  {
   "cell_type": "code",
   "execution_count": 53,
   "id": "9822e98b",
   "metadata": {},
   "outputs": [
    {
     "data": {
      "text/plain": [
       "'test      '"
      ]
     },
     "execution_count": 53,
     "metadata": {},
     "output_type": "execute_result"
    }
   ],
   "source": [
    "ter = \"{:<10}\".format(\"test\")\n",
    "ter"
   ]
  },
  {
   "cell_type": "code",
   "execution_count": 60,
   "id": "def36dc8",
   "metadata": {},
   "outputs": [
    {
     "data": {
      "text/plain": [
       "\"formatlama satiri '                test' <burada ilk kelime bitti.burada daikinci kelime basliyor > 'access ..      '\""
      ]
     },
     "execution_count": 60,
     "metadata": {},
     "output_type": "execute_result"
    }
   ],
   "source": [
    "ter = \"formatlama satiri '{:>20}' <burada ilk kelime bitti.\\\n",
    "burada daikinci kelime basliyor > '{:<15}'\".format(\"test\", \"access ..\")\n",
    "ter"
   ]
  },
  {
   "cell_type": "code",
   "execution_count": 62,
   "id": "3b6fce1e",
   "metadata": {},
   "outputs": [
    {
     "data": {
      "text/plain": [
       "'    be upright!     '"
      ]
     },
     "execution_count": 62,
     "metadata": {},
     "output_type": "execute_result"
    }
   ],
   "source": [
    "ter = \"{:^20}\".format(\"be upright!\")\n",
    "ter"
   ]
  },
  {
   "cell_type": "code",
   "execution_count": 64,
   "id": "ddd7f33f",
   "metadata": {},
   "outputs": [
    {
     "data": {
      "text/plain": [
       "'beaut     '"
      ]
     },
     "execution_count": 64,
     "metadata": {},
     "output_type": "execute_result"
    }
   ],
   "source": [
    "ter = \"{:10.5}\".format(\"beautifulwomen\")\n",
    "ter"
   ]
  },
  {
   "cell_type": "code",
   "execution_count": 65,
   "id": "a1f8d13e",
   "metadata": {},
   "outputs": [
    {
     "data": {
      "text/plain": [
       "'  beaut   '"
      ]
     },
     "execution_count": 65,
     "metadata": {},
     "output_type": "execute_result"
    }
   ],
   "source": [
    "ter = \"{:^10.5}\".format(\"beautifulwomen\")\n",
    "ter"
   ]
  },
  {
   "cell_type": "code",
   "execution_count": 67,
   "id": "1fc73178",
   "metadata": {},
   "outputs": [
    {
     "data": {
      "text/plain": [
       "' beautiful'"
      ]
     },
     "execution_count": 67,
     "metadata": {},
     "output_type": "execute_result"
    }
   ],
   "source": [
    "ter = \"{:>10.9}\".format(\"beautifulwomen\")\n",
    "ter"
   ]
  },
  {
   "cell_type": "code",
   "execution_count": 69,
   "id": "11d84ead",
   "metadata": {},
   "outputs": [
    {
     "data": {
      "text/plain": [
       "'                                 beautifulwomen                                 '"
      ]
     },
     "execution_count": 69,
     "metadata": {},
     "output_type": "execute_result"
    }
   ],
   "source": [
    "ter = \"{:^80.50}\".format(\"beautifulwomen\")\n",
    "ter"
   ]
  },
  {
   "cell_type": "code",
   "execution_count": 70,
   "id": "e4a77595",
   "metadata": {},
   "outputs": [
    {
     "data": {
      "text/plain": [
       "[]"
      ]
     },
     "execution_count": 70,
     "metadata": {},
     "output_type": "execute_result"
    }
   ],
   "source": [
    "list()"
   ]
  },
  {
   "cell_type": "code",
   "execution_count": 71,
   "id": "d3e31ce5",
   "metadata": {},
   "outputs": [
    {
     "data": {
      "text/plain": [
       "[]"
      ]
     },
     "execution_count": 71,
     "metadata": {},
     "output_type": "execute_result"
    }
   ],
   "source": [
    "[]"
   ]
  },
  {
   "cell_type": "code",
   "execution_count": 75,
   "id": "03eeacac",
   "metadata": {},
   "outputs": [
    {
     "data": {
      "text/plain": [
       "[]"
      ]
     },
     "execution_count": 75,
     "metadata": {},
     "output_type": "execute_result"
    }
   ],
   "source": [
    "bos = []\n",
    "bos"
   ]
  },
  {
   "cell_type": "code",
   "execution_count": 76,
   "id": "d7fce15a",
   "metadata": {},
   "outputs": [
    {
     "data": {
      "text/plain": [
       "[]"
      ]
     },
     "execution_count": 76,
     "metadata": {},
     "output_type": "execute_result"
    }
   ],
   "source": [
    "bos2 = list()\n",
    "bos2"
   ]
  },
  {
   "cell_type": "code",
   "execution_count": 103,
   "id": "d939892a",
   "metadata": {},
   "outputs": [],
   "source": [
    "listem = [\"Erdogan\"]"
   ]
  },
  {
   "cell_type": "code",
   "execution_count": 104,
   "id": "bef56a7f",
   "metadata": {},
   "outputs": [],
   "source": [
    "listem.reverse()"
   ]
  },
  {
   "cell_type": "code",
   "execution_count": 105,
   "id": "bca1b7de",
   "metadata": {},
   "outputs": [
    {
     "data": {
      "text/plain": [
       "['Erdogan']"
      ]
     },
     "execution_count": 105,
     "metadata": {},
     "output_type": "execute_result"
    }
   ],
   "source": [
    "listem"
   ]
  },
  {
   "cell_type": "code",
   "execution_count": 106,
   "id": "f8a0e00c",
   "metadata": {},
   "outputs": [],
   "source": [
    "listem = listem.reverse()"
   ]
  },
  {
   "cell_type": "code",
   "execution_count": 107,
   "id": "d30e41aa",
   "metadata": {},
   "outputs": [],
   "source": [
    "listem"
   ]
  },
  {
   "cell_type": "code",
   "execution_count": 108,
   "id": "66ce74e5",
   "metadata": {},
   "outputs": [],
   "source": [
    "karindaslar = [\"ali\", \"deli\"]"
   ]
  },
  {
   "cell_type": "code",
   "execution_count": 110,
   "id": "e9631348",
   "metadata": {},
   "outputs": [
    {
     "data": {
      "text/plain": [
       "['ali', 'deli', 'veli', 'veli']"
      ]
     },
     "execution_count": 110,
     "metadata": {},
     "output_type": "execute_result"
    }
   ],
   "source": [
    "karindaslar.append(\"veli\")\n",
    "\n",
    "karindaslar"
   ]
  },
  {
   "cell_type": "code",
   "execution_count": 112,
   "id": "00b6018a",
   "metadata": {},
   "outputs": [
    {
     "data": {
      "text/plain": [
       "['ali', 'deli', 'veli', 'veli', True]"
      ]
     },
     "execution_count": 112,
     "metadata": {},
     "output_type": "execute_result"
    }
   ],
   "source": [
    "karindaslar.append(True)\n",
    "\n",
    "karindaslar"
   ]
  },
  {
   "cell_type": "code",
   "execution_count": 114,
   "id": "d8007f07",
   "metadata": {},
   "outputs": [
    {
     "data": {
      "text/plain": [
       "['ali', 'deli', 'veli', 'veli', True, 3.14]"
      ]
     },
     "execution_count": 114,
     "metadata": {},
     "output_type": "execute_result"
    }
   ],
   "source": [
    "karindaslar.append(3.14)\n",
    "\n",
    "karindaslar"
   ]
  },
  {
   "cell_type": "code",
   "execution_count": 115,
   "id": "57021e28",
   "metadata": {},
   "outputs": [
    {
     "data": {
      "text/plain": [
       "3.14"
      ]
     },
     "execution_count": 115,
     "metadata": {},
     "output_type": "execute_result"
    }
   ],
   "source": [
    "karindaslar.pop()"
   ]
  },
  {
   "cell_type": "code",
   "execution_count": 116,
   "id": "5cf92af7",
   "metadata": {},
   "outputs": [
    {
     "data": {
      "text/plain": [
       "['ali', 'deli', 'veli', 'veli', True]"
      ]
     },
     "execution_count": 116,
     "metadata": {},
     "output_type": "execute_result"
    }
   ],
   "source": [
    "karindaslar"
   ]
  },
  {
   "cell_type": "code",
   "execution_count": 117,
   "id": "3c4f35cc",
   "metadata": {},
   "outputs": [
    {
     "data": {
      "text/plain": [
       "True"
      ]
     },
     "execution_count": 117,
     "metadata": {},
     "output_type": "execute_result"
    }
   ],
   "source": [
    "karindaslar.pop()"
   ]
  },
  {
   "cell_type": "code",
   "execution_count": 118,
   "id": "d2514975",
   "metadata": {},
   "outputs": [
    {
     "data": {
      "text/plain": [
       "['ali', 'deli', 'veli', 'veli']"
      ]
     },
     "execution_count": 118,
     "metadata": {},
     "output_type": "execute_result"
    }
   ],
   "source": [
    "karindaslar"
   ]
  },
  {
   "cell_type": "code",
   "execution_count": 119,
   "id": "71c1f22a",
   "metadata": {},
   "outputs": [
    {
     "data": {
      "text/plain": [
       "'veli'"
      ]
     },
     "execution_count": 119,
     "metadata": {},
     "output_type": "execute_result"
    }
   ],
   "source": [
    "karindaslar.pop()"
   ]
  },
  {
   "cell_type": "code",
   "execution_count": 120,
   "id": "446f477a",
   "metadata": {},
   "outputs": [
    {
     "data": {
      "text/plain": [
       "['ali', 'deli', 'veli']"
      ]
     },
     "execution_count": 120,
     "metadata": {},
     "output_type": "execute_result"
    }
   ],
   "source": [
    "karindaslar"
   ]
  },
  {
   "cell_type": "code",
   "execution_count": 121,
   "id": "9980f415",
   "metadata": {},
   "outputs": [
    {
     "data": {
      "text/plain": [
       "'veli'"
      ]
     },
     "execution_count": 121,
     "metadata": {},
     "output_type": "execute_result"
    }
   ],
   "source": [
    "karindaslar.pop()"
   ]
  },
  {
   "cell_type": "code",
   "execution_count": 122,
   "id": "e7022513",
   "metadata": {},
   "outputs": [
    {
     "data": {
      "text/plain": [
       "['ali', 'deli']"
      ]
     },
     "execution_count": 122,
     "metadata": {},
     "output_type": "execute_result"
    }
   ],
   "source": [
    "karindaslar"
   ]
  },
  {
   "cell_type": "code",
   "execution_count": 147,
   "id": "6a55d344",
   "metadata": {},
   "outputs": [
    {
     "data": {
      "text/plain": [
       "'deli'"
      ]
     },
     "execution_count": 147,
     "metadata": {},
     "output_type": "execute_result"
    }
   ],
   "source": [
    "karindaslar.pop(1)"
   ]
  },
  {
   "cell_type": "code",
   "execution_count": 148,
   "id": "e319ae5d",
   "metadata": {},
   "outputs": [
    {
     "data": {
      "text/plain": [
       "['ali', 'deli']"
      ]
     },
     "execution_count": 148,
     "metadata": {},
     "output_type": "execute_result"
    }
   ],
   "source": [
    "karindaslar"
   ]
  },
  {
   "cell_type": "code",
   "execution_count": 142,
   "id": "074de180",
   "metadata": {},
   "outputs": [],
   "source": [
    "emptylist = []"
   ]
  },
  {
   "cell_type": "code",
   "execution_count": 143,
   "id": "e7d9b40f",
   "metadata": {},
   "outputs": [
    {
     "name": "stdout",
     "output_type": "stream",
     "text": [
      "[1, 2, 3, 4]\n"
     ]
    }
   ],
   "source": [
    "emptylist.append(1)\n",
    "emptylist.append(2)\n",
    "emptylist.append(3)\n",
    "emptylist.append(4)\n",
    "print(emptylist)"
   ]
  },
  {
   "cell_type": "code",
   "execution_count": 152,
   "id": "3d886ecc",
   "metadata": {},
   "outputs": [
    {
     "data": {
      "text/plain": [
       "['ali', 'deli', 'deli', 'deli', 'delim', 'deli']"
      ]
     },
     "execution_count": 152,
     "metadata": {},
     "output_type": "execute_result"
    }
   ],
   "source": [
    "karindaslar.insert(13,\"deli\")\n",
    "\n",
    "karindaslar"
   ]
  },
  {
   "cell_type": "code",
   "execution_count": 155,
   "id": "4cdecaa5",
   "metadata": {},
   "outputs": [
    {
     "data": {
      "text/plain": [
       "['ali', 'deli', 'deli', 'deli', 'delim', 'deli']"
      ]
     },
     "execution_count": 155,
     "metadata": {},
     "output_type": "execute_result"
    }
   ],
   "source": [
    "karindaslar.reverse()\n",
    "\n",
    "karindaslar"
   ]
  },
  {
   "cell_type": "code",
   "execution_count": 168,
   "id": "6251f612",
   "metadata": {},
   "outputs": [],
   "source": [
    "liste = [1,2,3,4]"
   ]
  },
  {
   "cell_type": "code",
   "execution_count": 169,
   "id": "f196beab",
   "metadata": {},
   "outputs": [
    {
     "data": {
      "text/plain": [
       "[1, 2, 3, 4, 5]"
      ]
     },
     "execution_count": 169,
     "metadata": {},
     "output_type": "execute_result"
    }
   ],
   "source": [
    "liste.insert(4,5)\n",
    "liste"
   ]
  },
  {
   "cell_type": "code",
   "execution_count": 173,
   "id": "4affba84",
   "metadata": {},
   "outputs": [],
   "source": [
    "listem = [1,2,3,4]"
   ]
  },
  {
   "cell_type": "code",
   "execution_count": 174,
   "id": "279c5628",
   "metadata": {},
   "outputs": [
    {
     "data": {
      "text/plain": [
       "[1, 2, 3, 5, 4]"
      ]
     },
     "execution_count": 174,
     "metadata": {},
     "output_type": "execute_result"
    }
   ],
   "source": [
    "listem.insert(-1,5)\n",
    "\n",
    "listem"
   ]
  },
  {
   "cell_type": "code",
   "execution_count": 176,
   "id": "556dd9b5",
   "metadata": {},
   "outputs": [
    {
     "data": {
      "text/plain": [
       "['delim', 'deli', 'deli', 'deli', 'deli', 'ali']"
      ]
     },
     "execution_count": 176,
     "metadata": {},
     "output_type": "execute_result"
    }
   ],
   "source": [
    "karindaslar.reverse()\n",
    "\n",
    "karindaslar"
   ]
  },
  {
   "cell_type": "code",
   "execution_count": 191,
   "id": "02f24b3a",
   "metadata": {},
   "outputs": [
    {
     "name": "stdout",
     "output_type": "stream",
     "text": [
      "clarusway\n",
      "Clarusway\n"
     ]
    }
   ],
   "source": [
    "full = \"Clarusway\"\n",
    "\n",
    "head = \"clarus\"\n",
    "\n",
    "bottom = \"way\"\n",
    "\n",
    "print( head + bottom)\n",
    "\n",
    "print(full[:3] + full[3:])"
   ]
  },
  {
   "cell_type": "code",
   "execution_count": 188,
   "id": "4aa5658f",
   "metadata": {},
   "outputs": [
    {
     "data": {
      "text/plain": [
       "'Clakusway'"
      ]
     },
     "execution_count": 188,
     "metadata": {},
     "output_type": "execute_result"
    }
   ],
   "source": [
    "full = \"Clarusway\"\n",
    "full.replace(\"r\",\"k\")"
   ]
  },
  {
   "cell_type": "code",
   "execution_count": 213,
   "id": "a847271e",
   "metadata": {},
   "outputs": [],
   "source": [
    "old = [\"ali\", \"veli\", \"deli\"]"
   ]
  },
  {
   "cell_type": "code",
   "execution_count": 214,
   "id": "e2691923",
   "metadata": {},
   "outputs": [],
   "source": [
    "old = oldest"
   ]
  },
  {
   "cell_type": "code",
   "execution_count": 215,
   "id": "d00ced8e",
   "metadata": {},
   "outputs": [
    {
     "data": {
      "text/plain": [
       "['ali', 'deli', 'veli']"
      ]
     },
     "execution_count": 215,
     "metadata": {},
     "output_type": "execute_result"
    }
   ],
   "source": [
    "oldest.sort()\n",
    "\n",
    "oldest"
   ]
  },
  {
   "cell_type": "code",
   "execution_count": 216,
   "id": "77086d95",
   "metadata": {},
   "outputs": [
    {
     "data": {
      "text/plain": [
       "['ali', 'deli', 'veli']"
      ]
     },
     "execution_count": 216,
     "metadata": {},
     "output_type": "execute_result"
    }
   ],
   "source": [
    "old"
   ]
  },
  {
   "cell_type": "code",
   "execution_count": 217,
   "id": "375a5529",
   "metadata": {},
   "outputs": [],
   "source": [
    "list1 = [\"one\", \"four\", \"nine\"]"
   ]
  },
  {
   "cell_type": "code",
   "execution_count": 227,
   "id": "325a8fb9",
   "metadata": {},
   "outputs": [
    {
     "data": {
      "text/plain": [
       "['four', 'nine', 'one']"
      ]
     },
     "execution_count": 227,
     "metadata": {},
     "output_type": "execute_result"
    }
   ],
   "source": [
    "list1.sort()\n",
    "\n",
    "list1"
   ]
  },
  {
   "cell_type": "code",
   "execution_count": 233,
   "id": "7f6bd02c",
   "metadata": {},
   "outputs": [
    {
     "data": {
      "text/plain": [
       "['one', 'nine', 'four']"
      ]
     },
     "execution_count": 233,
     "metadata": {},
     "output_type": "execute_result"
    }
   ],
   "source": [
    "list1.sort(reverse=True)\n",
    "\n",
    "list1"
   ]
  },
  {
   "cell_type": "code",
   "execution_count": 234,
   "id": "9866b939",
   "metadata": {},
   "outputs": [
    {
     "data": {
      "text/plain": [
       "['four', 'nine', 'one']"
      ]
     },
     "execution_count": 234,
     "metadata": {},
     "output_type": "execute_result"
    }
   ],
   "source": [
    "list1.sort(reverse=False)\n",
    "\n",
    "list1"
   ]
  },
  {
   "cell_type": "code",
   "execution_count": 235,
   "id": "c8c29200",
   "metadata": {},
   "outputs": [
    {
     "data": {
      "text/plain": [
       "70"
      ]
     },
     "execution_count": 235,
     "metadata": {},
     "output_type": "execute_result"
    }
   ],
   "source": [
    "ord(\"F\")"
   ]
  },
  {
   "cell_type": "code",
   "execution_count": 236,
   "id": "f6d99cc8",
   "metadata": {},
   "outputs": [],
   "source": [
    "list3 = [True,False]"
   ]
  },
  {
   "cell_type": "code",
   "execution_count": 238,
   "id": "4f8bcd8c",
   "metadata": {},
   "outputs": [
    {
     "data": {
      "text/plain": [
       "[False, True]"
      ]
     },
     "execution_count": 238,
     "metadata": {},
     "output_type": "execute_result"
    }
   ],
   "source": [
    "list3.sort()\n",
    "\n",
    "list3"
   ]
  },
  {
   "cell_type": "code",
   "execution_count": 240,
   "id": "79f6069e",
   "metadata": {},
   "outputs": [
    {
     "data": {
      "text/plain": [
       "35"
      ]
     },
     "execution_count": 240,
     "metadata": {},
     "output_type": "execute_result"
    }
   ],
   "source": [
    "ord(\"#\")"
   ]
  },
  {
   "cell_type": "code",
   "execution_count": 241,
   "id": "051b4289",
   "metadata": {},
   "outputs": [
    {
     "data": {
      "text/plain": [
       "36"
      ]
     },
     "execution_count": 241,
     "metadata": {},
     "output_type": "execute_result"
    }
   ],
   "source": [
    "ord(\"$\")"
   ]
  },
  {
   "cell_type": "code",
   "execution_count": 242,
   "id": "5e87cd2e",
   "metadata": {},
   "outputs": [
    {
     "data": {
      "text/plain": [
       "49"
      ]
     },
     "execution_count": 242,
     "metadata": {},
     "output_type": "execute_result"
    }
   ],
   "source": [
    "ord(\"1\")"
   ]
  },
  {
   "cell_type": "code",
   "execution_count": 243,
   "id": "ed09bec4",
   "metadata": {},
   "outputs": [
    {
     "data": {
      "text/plain": [
       "33"
      ]
     },
     "execution_count": 243,
     "metadata": {},
     "output_type": "execute_result"
    }
   ],
   "source": [
    "ord(\"!\")"
   ]
  },
  {
   "cell_type": "code",
   "execution_count": 250,
   "id": "9f746eda",
   "metadata": {},
   "outputs": [],
   "source": [
    "list4 = [[63,4], [44],[-12]]"
   ]
  },
  {
   "cell_type": "code",
   "execution_count": 251,
   "id": "c62c520e",
   "metadata": {},
   "outputs": [],
   "source": [
    "list4.sort()"
   ]
  },
  {
   "cell_type": "code",
   "execution_count": 252,
   "id": "f9f04380",
   "metadata": {},
   "outputs": [
    {
     "data": {
      "text/plain": [
       "[[-12], [44], [63, 4]]"
      ]
     },
     "execution_count": 252,
     "metadata": {},
     "output_type": "execute_result"
    }
   ],
   "source": [
    "list4"
   ]
  },
  {
   "cell_type": "code",
   "execution_count": 260,
   "id": "043a3d77",
   "metadata": {},
   "outputs": [
    {
     "data": {
      "text/plain": [
       "60"
      ]
     },
     "execution_count": 260,
     "metadata": {},
     "output_type": "execute_result"
    }
   ],
   "source": [
    "# ord is reverse for chr\n",
    "chr(60) \n",
    "ord(\"<\")"
   ]
  },
  {
   "cell_type": "code",
   "execution_count": 262,
   "id": "a5225325",
   "metadata": {},
   "outputs": [
    {
     "name": "stdout",
     "output_type": "stream",
     "text": [
      "3\n",
      "3\n",
      "2\n",
      "3\n",
      "3\n"
     ]
    }
   ],
   "source": [
    "list1 = ['one', 'four', 'nine']\n",
    "list2 = ['@', '*_', 'False']\n",
    "list3 = [True,False]\n",
    "list4 = [[3], [44], [-12]]\n",
    "list5 = [[1,3], [44,-40], [-12,1]]\n",
    "\n",
    "print(len(list1))\n",
    "print(len(list2))\n",
    "print(len(list3))\n",
    "print(len(list4))\n",
    "print(len(list5))"
   ]
  },
  {
   "cell_type": "code",
   "execution_count": null,
   "id": "c0d07866",
   "metadata": {},
   "outputs": [],
   "source": []
  }
 ],
 "metadata": {
  "kernelspec": {
   "display_name": "Python 3 (ipykernel)",
   "language": "python",
   "name": "python3"
  },
  "language_info": {
   "codemirror_mode": {
    "name": "ipython",
    "version": 3
   },
   "file_extension": ".py",
   "mimetype": "text/x-python",
   "name": "python",
   "nbconvert_exporter": "python",
   "pygments_lexer": "ipython3",
   "version": "3.9.12"
  }
 },
 "nbformat": 4,
 "nbformat_minor": 5
}
