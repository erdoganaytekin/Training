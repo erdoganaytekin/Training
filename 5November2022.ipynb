{
 "cells": [
  {
   "cell_type": "markdown",
   "id": "01f08b8c",
   "metadata": {},
   "source": [
    "# def_argu"
   ]
  },
  {
   "cell_type": "code",
   "execution_count": 1,
   "id": "14781e12",
   "metadata": {},
   "outputs": [],
   "source": [
    "def absolute_value(num):\n",
    "    if num >= 0 :\n",
    "        return num\n",
    "    else:\n",
    "        return -num"
   ]
  },
  {
   "cell_type": "code",
   "execution_count": 2,
   "id": "199c5454",
   "metadata": {},
   "outputs": [
    {
     "data": {
      "text/plain": [
       "61"
      ]
     },
     "execution_count": 2,
     "metadata": {},
     "output_type": "execute_result"
    }
   ],
   "source": [
    "absolute_value(-61)"
   ]
  },
  {
   "cell_type": "code",
   "execution_count": 3,
   "id": "61220979",
   "metadata": {},
   "outputs": [
    {
     "ename": "AttributeError",
     "evalue": "'function' object has no attribute '_doc_'",
     "output_type": "error",
     "traceback": [
      "\u001b[0;31m---------------------------------------------------------------------------\u001b[0m",
      "\u001b[0;31mAttributeError\u001b[0m                            Traceback (most recent call last)",
      "Input \u001b[0;32mIn [3]\u001b[0m, in \u001b[0;36m<cell line: 1>\u001b[0;34m()\u001b[0m\n\u001b[0;32m----> 1\u001b[0m \u001b[38;5;28mprint\u001b[39m(\u001b[43mabsolute_value\u001b[49m\u001b[38;5;241;43m.\u001b[39;49m\u001b[43m_doc_\u001b[49m)\n",
      "\u001b[0;31mAttributeError\u001b[0m: 'function' object has no attribute '_doc_'"
     ]
    }
   ],
   "source": [
    "print(absolute_value._doc_)"
   ]
  },
  {
   "cell_type": "code",
   "execution_count": null,
   "id": "86b7530d",
   "metadata": {},
   "outputs": [],
   "source": [
    "print(abs.)"
   ]
  },
  {
   "cell_type": "code",
   "execution_count": null,
   "id": "a99f1534",
   "metadata": {},
   "outputs": [],
   "source": [
    "int_num = -25\n",
    "\n",
    "float_num = -10.50\n",
    "\n",
    "print(\"The absolute value of an integer number is:\", abs(int_num))\n",
    "print(\"The absolute value of a float number is:\", abs(float_num))"
   ]
  },
  {
   "cell_type": "code",
   "execution_count": 4,
   "id": "c5f0ae61",
   "metadata": {},
   "outputs": [
    {
     "data": {
      "text/plain": [
       "5"
      ]
     },
     "execution_count": 4,
     "metadata": {},
     "output_type": "execute_result"
    }
   ],
   "source": [
    "A = -5\n",
    "abs(A)"
   ]
  },
  {
   "cell_type": "code",
   "execution_count": 5,
   "id": "3598cb38",
   "metadata": {},
   "outputs": [],
   "source": [
    "a = \"i\"\n",
    "b = \"love\"\n",
    "c = \"you\"\n",
    "# texter(c, a, b)"
   ]
  },
  {
   "cell_type": "code",
   "execution_count": 6,
   "id": "e3a92e9d",
   "metadata": {},
   "outputs": [],
   "source": [
    "def texter(text1, text2, text3) :\n",
    "    print(text2, text3, text1)"
   ]
  },
  {
   "cell_type": "code",
   "execution_count": 7,
   "id": "e55e9a9d",
   "metadata": {},
   "outputs": [
    {
     "name": "stdout",
     "output_type": "stream",
     "text": [
      "i love you\n"
     ]
    }
   ],
   "source": [
    "texter(c ,a ,b)"
   ]
  },
  {
   "cell_type": "code",
   "execution_count": 8,
   "id": "7b0f9cf5",
   "metadata": {},
   "outputs": [
    {
     "name": "stdout",
     "output_type": "stream",
     "text": [
      "i love you\n"
     ]
    }
   ],
   "source": [
    "texter(text1 = \"you\", text3 = \"love\", text2 = \"i\")"
   ]
  },
  {
   "cell_type": "code",
   "execution_count": 9,
   "id": "5b88372d",
   "metadata": {},
   "outputs": [
    {
     "name": "stdout",
     "output_type": "stream",
     "text": [
      "i love you\n"
     ]
    }
   ],
   "source": [
    "texter(text3 = \"love\", text1 = \"you\", text2 = \"i\")"
   ]
  },
  {
   "cell_type": "code",
   "execution_count": 10,
   "id": "27554684",
   "metadata": {},
   "outputs": [],
   "source": [
    "def bitanefonksiyon(x = \"ali\", y = 22) :\n",
    "    print(x, y, \"yaşındadır.\")"
   ]
  },
  {
   "cell_type": "code",
   "execution_count": 11,
   "id": "3530adad",
   "metadata": {},
   "outputs": [
    {
     "name": "stdout",
     "output_type": "stream",
     "text": [
      "ali 22 yaşındadır.\n"
     ]
    }
   ],
   "source": [
    "bitanefonksiyon()"
   ]
  },
  {
   "cell_type": "code",
   "execution_count": 12,
   "id": "074285aa",
   "metadata": {},
   "outputs": [
    {
     "name": "stdout",
     "output_type": "stream",
     "text": [
      "veli 33 yaşındadır.\n"
     ]
    }
   ],
   "source": [
    "bitanefonksiyon(y = 33, x = \"veli\")"
   ]
  },
  {
   "cell_type": "code",
   "execution_count": 13,
   "id": "212125ef",
   "metadata": {},
   "outputs": [
    {
     "name": "stdout",
     "output_type": "stream",
     "text": [
      "Trabzonspor Sampiyon yaşındadır.\n"
     ]
    }
   ],
   "source": [
    "bitanefonksiyon(x = \"Trabzonspor\", y = \"Sampiyon\")"
   ]
  },
  {
   "cell_type": "code",
   "execution_count": 14,
   "id": "8cc2ee50",
   "metadata": {},
   "outputs": [
    {
     "name": "stdout",
     "output_type": "stream",
     "text": [
      "61 40 yaşındadır.\n"
     ]
    }
   ],
   "source": [
    "bitanefonksiyon(61,40)"
   ]
  },
  {
   "cell_type": "code",
   "execution_count": 15,
   "id": "6787113b",
   "metadata": {},
   "outputs": [
    {
     "name": "stdout",
     "output_type": "stream",
     "text": [
      "gamze 22 yaşındadır.\n"
     ]
    }
   ],
   "source": [
    "bitanefonksiyon(\"gamze\")"
   ]
  },
  {
   "cell_type": "code",
   "execution_count": 16,
   "id": "f728dbf3",
   "metadata": {},
   "outputs": [
    {
     "name": "stdout",
     "output_type": "stream",
     "text": [
      "34 22 yaşındadır.\n"
     ]
    }
   ],
   "source": [
    "bitanefonksiyon(34)"
   ]
  },
  {
   "cell_type": "code",
   "execution_count": 17,
   "id": "be32ace9",
   "metadata": {},
   "outputs": [
    {
     "name": "stdout",
     "output_type": "stream",
     "text": [
      "ali 61 yaşındadır.\n"
     ]
    }
   ],
   "source": [
    "bitanefonksiyon(\"ali\",61)"
   ]
  },
  {
   "cell_type": "code",
   "execution_count": 18,
   "id": "2faf2d93",
   "metadata": {},
   "outputs": [],
   "source": [
    "def argu(a = \"dunya\", b = \"dünya\", c = \"mars\", d = \"satürn\") :\n",
    "    print(a, b, c, d, sep = \"\\n\")"
   ]
  },
  {
   "cell_type": "code",
   "execution_count": 19,
   "id": "ffd3ce2a",
   "metadata": {},
   "outputs": [
    {
     "name": "stdout",
     "output_type": "stream",
     "text": [
      "dunya\n",
      "dünya\n",
      "mars\n",
      "satürn\n"
     ]
    }
   ],
   "source": [
    "argu()"
   ]
  },
  {
   "cell_type": "code",
   "execution_count": 20,
   "id": "a63fd4b0",
   "metadata": {},
   "outputs": [
    {
     "ename": "SyntaxError",
     "evalue": "non-default argument follows default argument (1250077362.py, line 1)",
     "output_type": "error",
     "traceback": [
      "\u001b[0;36m  Input \u001b[0;32mIn [20]\u001b[0;36m\u001b[0m\n\u001b[0;31m    def argu(a, b = \"dünya\", c, d = \"satürn\") :\u001b[0m\n\u001b[0m                                ^\u001b[0m\n\u001b[0;31mSyntaxError\u001b[0m\u001b[0;31m:\u001b[0m non-default argument follows default argument\n"
     ]
    }
   ],
   "source": [
    "def argu(a, b = \"dünya\", c, d = \"satürn\") :\n",
    "    print(a, b, c, d, sep = \"\\n\")"
   ]
  },
  {
   "cell_type": "code",
   "execution_count": 21,
   "id": "65810995",
   "metadata": {},
   "outputs": [
    {
     "name": "stdout",
     "output_type": "stream",
     "text": [
      "dunya\n",
      "dünya\n",
      "mars\n",
      "satürn\n"
     ]
    }
   ],
   "source": [
    "argu()"
   ]
  },
  {
   "cell_type": "code",
   "execution_count": 22,
   "id": "4233a8bd",
   "metadata": {},
   "outputs": [
    {
     "name": "stdout",
     "output_type": "stream",
     "text": [
      "uranüs\n",
      "merkür\n",
      "uranüs\n",
      "dünya\n"
     ]
    }
   ],
   "source": [
    "argu(\"uranüs\", c= \"uranüs\", d = \"dünya\", b = \"merkür\")"
   ]
  }
 ],
 "metadata": {
  "kernelspec": {
   "display_name": "Python 3 (ipykernel)",
   "language": "python",
   "name": "python3"
  },
  "language_info": {
   "codemirror_mode": {
    "name": "ipython",
    "version": 3
   },
   "file_extension": ".py",
   "mimetype": "text/x-python",
   "name": "python",
   "nbconvert_exporter": "python",
   "pygments_lexer": "ipython3",
   "version": "3.9.12"
  }
 },
 "nbformat": 4,
 "nbformat_minor": 5
}
