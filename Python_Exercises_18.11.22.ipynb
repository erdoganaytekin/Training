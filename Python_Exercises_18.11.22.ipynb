{
 "cells": [
  {
   "cell_type": "code",
   "execution_count": 1,
   "id": "442858b5",
   "metadata": {},
   "outputs": [],
   "source": [
    "def sayHello(name=\"user\"):\n",
    "    print(\"Hello\" + name)"
   ]
  },
  {
   "cell_type": "code",
   "execution_count": 2,
   "id": "a7beedec",
   "metadata": {},
   "outputs": [
    {
     "name": "stdout",
     "output_type": "stream",
     "text": [
      "HelloNur\n",
      "HelloAdam\n",
      "Hellouser\n"
     ]
    }
   ],
   "source": [
    "sayHello(\"Nur\")\n",
    "sayHello(\"Adam\")\n",
    "sayHello()"
   ]
  },
  {
   "cell_type": "code",
   "execution_count": 3,
   "id": "f86afe5d",
   "metadata": {},
   "outputs": [
    {
     "data": {
      "text/plain": [
       "'HelloErdogan'"
      ]
     },
     "execution_count": 3,
     "metadata": {},
     "output_type": "execute_result"
    }
   ],
   "source": [
    "def sayHello(name=\"user\"):\n",
    "    return \"Hello\" + name\n",
    "\n",
    "msg = sayHello(\"Erdo\")\n",
    "msg = sayHello(\"Erdogan\")\n",
    "\n",
    "msg"
   ]
  },
  {
   "cell_type": "code",
   "execution_count": 4,
   "id": "27eb7cd6",
   "metadata": {},
   "outputs": [],
   "source": [
    "def total(num1, num2):\n",
    "    return num1 + num2\n",
    "\n",
    "result = total(10,20)\n",
    "result = total(15,20)"
   ]
  },
  {
   "cell_type": "code",
   "execution_count": 5,
   "id": "f9181c8d",
   "metadata": {},
   "outputs": [
    {
     "data": {
      "text/plain": [
       "35"
      ]
     },
     "execution_count": 5,
     "metadata": {},
     "output_type": "execute_result"
    }
   ],
   "source": [
    "result"
   ]
  },
  {
   "cell_type": "code",
   "execution_count": 6,
   "id": "68938b93",
   "metadata": {},
   "outputs": [
    {
     "name": "stdout",
     "output_type": "stream",
     "text": [
      "21 36 33\n"
     ]
    }
   ],
   "source": [
    "def yasHesapla(dogumyili):\n",
    "    return 2022-dogumyili\n",
    "\n",
    "Erdem =yasHesapla(2001)\n",
    "Volkan = yasHesapla(1986)\n",
    "Erdogan = yasHesapla(1989)\n",
    "\n",
    "print(Erdem, Volkan, Erdogan)"
   ]
  },
  {
   "cell_type": "code",
   "execution_count": 7,
   "id": "5be03b82",
   "metadata": {},
   "outputs": [
    {
     "name": "stdout",
     "output_type": "stream",
     "text": [
      "retire 44 years left\n",
      "retire 29 years left\n",
      "retire 32 years left\n"
     ]
    }
   ],
   "source": [
    "def retireday(birthday, name):\n",
    "    \n",
    "    age = yasHesapla(birthday)\n",
    "    retire = 65 - age\n",
    "    \n",
    "    if retire > 0:\n",
    "        print(f\"retire {retire} years left\")\n",
    "    else:\n",
    "        print(\"Already retired\")\n",
    "        \n",
    "retireday(2001, \"Erdem\")\n",
    "retireday(1986, \"Volkan\")\n",
    "retireday(1989, \"Erdogan\")"
   ]
  },
  {
   "cell_type": "code",
   "execution_count": 8,
   "id": "f16fd423",
   "metadata": {},
   "outputs": [
    {
     "name": "stdout",
     "output_type": "stream",
     "text": [
      "Help on method_descriptor:\n",
      "\n",
      "append(self, object, /)\n",
      "    Append object to the end of the list.\n",
      "\n",
      "None\n"
     ]
    }
   ],
   "source": [
    "liste = [1,2,3]\n",
    "\n",
    "print(help(list.append))"
   ]
  },
  {
   "cell_type": "code",
   "execution_count": 9,
   "id": "8208e151",
   "metadata": {},
   "outputs": [
    {
     "name": "stdout",
     "output_type": "stream",
     "text": [
      "volkan\n"
     ]
    }
   ],
   "source": [
    "def changename(n):\n",
    "    n = \"erdem\"\n",
    "    \n",
    "name = \"volkan\"\n",
    "\n",
    "changename(name)\n",
    "print(name)"
   ]
  },
  {
   "cell_type": "code",
   "execution_count": 10,
   "id": "054227a0",
   "metadata": {},
   "outputs": [
    {
     "name": "stdout",
     "output_type": "stream",
     "text": [
      "['istanbul', 'trabzon']\n"
     ]
    }
   ],
   "source": [
    "def change(n):\n",
    "    n[0] = \"istanbul\"\n",
    "    n[1] = \"trabzon\"\n",
    "    \n",
    "sehirler = [\"ankara\", \"izmir\"]\n",
    "\n",
    "change(sehirler)\n",
    "\n",
    "print(sehirler)"
   ]
  },
  {
   "cell_type": "code",
   "execution_count": 11,
   "id": "3a2dd460",
   "metadata": {},
   "outputs": [
    {
     "name": "stdout",
     "output_type": "stream",
     "text": [
      "['ankara', 'izmir']\n",
      "['istanbul', 'izmir']\n"
     ]
    }
   ],
   "source": [
    "sehirler = [\"ankara\", \"izmir\"]\n",
    "n = sehirler[:]\n",
    "\n",
    "n[0] = \"istanbul\"\n",
    "\n",
    "print(sehirler)\n",
    "print(n)"
   ]
  },
  {
   "cell_type": "code",
   "execution_count": 12,
   "id": "209d5371",
   "metadata": {},
   "outputs": [
    {
     "name": "stdout",
     "output_type": "stream",
     "text": [
      "30\n",
      "150\n"
     ]
    }
   ],
   "source": [
    "def add(a, b, c = 0, d = 0, e = 0):\n",
    "    return sum((a,b,c,d,e))\n",
    "\n",
    "print(add(10, 20))\n",
    "print(add(10, 20, 30, 40, 50))"
   ]
  },
  {
   "cell_type": "code",
   "execution_count": 13,
   "id": "4c0ddc12",
   "metadata": {},
   "outputs": [
    {
     "name": "stdout",
     "output_type": "stream",
     "text": [
      "30\n",
      "150\n",
      "280\n"
     ]
    }
   ],
   "source": [
    "def add(*params):\n",
    "    return sum((params))\n",
    "\n",
    "print(add(10, 20))\n",
    "print(add(10, 20, 30, 40, 50))\n",
    "print(add(10, 20, 30, 40, 50, 60, 70))"
   ]
  },
  {
   "cell_type": "code",
   "execution_count": 14,
   "id": "7158be6b",
   "metadata": {},
   "outputs": [
    {
     "name": "stdout",
     "output_type": "stream",
     "text": [
      "(10, 20)\n",
      "10\n",
      "20\n",
      "30\n",
      "(10, 20, 30, 40, 50)\n",
      "10\n",
      "20\n",
      "150\n",
      "(10, 20, 30, 40, 50, 60, 70)\n",
      "10\n",
      "20\n",
      "280\n"
     ]
    }
   ],
   "source": [
    "def add(*params):\n",
    "    print(params)\n",
    "    print(params[0])\n",
    "    print(params[1])\n",
    "    \n",
    "    return sum((params))\n",
    "\n",
    "print(add(10, 20))\n",
    "print(add(10, 20, 30, 40, 50))\n",
    "print(add(10, 20, 30, 40, 50, 60, 70))"
   ]
  },
  {
   "cell_type": "code",
   "execution_count": 15,
   "id": "f8819edb",
   "metadata": {},
   "outputs": [
    {
     "name": "stdout",
     "output_type": "stream",
     "text": [
      "<class 'tuple'>\n",
      "60\n",
      "<class 'tuple'>\n",
      "150\n",
      "<class 'tuple'>\n",
      "280\n"
     ]
    }
   ],
   "source": [
    "def add(*params):\n",
    "    print(type(params))\n",
    "    \n",
    "    sum = 0\n",
    "    \n",
    "    for i in params:\n",
    "        sum += i\n",
    "    \n",
    "    return sum\n",
    "\n",
    "print(add(10, 20,30 ))\n",
    "print(add(10, 20, 30, 40, 50))\n",
    "print(add(10, 20, 30, 40, 50, 60, 70))"
   ]
  },
  {
   "cell_type": "code",
   "execution_count": 16,
   "id": "1e2911b4",
   "metadata": {},
   "outputs": [
    {
     "name": "stdout",
     "output_type": "stream",
     "text": [
      "<class 'dict'>\n",
      "name is Erdem\n",
      "age is 20\n",
      "city is istanbul\n",
      "<class 'dict'>\n",
      "name is Nur\n",
      "age is 30\n",
      "city is ankara\n",
      "phone is 123\n",
      "<class 'dict'>\n",
      "name is Volkan\n",
      "age is 36\n",
      "city is tuzla\n",
      "phone is 1234\n",
      "email is volkansdsd\n"
     ]
    }
   ],
   "source": [
    "def displayuser(**args):\n",
    "    print(type(args))\n",
    "    for key, value in args.items():\n",
    "        print(\"{} is {}\".format(key, value))\n",
    "\n",
    "displayuser(name = \"Erdem\", age=20, city = \"istanbul\")\n",
    "displayuser(name = \"Nur\", age=30, city = \"ankara\", phone = \"123\")\n",
    "displayuser(name = \"Volkan\", age=36, city = \"tuzla\", phone = \"1234\", email = \"volkansdsd\")\n"
   ]
  },
  {
   "cell_type": "code",
   "execution_count": 17,
   "id": "f5d88c04",
   "metadata": {},
   "outputs": [
    {
     "name": "stdout",
     "output_type": "stream",
     "text": [
      "10\n",
      "20\n",
      "(30, 40, 50)\n",
      "{'key1': 'value1', 'key2': 'value2'}\n"
     ]
    }
   ],
   "source": [
    "def myfunc(a,b, *args, **kwargs):\n",
    "    print(a)\n",
    "    print(b)    \n",
    "    print(args)    \n",
    "    print(kwargs)\n",
    "    \n",
    "myfunc(10,20,30,40,50, key1 = \"value1\", key2 = \"value2\")"
   ]
  }
 ],
 "metadata": {
  "kernelspec": {
   "display_name": "Python 3 (ipykernel)",
   "language": "python",
   "name": "python3"
  },
  "language_info": {
   "codemirror_mode": {
    "name": "ipython",
    "version": 3
   },
   "file_extension": ".py",
   "mimetype": "text/x-python",
   "name": "python",
   "nbconvert_exporter": "python",
   "pygments_lexer": "ipython3",
   "version": "3.9.12"
  }
 },
 "nbformat": 4,
 "nbformat_minor": 5
}
