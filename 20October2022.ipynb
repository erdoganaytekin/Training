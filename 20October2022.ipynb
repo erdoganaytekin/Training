{
 "cells": [
  {
   "cell_type": "markdown",
   "id": "c022ceb5",
   "metadata": {},
   "source": [
    "# Lists&Slicing&Tuples"
   ]
  },
  {
   "cell_type": "code",
   "execution_count": 1,
   "id": "30a27cb8",
   "metadata": {},
   "outputs": [
    {
     "name": "stdout",
     "output_type": "stream",
     "text": [
      "Her _gün,# _her _hafta,# _bilgime _yeni _bilgiler _katıyorum,# _bu _beni _çok _motive _ediyor.\n"
     ]
    }
   ],
   "source": [
    "text = \"Her gün, her hafta, bilgime yeni bilgiler katıyorum, bu beni çok motive ediyor.\"\n",
    "print(text.replace(\",\", \",\"+chr(35)).replace(\" \", \" \"+chr(95)))"
   ]
  },
  {
   "cell_type": "code",
   "execution_count": 2,
   "id": "4eb952f0",
   "metadata": {},
   "outputs": [
    {
     "data": {
      "text/plain": [
       "'#'"
      ]
     },
     "execution_count": 2,
     "metadata": {},
     "output_type": "execute_result"
    }
   ],
   "source": [
    "chr(35)"
   ]
  },
  {
   "cell_type": "code",
   "execution_count": 3,
   "id": "8b472df3",
   "metadata": {},
   "outputs": [
    {
     "data": {
      "text/plain": [
       "'_'"
      ]
     },
     "execution_count": 3,
     "metadata": {},
     "output_type": "execute_result"
    }
   ],
   "source": [
    "chr(95)"
   ]
  },
  {
   "cell_type": "code",
   "execution_count": 4,
   "id": "afe761c5",
   "metadata": {},
   "outputs": [
    {
     "name": "stdout",
     "output_type": "stream",
     "text": [
      "Her _gün,# _her _hafta,# _bilgime _yeni _bilgiler _katıyorum,# _bu _beni _çok _motive _ediyor.\n"
     ]
    }
   ],
   "source": [
    "text = \"Her gün, her hafta, bilgime yeni bilgiler katıyorum, bu beni çok motive ediyor.\"\n",
    "print(text.replace(\",\", \",\"+chr(35)).replace(\" \", \" \"+chr(95)))"
   ]
  },
  {
   "cell_type": "code",
   "execution_count": 15,
   "id": "87f4af70",
   "metadata": {},
   "outputs": [
    {
     "name": "stdout",
     "output_type": "stream",
     "text": [
      "Her _gün,# _her _hafta,# _bilgime _yeni _bilgiler _katıyorum,# _bu _beni _çok _motive _ediyor.\n"
     ]
    }
   ],
   "source": [
    "text = \"Her gün, her hafta, bilgime yeni bilgiler katıyorum, bu beni çok motive ediyor.\"\n",
    "splitted_text1 = text.split(\",\")\n",
    "joined_text1 = \",#\".join(splitted_text1)\n",
    "splitted_text2 = joined_text1.split()\n",
    "Final_Text = \" _\".join(splitted_text2)\n",
    "print(Final_Text)"
   ]
  },
  {
   "cell_type": "code",
   "execution_count": 20,
   "id": "8b62a67b",
   "metadata": {},
   "outputs": [
    {
     "data": {
      "text/plain": [
       "'yellow'"
      ]
     },
     "execution_count": 20,
     "metadata": {},
     "output_type": "execute_result"
    }
   ],
   "source": [
    "[\"red\", \"purple\", \"blue\", \"yellow\", \"green\"][3]"
   ]
  },
  {
   "cell_type": "code",
   "execution_count": 28,
   "id": "c241e79d",
   "metadata": {},
   "outputs": [
    {
     "ename": "TypeError",
     "evalue": "'int' object is not subscriptable",
     "output_type": "error",
     "traceback": [
      "\u001b[0;31m---------------------------------------------------------------------------\u001b[0m",
      "\u001b[0;31mTypeError\u001b[0m                                 Traceback (most recent call last)",
      "Input \u001b[0;32mIn [28]\u001b[0m, in \u001b[0;36m<cell line: 2>\u001b[0;34m()\u001b[0m\n\u001b[1;32m      1\u001b[0m city \u001b[38;5;241m=\u001b[39m [[\u001b[38;5;241m1\u001b[39m,\u001b[38;5;241m2\u001b[39m,\u001b[38;5;241m3\u001b[39m,\u001b[38;5;241m5\u001b[39m,\u001b[38;5;241m6\u001b[39m,\u001b[38;5;241m7\u001b[39m,\u001b[38;5;241m8\u001b[39m]]\n\u001b[0;32m----> 2\u001b[0m \u001b[38;5;28mprint\u001b[39m(\u001b[43mcity\u001b[49m\u001b[43m[\u001b[49m\u001b[38;5;241;43m0\u001b[39;49m\u001b[43m]\u001b[49m\u001b[43m[\u001b[49m\u001b[38;5;241;43m2\u001b[39;49m\u001b[43m]\u001b[49m\u001b[43m[\u001b[49m\u001b[38;5;241;43m3\u001b[39;49m\u001b[43m]\u001b[49m)\n",
      "\u001b[0;31mTypeError\u001b[0m: 'int' object is not subscriptable"
     ]
    }
   ],
   "source": [
    "city = [[1,2,3,5,6,7,8]]\n",
    "print(city[0][2][3])"
   ]
  },
  {
   "cell_type": "code",
   "execution_count": 33,
   "id": "6942f78c",
   "metadata": {},
   "outputs": [
    {
     "name": "stdout",
     "output_type": "stream",
     "text": [
      "[[['New York', 'Istanbul', 'Seoul']]]\n"
     ]
    },
    {
     "data": {
      "text/plain": [
       "'u'"
      ]
     },
     "execution_count": 33,
     "metadata": {},
     "output_type": "execute_result"
    }
   ],
   "source": [
    "city1 = [['New York', 'Istanbul', 'Seoul']]\n",
    "city_list = []\n",
    "\n",
    "city_list.append(city1)\n",
    "print(city_list)\n",
    "city1[0][2][3]"
   ]
  },
  {
   "cell_type": "markdown",
   "id": "9e2acbf4",
   "metadata": {},
   "source": [
    "# Slicing"
   ]
  },
  {
   "cell_type": "code",
   "execution_count": 34,
   "id": "a9e585d3",
   "metadata": {},
   "outputs": [],
   "source": [
    "# ne slice liyorsaniz, slice sinizin tipide o dur."
   ]
  },
  {
   "cell_type": "code",
   "execution_count": 35,
   "id": "3b5c6271",
   "metadata": {},
   "outputs": [
    {
     "name": "stdout",
     "output_type": "stream",
     "text": [
      "('d', 'e')\n"
     ]
    }
   ],
   "source": [
    "a = (\"a\", \"b\", \"c\", \"d\", \"e\", \"f\", \"g\", \"h\")\n",
    "x = slice(3, 5)\n",
    "print(a[x])"
   ]
  },
  {
   "cell_type": "code",
   "execution_count": 36,
   "id": "23a93841",
   "metadata": {},
   "outputs": [
    {
     "name": "stdout",
     "output_type": "stream",
     "text": [
      "('a', 'd', 'g')\n"
     ]
    }
   ],
   "source": [
    "a = (\"a\", \"b\", \"c\", \"d\", \"e\", \"f\", \"g\", \"h\")\n",
    "x = slice(0, 8, 3)\n",
    "print(a[x])"
   ]
  },
  {
   "cell_type": "code",
   "execution_count": 51,
   "id": "b864ffe1",
   "metadata": {},
   "outputs": [
    {
     "name": "stdout",
     "output_type": "stream",
     "text": [
      "[1, 3, 5, 7, 9]\n",
      "[2, 4, 6, 8]\n"
     ]
    }
   ],
   "source": [
    "# select odd numbers\n",
    "# select even numbers\n",
    "x = list(range(1,10))\n",
    "print(x[::2])\n",
    "print(x[1::2])"
   ]
  },
  {
   "cell_type": "code",
   "execution_count": 60,
   "id": "6a824edd",
   "metadata": {},
   "outputs": [
    {
     "name": "stdout",
     "output_type": "stream",
     "text": [
      "[0, 1, 2, 3, 4, 5, 6, 7, 8, 9, 10]\n",
      "[1, 3, 5, 7, 9]\n",
      "[0, 2, 4, 6, 8, 10]\n"
     ]
    }
   ],
   "source": [
    "# select odd numbers\n",
    "# select even numbers\n",
    "numbers = list(range(11))\n",
    "print(numbers)\n",
    "print(numbers[1:11:2])\n",
    "print(numbers[:11:2])"
   ]
  },
  {
   "cell_type": "code",
   "execution_count": 62,
   "id": "4d4967a5",
   "metadata": {},
   "outputs": [
    {
     "data": {
      "text/plain": [
       "range(1, 11)"
      ]
     },
     "execution_count": 62,
     "metadata": {},
     "output_type": "execute_result"
    }
   ],
   "source": [
    "range(1,11)"
   ]
  },
  {
   "cell_type": "code",
   "execution_count": 70,
   "id": "c66eaeec",
   "metadata": {},
   "outputs": [
    {
     "data": {
      "text/plain": [
       "[1, 2, 3, 4, 5, 6, 7, 8, 9, 10]"
      ]
     },
     "execution_count": 70,
     "metadata": {},
     "output_type": "execute_result"
    }
   ],
   "source": [
    "number = list(range(1,11))\n",
    "number"
   ]
  },
  {
   "cell_type": "code",
   "execution_count": 71,
   "id": "b9a71c9b",
   "metadata": {},
   "outputs": [
    {
     "data": {
      "text/plain": [
       "[0, 1, 2, 3, 4, 5, 6, 7, 8, 9, 10]"
      ]
     },
     "execution_count": 71,
     "metadata": {},
     "output_type": "execute_result"
    }
   ],
   "source": [
    "number = list(range(11))\n",
    "number"
   ]
  },
  {
   "cell_type": "code",
   "execution_count": 74,
   "id": "cb939c79",
   "metadata": {},
   "outputs": [
    {
     "data": {
      "text/plain": [
       "[3, 5, 7, 9, 11, 13, 15, 17, 19]"
      ]
     },
     "execution_count": 74,
     "metadata": {},
     "output_type": "execute_result"
    }
   ],
   "source": [
    "x = range(3, 20, 2)\n",
    "list(x)"
   ]
  },
  {
   "cell_type": "code",
   "execution_count": 75,
   "id": "3f52adc2",
   "metadata": {},
   "outputs": [
    {
     "data": {
      "text/plain": [
       "range(0, 11)"
      ]
     },
     "execution_count": 75,
     "metadata": {},
     "output_type": "execute_result"
    }
   ],
   "source": [
    "range(11)"
   ]
  },
  {
   "cell_type": "code",
   "execution_count": 76,
   "id": "a054810b",
   "metadata": {},
   "outputs": [
    {
     "data": {
      "text/plain": [
       "range(0, -1)"
      ]
     },
     "execution_count": 76,
     "metadata": {},
     "output_type": "execute_result"
    }
   ],
   "source": [
    "range(-1)"
   ]
  },
  {
   "cell_type": "code",
   "execution_count": 81,
   "id": "a1a8b15d",
   "metadata": {},
   "outputs": [
    {
     "data": {
      "text/plain": [
       "[30, 27, 24, 21, 18, 15, 12, 9, 6, 3, 0, -3, -6, -9]"
      ]
     },
     "execution_count": 81,
     "metadata": {},
     "output_type": "execute_result"
    }
   ],
   "source": [
    "x = range(30, -11, -3)\n",
    "list(x)"
   ]
  },
  {
   "cell_type": "code",
   "execution_count": 100,
   "id": "78b3ac70",
   "metadata": {},
   "outputs": [
    {
     "name": "stdout",
     "output_type": "stream",
     "text": [
      "6\n"
     ]
    }
   ],
   "source": [
    "print(len([[1,2,3,4,5,5]][0]))"
   ]
  },
  {
   "cell_type": "code",
   "execution_count": 103,
   "id": "eba55785",
   "metadata": {},
   "outputs": [
    {
     "data": {
      "text/plain": [
       "9"
      ]
     },
     "execution_count": 103,
     "metadata": {},
     "output_type": "execute_result"
    }
   ],
   "source": [
    "len(\"clarusway\")"
   ]
  },
  {
   "cell_type": "code",
   "execution_count": 4,
   "id": "87f9a432",
   "metadata": {},
   "outputs": [
    {
     "name": "stdout",
     "output_type": "stream",
     "text": [
      "Choose a username: [4-10 characters] Erd\n",
      "The username must be between 4 and 10 characters long\n"
     ]
    }
   ],
   "source": [
    "usernames = input(\"Choose a username: [4-10 characters] \")\n",
    "\n",
    "if 4 <= len(usernames) <= 10:\n",
    "    print(f\"Thank you. The usernames {usernames} is valid\")\n",
    "else:\n",
    "    print(\"The usernames must be between 4 and 10 characters long\")"
   ]
  },
  {
   "cell_type": "code",
   "execution_count": 1,
   "id": "63136d19",
   "metadata": {},
   "outputs": [
    {
     "name": "stdout",
     "output_type": "stream",
     "text": [
      "The next color is red\n",
      "The next color is green\n",
      "The next color is blue\n",
      "The next color is yellow\n",
      "The next color is pink\n",
      "The next color is 3\n"
     ]
    }
   ],
   "source": [
    ">>> colors = [\"red\", \"green\", \"blue\", \"yellow\", \"pink\", \"3\"]\n",
    "\n",
    ">>> while len(colors) > 0:\n",
    "...     print(f\"The next color is {colors.pop(0)}\")"
   ]
  },
  {
   "cell_type": "code",
   "execution_count": 17,
   "id": "fd37e300",
   "metadata": {},
   "outputs": [
    {
     "name": "stdout",
     "output_type": "stream",
     "text": [
      "[10, 3, 1, 8, 9]\n",
      "[4, 10, 8, 4, 2]\n"
     ]
    }
   ],
   "source": [
    ">>> import random\n",
    "\n",
    ">>> numbers = [random.randint(1, 10) for _ in range(10)]\n",
    ">>> numbers\n",
    "[9, 1, 1, 2, 8, 10, 8, 6, 8, 5]\n",
    "\n",
    "firs_half = numbers[: len(numbers) // 2]\n",
    "secnd_half = numbers[len(numbers) // 2 :]\n",
    "\n",
    "print(firs_half)\n",
    "print(secnd_half)"
   ]
  },
  {
   "cell_type": "code",
   "execution_count": 20,
   "id": "ceb15c6b",
   "metadata": {},
   "outputs": [
    {
     "name": "stdout",
     "output_type": "stream",
     "text": [
      "['los', 'Istanbul', 'fgh']\n"
     ]
    }
   ],
   "source": [
    "city = ['los', 'fg', 'fgh']\n",
    "city[1] = 'Istanbul'\n",
    "\n",
    "print(city)"
   ]
  },
  {
   "cell_type": "code",
   "execution_count": 38,
   "id": "4a0d2b69",
   "metadata": {},
   "outputs": [],
   "source": [
    "a = [1,2,3,4,5]\n",
    "# del a[2]\n",
    "# a[2:3] = []\n",
    "# a.remove(3)\n",
    "# a[2:2]=[]"
   ]
  },
  {
   "cell_type": "code",
   "execution_count": 39,
   "id": "4e7b0eb3",
   "metadata": {},
   "outputs": [
    {
     "data": {
      "text/plain": [
       "[1, 2, 4, 5]"
      ]
     },
     "execution_count": 39,
     "metadata": {},
     "output_type": "execute_result"
    }
   ],
   "source": [
    "a"
   ]
  },
  {
   "cell_type": "markdown",
   "id": "edd39913",
   "metadata": {},
   "source": [
    "# Tuples"
   ]
  },
  {
   "cell_type": "code",
   "execution_count": 40,
   "id": "ea7baf34",
   "metadata": {},
   "outputs": [],
   "source": [
    "import sys"
   ]
  },
  {
   "cell_type": "code",
   "execution_count": 41,
   "id": "2c98d049",
   "metadata": {},
   "outputs": [],
   "source": [
    "x = [1, 2, 3]\n",
    "\n",
    "y = (1, 2, 3)"
   ]
  },
  {
   "cell_type": "code",
   "execution_count": 42,
   "id": "2a7aba74",
   "metadata": {},
   "outputs": [
    {
     "name": "stdout",
     "output_type": "stream",
     "text": [
      "120\n",
      "64\n"
     ]
    }
   ],
   "source": [
    "print(sys.getsizeof(x))\n",
    "print(sys.getsizeof(y))\n",
    "# Lists take 2 times up space from tuples"
   ]
  },
  {
   "cell_type": "code",
   "execution_count": 43,
   "id": "99a634e8",
   "metadata": {},
   "outputs": [
    {
     "name": "stdout",
     "output_type": "stream",
     "text": [
      "Solar\n",
      "<class 'str'>\n"
     ]
    }
   ],
   "source": [
    "my_tuple = (\"Solar\")\n",
    "\n",
    "print(my_tuple, type(my_tuple), sep=\"\\n\")"
   ]
  },
  {
   "cell_type": "code",
   "execution_count": 44,
   "id": "e19e5cb2",
   "metadata": {},
   "outputs": [
    {
     "name": "stdout",
     "output_type": "stream",
     "text": [
      "('Solar',)\n",
      "<class 'tuple'>\n"
     ]
    }
   ],
   "source": [
    "my_tuple = (\"Solar\",)\n",
    "\n",
    "print(my_tuple, type(my_tuple), sep=\"\\n\")"
   ]
  },
  {
   "cell_type": "code",
   "execution_count": 45,
   "id": "0ca2516b",
   "metadata": {},
   "outputs": [
    {
     "name": "stdout",
     "output_type": "stream",
     "text": [
      "<class 'list'> [1, 2, 3, 4, 5, 6]\n"
     ]
    }
   ],
   "source": [
    "my_tuple = (1,2,3,4,5,6)\n",
    "my_list = list(my_tuple)\n",
    "\n",
    "print(type(my_list),my_list)"
   ]
  },
  {
   "cell_type": "code",
   "execution_count": 51,
   "id": "06e983be",
   "metadata": {},
   "outputs": [],
   "source": [
    "c = 10"
   ]
  },
  {
   "cell_type": "code",
   "execution_count": 52,
   "id": "10b62984",
   "metadata": {},
   "outputs": [
    {
     "data": {
      "text/plain": [
       "10"
      ]
     },
     "execution_count": 52,
     "metadata": {},
     "output_type": "execute_result"
    }
   ],
   "source": [
    "c"
   ]
  },
  {
   "cell_type": "code",
   "execution_count": 53,
   "id": "f0c2bb74",
   "metadata": {},
   "outputs": [],
   "source": [
    "a, b, c = 1, 2, 3"
   ]
  },
  {
   "cell_type": "code",
   "execution_count": 54,
   "id": "93663990",
   "metadata": {},
   "outputs": [
    {
     "data": {
      "text/plain": [
       "3"
      ]
     },
     "execution_count": 54,
     "metadata": {},
     "output_type": "execute_result"
    }
   ],
   "source": [
    "c"
   ]
  },
  {
   "cell_type": "code",
   "execution_count": 55,
   "id": "ed957338",
   "metadata": {},
   "outputs": [],
   "source": [
    "x = 1, 2, 3"
   ]
  },
  {
   "cell_type": "code",
   "execution_count": 56,
   "id": "655e5a20",
   "metadata": {},
   "outputs": [
    {
     "data": {
      "text/plain": [
       "(1, 2, 3)"
      ]
     },
     "execution_count": 56,
     "metadata": {},
     "output_type": "execute_result"
    }
   ],
   "source": [
    "x"
   ]
  },
  {
   "cell_type": "code",
   "execution_count": 57,
   "id": "78200a91",
   "metadata": {},
   "outputs": [
    {
     "ename": "TypeError",
     "evalue": "cannot unpack non-iterable int object",
     "output_type": "error",
     "traceback": [
      "\u001b[0;31m---------------------------------------------------------------------------\u001b[0m",
      "\u001b[0;31mTypeError\u001b[0m                                 Traceback (most recent call last)",
      "Input \u001b[0;32mIn [57]\u001b[0m, in \u001b[0;36m<cell line: 1>\u001b[0;34m()\u001b[0m\n\u001b[0;32m----> 1\u001b[0m x, y \u001b[38;5;241m=\u001b[39m \u001b[38;5;241m3\u001b[39m\n",
      "\u001b[0;31mTypeError\u001b[0m: cannot unpack non-iterable int object"
     ]
    }
   ],
   "source": [
    "x, y = 3"
   ]
  },
  {
   "cell_type": "code",
   "execution_count": 58,
   "id": "aa91c46a",
   "metadata": {},
   "outputs": [
    {
     "data": {
      "text/plain": [
       "tuple"
      ]
     },
     "execution_count": 58,
     "metadata": {},
     "output_type": "execute_result"
    }
   ],
   "source": [
    "type(x)"
   ]
  },
  {
   "cell_type": "code",
   "execution_count": null,
   "id": "67ebd41b",
   "metadata": {},
   "outputs": [],
   "source": []
  }
 ],
 "metadata": {
  "kernelspec": {
   "display_name": "Python 3 (ipykernel)",
   "language": "python",
   "name": "python3"
  },
  "language_info": {
   "codemirror_mode": {
    "name": "ipython",
    "version": 3
   },
   "file_extension": ".py",
   "mimetype": "text/x-python",
   "name": "python",
   "nbconvert_exporter": "python",
   "pygments_lexer": "ipython3",
   "version": "3.9.12"
  }
 },
 "nbformat": 4,
 "nbformat_minor": 5
}
