{
 "cells": [
  {
   "cell_type": "markdown",
   "id": "642e1e21",
   "metadata": {},
   "source": [
    "# Dictionaries"
   ]
  },
  {
   "cell_type": "code",
   "execution_count": 18,
   "id": "a708ea9e",
   "metadata": {},
   "outputs": [
    {
     "name": "stdout",
     "output_type": "stream",
     "text": [
      "{'brother': 'X', 'me': 'E', 'friend': 'N'}\n",
      "{'brother': 'X', 'me': 'E', 'friend': 'N', 'brother2': 'V'}\n"
     ]
    }
   ],
   "source": [
    "family = {\"brother\" : \"X\" ,\n",
    "          \"me\" : \"E\",\n",
    "          \"friend\" : \"N\"}\n",
    "print(family)\n",
    "family[\"brother2\"] = \"V\"\n",
    "print(family)"
   ]
  },
  {
   "cell_type": "code",
   "execution_count": 19,
   "id": "76577172",
   "metadata": {
    "scrolled": true
   },
   "outputs": [
    {
     "name": "stdout",
     "output_type": "stream",
     "text": [
      "{'brother': 'X', 'me': 'E', 'friend': 'N', 'brother2': 'V'}\n"
     ]
    }
   ],
   "source": [
    "family1 = dict(brother = \"X\",\n",
    "              me = \"E\",\n",
    "              friend = \"N\",\n",
    "              brother2 = \"V\")\n",
    "print(family1)"
   ]
  },
  {
   "cell_type": "code",
   "execution_count": 3,
   "id": "8719a279",
   "metadata": {},
   "outputs": [
    {
     "name": "stdout",
     "output_type": "stream",
     "text": [
      "{'brother': 'X', 'me': 'E', 'friend': 'N'}\n",
      "{'brother': 'X', 'me': 'E', 'friend': 'N', 'brother2': 'V'}\n"
     ]
    }
   ],
   "source": [
    "family1 = dict(brother = \"X\",\n",
    "              me = \"E\",\n",
    "              friend = \"N\",)\n",
    "print(family1)\n",
    "family1[\"brother2\"] = \"V\"\n",
    "print(family1)"
   ]
  },
  {
   "cell_type": "code",
   "execution_count": null,
   "id": "b22ac91e",
   "metadata": {},
   "outputs": [],
   "source": []
  }
 ],
 "metadata": {
  "kernelspec": {
   "display_name": "Python 3 (ipykernel)",
   "language": "python",
   "name": "python3"
  },
  "language_info": {
   "codemirror_mode": {
    "name": "ipython",
    "version": 3
   },
   "file_extension": ".py",
   "mimetype": "text/x-python",
   "name": "python",
   "nbconvert_exporter": "python",
   "pygments_lexer": "ipython3",
   "version": "3.9.12"
  }
 },
 "nbformat": 4,
 "nbformat_minor": 5
}
