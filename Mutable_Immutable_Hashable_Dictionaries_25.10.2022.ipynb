{
 "cells": [
  {
   "cell_type": "markdown",
   "id": "2a219933",
   "metadata": {},
   "source": [
    "<a id=\"toc\"></a>\n",
    "\n",
    "## <p style=\"background-color:#9d4f8c; font-family:newtimeroman; color:#FFF9ED; font-size:175%; text-align:center; border-radius:10px 10px;\">Mutable & Immutable ve Hashable</p>"
   ]
  },
  {
   "cell_type": "markdown",
   "id": "1b18aa23",
   "metadata": {},
   "source": [
    "Python'da IMMUTABLE nesneler, zamanla değerlerini ve niteliklerini değiştirmeyen nesnelerdir.\n",
    "\n",
    "Bu nesneler bir kere oluşturulduktan sonra kalıcı hale gelirler.\n",
    "\n",
    "MUTABLE nesneler ise; doğası gereği yerinde değiştirilebilen veya üzerinde düzenleme yapılabilen nesnelerdir.\n",
    "\n",
    "Bir nesne ömrü boyunca değişmeyen bir HASH değerine sahipse ona HASHABLE nesne deriz. \n",
    "    \n",
    "Integer, string, tuple gibi IMMUTABLE nesneler, değişmeyen bir HASH değerine sahiptir.\n",
    "    \n",
    "HASHABLE; bir nesnenin bir hash değerine sahip olup olmadığını söyleyen Python nesnelerinin bir özelliğidir."
   ]
  },
  {
   "cell_type": "markdown",
   "id": "d8ea1a42",
   "metadata": {},
   "source": [
    "# mutable & immutable"
   ]
  },
  {
   "cell_type": "markdown",
   "id": "10a73567",
   "metadata": {},
   "source": [
    "```\n",
    "mutable:\n",
    "\n",
    "list \n",
    "dictionary \n",
    "set \n",
    "user-defined classes\n",
    "```"
   ]
  },
  {
   "cell_type": "markdown",
   "id": "f0cf7721",
   "metadata": {},
   "source": [
    "```\n",
    "immutable:\n",
    "\n",
    "int \n",
    "float \n",
    "decimal \n",
    "bool \n",
    "string \n",
    "tuple\n",
    "range\n",
    "```"
   ]
  },
  {
   "cell_type": "markdown",
   "id": "ce80d4ad",
   "metadata": {},
   "source": [
    "# hash() fonksiyonu:\n",
    "\n",
    "**hash() fonksiyonu; hashable olan bir objectin \"hash\" değerini döndürür (return eder).**"
   ]
  },
  {
   "cell_type": "code",
   "execution_count": 10,
   "id": "7e23ad57",
   "metadata": {},
   "outputs": [
    {
     "data": {
      "text/plain": [
       "10"
      ]
     },
     "execution_count": 10,
     "metadata": {},
     "output_type": "execute_result"
    }
   ],
   "source": [
    "sayı = 10\n",
    "\n",
    "hash(sayı)"
   ]
  },
  {
   "cell_type": "code",
   "execution_count": 11,
   "id": "e52e33a6",
   "metadata": {},
   "outputs": [
    {
     "data": {
      "text/plain": [
       "-5243956872704000614"
      ]
     },
     "execution_count": 11,
     "metadata": {},
     "output_type": "execute_result"
    }
   ],
   "source": [
    "hash(\"10\")"
   ]
  },
  {
   "cell_type": "code",
   "execution_count": 12,
   "id": "85d0e9f9",
   "metadata": {},
   "outputs": [
    {
     "data": {
      "text/plain": [
       "921612938217002878"
      ]
     },
     "execution_count": 12,
     "metadata": {},
     "output_type": "execute_result"
    }
   ],
   "source": [
    "hash(\"c\")"
   ]
  },
  {
   "cell_type": "code",
   "execution_count": 13,
   "id": "85f14974",
   "metadata": {},
   "outputs": [
    {
     "data": {
      "text/plain": [
       "-1113910635330181180"
      ]
     },
     "execution_count": 13,
     "metadata": {},
     "output_type": "execute_result"
    }
   ],
   "source": [
    "hash(\"clarusway\")"
   ]
  },
  {
   "cell_type": "code",
   "execution_count": 14,
   "id": "5ec4780e",
   "metadata": {},
   "outputs": [],
   "source": [
    "a = \"10\""
   ]
  },
  {
   "cell_type": "code",
   "execution_count": 15,
   "id": "62b56f5c",
   "metadata": {},
   "outputs": [
    {
     "data": {
      "text/plain": [
       "-5243956872704000614"
      ]
     },
     "execution_count": 15,
     "metadata": {},
     "output_type": "execute_result"
    }
   ],
   "source": [
    "hash(a)"
   ]
  },
  {
   "cell_type": "code",
   "execution_count": 16,
   "id": "8ea46b03",
   "metadata": {},
   "outputs": [],
   "source": [
    "listem = [10, 20, 30]"
   ]
  },
  {
   "cell_type": "code",
   "execution_count": 17,
   "id": "b710b790",
   "metadata": {},
   "outputs": [
    {
     "ename": "TypeError",
     "evalue": "unhashable type: 'list'",
     "output_type": "error",
     "traceback": [
      "\u001b[1;31m---------------------------------------------------------------------------\u001b[0m",
      "\u001b[1;31mTypeError\u001b[0m                                 Traceback (most recent call last)",
      "Input \u001b[1;32mIn [17]\u001b[0m, in \u001b[0;36m<cell line: 1>\u001b[1;34m()\u001b[0m\n\u001b[1;32m----> 1\u001b[0m \u001b[38;5;28;43mhash\u001b[39;49m\u001b[43m(\u001b[49m\u001b[43mlistem\u001b[49m\u001b[43m)\u001b[49m\n",
      "\u001b[1;31mTypeError\u001b[0m: unhashable type: 'list'"
     ]
    }
   ],
   "source": [
    "hash(listem)  # list object'ler unhashable'dır. Hash değerleri yoktur. Değiştirilebilirler."
   ]
  },
  {
   "cell_type": "code",
   "execution_count": 18,
   "id": "3f70d199",
   "metadata": {},
   "outputs": [
    {
     "name": "stdout",
     "output_type": "stream",
     "text": [
      "the tuple hash value is : -5659871693760987716\n"
     ]
    },
    {
     "ename": "TypeError",
     "evalue": "unhashable type: 'list'",
     "output_type": "error",
     "traceback": [
      "\u001b[1;31m---------------------------------------------------------------------------\u001b[0m",
      "\u001b[1;31mTypeError\u001b[0m                                 Traceback (most recent call last)",
      "Input \u001b[1;32mIn [18]\u001b[0m, in \u001b[0;36m<cell line: 8>\u001b[1;34m()\u001b[0m\n\u001b[0;32m      3\u001b[0m listem \u001b[38;5;241m=\u001b[39m [\u001b[38;5;241m1\u001b[39m, \u001b[38;5;241m2\u001b[39m, \u001b[38;5;241m3\u001b[39m, \u001b[38;5;241m4\u001b[39m, \u001b[38;5;241m5\u001b[39m]\n\u001b[0;32m      6\u001b[0m \u001b[38;5;28mprint\u001b[39m(\u001b[38;5;124m\"\u001b[39m\u001b[38;5;124mthe tuple hash value is : \u001b[39m\u001b[38;5;124m\"\u001b[39m \u001b[38;5;241m+\u001b[39m \u001b[38;5;28mstr\u001b[39m(\u001b[38;5;28mhash\u001b[39m(tupılım)))\n\u001b[1;32m----> 8\u001b[0m \u001b[38;5;28mprint\u001b[39m(\u001b[38;5;124m\"\u001b[39m\u001b[38;5;124mthe list hash value is : \u001b[39m\u001b[38;5;124m\"\u001b[39m \u001b[38;5;241m+\u001b[39m \u001b[38;5;28mstr\u001b[39m(\u001b[38;5;28;43mhash\u001b[39;49m\u001b[43m(\u001b[49m\u001b[43mlistem\u001b[49m\u001b[43m)\u001b[49m))\n",
      "\u001b[1;31mTypeError\u001b[0m: unhashable type: 'list'"
     ]
    }
   ],
   "source": [
    "tupılım = (1, 2, 3, 4, 5)\n",
    "\n",
    "listem = [1, 2, 3, 4, 5]\n",
    "\n",
    "\n",
    "print(\"the tuple hash value is : \" + str(hash(tupılım)))\n",
    "\n",
    "print(\"the list hash value is : \" + str(hash(listem)))  # type hatası verecek!"
   ]
  },
  {
   "cell_type": "code",
   "execution_count": 19,
   "id": "20db7e2c",
   "metadata": {},
   "outputs": [
    {
     "data": {
      "text/plain": [
       "-5243956872704000614"
      ]
     },
     "execution_count": 19,
     "metadata": {},
     "output_type": "execute_result"
    }
   ],
   "source": [
    "# kernel'i (runtime'ı) restart ettikten sonra \"10\" stringinin hash değeri değişir.\n",
    "\n",
    "hash(\"10\")  # \n",
    "\n",
    "# Değişken vs. herşey runtime'ınızın çalışma süresi boyunca hafızada tutulur. \n",
    "# Runtime'ınızı resetlediğinizde hafıza tamamen boşalır."
   ]
  },
  {
   "cell_type": "markdown",
   "id": "b8cb4865",
   "metadata": {},
   "source": [
    "## Bir object'in bir \"hash\" değeri varsa (hashable ise), o object değiştirilemez olduğundan bir dictionary'nin \"key\" i veya bir kümenin (set) bir elemanı olarak kullanılabilir."
   ]
  },
  {
   "cell_type": "code",
   "execution_count": 20,
   "id": "312db3f2",
   "metadata": {},
   "outputs": [
    {
     "name": "stdout",
     "output_type": "stream",
     "text": [
      "{'friend1': {'name': 'Ali', 'age': 35, 'is_student': True, 'assgnmnt_grades': [8, 8, 9]}, 'friend2': {'name': 'Deli', 'age': 38, 'is_student': True, 'assgnmnt_grades': [9, 9, 10]}, 'friend3': {'name': 'Veli', 'age': 40, 'is_student': False, 'assgnmnt_grades': [10, 10, 10]}}\n"
     ]
    }
   ],
   "source": [
    "friends = {\n",
    "    \"friend1\" : {\"name\" : \"Ali\", \n",
    "                 \"age\" : 35, \n",
    "                 \"is_student\" : True,\n",
    "                 \"assgnmnt_grades\" : [8, 8, 9]},\n",
    "    \n",
    "    \"friend2\" : {\"name\" : \n",
    "                 \"Deli\", \n",
    "                 \"age\" : 38, \n",
    "                 \"is_student\" : True,\n",
    "                \"assgnmnt_grades\" : [9, 9, 10]},\n",
    "    \n",
    "    \"friend3\" : {\"name\" : \n",
    "                 \"Veli\", \n",
    "                 \"age\" : 40, \n",
    "                 \"is_student\" : False,\n",
    "                \"assgnmnt_grades\" : [10, 10, 10]}\n",
    "}\n",
    "\n",
    "print(friends)"
   ]
  },
  {
   "cell_type": "code",
   "execution_count": 21,
   "id": "77fe8682",
   "metadata": {},
   "outputs": [
    {
     "data": {
      "text/plain": [
       "[9, 9, 10]"
      ]
     },
     "execution_count": 21,
     "metadata": {},
     "output_type": "execute_result"
    }
   ],
   "source": [
    "friends[\"friend2\"][\"assgnmnt_grades\"]"
   ]
  },
  {
   "cell_type": "code",
   "execution_count": 22,
   "id": "c23f3af9",
   "metadata": {},
   "outputs": [
    {
     "data": {
      "text/plain": [
       "{(1, 2, 3): 'value'}"
      ]
     },
     "execution_count": 22,
     "metadata": {},
     "output_type": "execute_result"
    }
   ],
   "source": [
    "sözlük = {}\n",
    "\n",
    "key1 = (1,2,3)\n",
    "\n",
    "sözlük[key1] = \"value\"\n",
    "\n",
    "sözlük"
   ]
  },
  {
   "cell_type": "code",
   "execution_count": 23,
   "id": "403f28de",
   "metadata": {},
   "outputs": [
    {
     "data": {
      "text/plain": [
       "{(1, 2, 3): 'value', 45: 'value2'}"
      ]
     },
     "execution_count": 23,
     "metadata": {},
     "output_type": "execute_result"
    }
   ],
   "source": [
    "key2 = 45\n",
    "\n",
    "sözlük[key2] = \"value2\"\n",
    "\n",
    "sözlük"
   ]
  },
  {
   "cell_type": "code",
   "execution_count": 24,
   "id": "25a1717d",
   "metadata": {},
   "outputs": [
    {
     "data": {
      "text/plain": [
       "{(1, 2, 3): 'value', 45: 'value2', 'Fuad': 'value'}"
      ]
     },
     "execution_count": 24,
     "metadata": {},
     "output_type": "execute_result"
    }
   ],
   "source": [
    "key3 = \"Fuad\"\n",
    "\n",
    "sözlük[key3] = \"value\"\n",
    "\n",
    "sözlük"
   ]
  },
  {
   "cell_type": "code",
   "execution_count": 25,
   "id": "270402c6",
   "metadata": {},
   "outputs": [
    {
     "ename": "TypeError",
     "evalue": "unhashable type: 'list'",
     "output_type": "error",
     "traceback": [
      "\u001b[1;31m---------------------------------------------------------------------------\u001b[0m",
      "\u001b[1;31mTypeError\u001b[0m                                 Traceback (most recent call last)",
      "Input \u001b[1;32mIn [25]\u001b[0m, in \u001b[0;36m<cell line: 3>\u001b[1;34m()\u001b[0m\n\u001b[0;32m      1\u001b[0m key4 \u001b[38;5;241m=\u001b[39m [\u001b[38;5;241m1\u001b[39m, \u001b[38;5;241m2\u001b[39m, \u001b[38;5;241m3\u001b[39m]\n\u001b[1;32m----> 3\u001b[0m sözlük[key4] \u001b[38;5;241m=\u001b[39m \u001b[38;5;124m\"\u001b[39m\u001b[38;5;124mvalue\u001b[39m\u001b[38;5;124m\"\u001b[39m\n",
      "\u001b[1;31mTypeError\u001b[0m: unhashable type: 'list'"
     ]
    }
   ],
   "source": [
    "key4 = [1, 2, 3]\n",
    "\n",
    "sözlük[key4] = \"value\"  # string object'ler unhashable'dır. Hash değerleri yoktur. \n",
    "                        # Değiştirilebilirler."
   ]
  },
  {
   "cell_type": "code",
   "execution_count": 26,
   "id": "2cbe8df2",
   "metadata": {},
   "outputs": [
    {
     "ename": "TypeError",
     "evalue": "unhashable type: 'dict'",
     "output_type": "error",
     "traceback": [
      "\u001b[1;31m---------------------------------------------------------------------------\u001b[0m",
      "\u001b[1;31mTypeError\u001b[0m                                 Traceback (most recent call last)",
      "Input \u001b[1;32mIn [26]\u001b[0m, in \u001b[0;36m<cell line: 3>\u001b[1;34m()\u001b[0m\n\u001b[0;32m      1\u001b[0m key5 \u001b[38;5;241m=\u001b[39m {\u001b[38;5;124m\"\u001b[39m\u001b[38;5;124ma\u001b[39m\u001b[38;5;124m\"\u001b[39m : \u001b[38;5;241m1\u001b[39m, \u001b[38;5;124m\"\u001b[39m\u001b[38;5;124mb\u001b[39m\u001b[38;5;124m\"\u001b[39m : \u001b[38;5;241m2\u001b[39m}\n\u001b[1;32m----> 3\u001b[0m sözlük[key5] \u001b[38;5;241m=\u001b[39m \u001b[38;5;124m\"\u001b[39m\u001b[38;5;124mvalue\u001b[39m\u001b[38;5;124m\"\u001b[39m\n",
      "\u001b[1;31mTypeError\u001b[0m: unhashable type: 'dict'"
     ]
    }
   ],
   "source": [
    "key5 = {\"a\" : 1, \"b\" : 2}\n",
    "\n",
    "sözlük[key5] = \"value\"   # dictionary object'ler unhashable'dır. Hash değerleri yoktur. \n",
    "                        # Değiştirilebilirler."
   ]
  },
  {
   "cell_type": "markdown",
   "id": "c66c4275",
   "metadata": {},
   "source": [
    "<a id=\"toc\"></a>\n",
    "\n",
    "## <p style=\"background-color:#9d4f8c; font-family:newtimeroman; color:#FFF9ED; font-size:175%; text-align:center; border-radius:10px 10px;\">Dictionary oluşturma yöntemleri</p>"
   ]
  },
  {
   "cell_type": "markdown",
   "id": "600466e4",
   "metadata": {},
   "source": [
    "## dict() fonksiyonu, içine dictionary item formatında (pair - pair) veri girildiğinde onu dictionary'e çevirir."
   ]
  },
  {
   "cell_type": "code",
   "execution_count": 27,
   "id": "c9b5b8f0",
   "metadata": {},
   "outputs": [
    {
     "data": {
      "text/plain": [
       "{'bir': 1, 'iki': 'iki', 'üç': 3.0}"
      ]
     },
     "execution_count": 27,
     "metadata": {},
     "output_type": "execute_result"
    }
   ],
   "source": [
    "dict(bir = 1, iki = \"iki\", üç = 3.0)\n",
    "\n",
    "# değişken ataması yaparak dictionary oluşturduk.\n",
    "# değişken ataması yaparken değişkenlere isim verme kurallarına uymamız gerekiyor.\n",
    "# aksi halde hata alırız."
   ]
  },
  {
   "cell_type": "code",
   "execution_count": 28,
   "id": "9995a825",
   "metadata": {},
   "outputs": [
    {
     "ename": "SyntaxError",
     "evalue": "expression cannot contain assignment, perhaps you meant \"==\"? (2530265408.py, line 1)",
     "output_type": "error",
     "traceback": [
      "\u001b[1;36m  Input \u001b[1;32mIn [28]\u001b[1;36m\u001b[0m\n\u001b[1;33m    dict(\"bir\" = 1, 2 = \"iki\", üç% = 3.0)\u001b[0m\n\u001b[1;37m         ^\u001b[0m\n\u001b[1;31mSyntaxError\u001b[0m\u001b[1;31m:\u001b[0m expression cannot contain assignment, perhaps you meant \"==\"?\n"
     ]
    }
   ],
   "source": [
    "dict(\"bir\" = 1, 2 = \"iki\", üç% = 3.0)  \n",
    "# key isimleri olacak değişkenlere uygun olmayan isimler verildi"
   ]
  },
  {
   "cell_type": "markdown",
   "id": "dc0d6ef2",
   "metadata": {},
   "source": [
    "## İkişer elemanlı tuple'lardan oluşan bir liste ile dictionary create edebiliriz."
   ]
  },
  {
   "cell_type": "code",
   "execution_count": 29,
   "id": "8599947f",
   "metadata": {},
   "outputs": [
    {
     "name": "stdout",
     "output_type": "stream",
     "text": [
      "{'a': 'A', 'b': 'B', 'c': 'C'}\n"
     ]
    }
   ],
   "source": [
    "listoftuple = [(\"a\", \"A\"), (\"b\", \"B\"), (\"c\", \"C\")]\n",
    "\n",
    "tuples_dict = dict(listoftuple)\n",
    "\n",
    "print(tuples_dict)"
   ]
  },
  {
   "cell_type": "markdown",
   "id": "ce5e187f",
   "metadata": {},
   "source": [
    "## Düz listeden (plain list) dictionary yapma yöntemi:"
   ]
  },
  {
   "cell_type": "code",
   "execution_count": 30,
   "id": "816460cd",
   "metadata": {},
   "outputs": [],
   "source": [
    "düzlistem = [1,2,3,4,5]\n",
    "düzlistem = [1,2,3,4,5]"
   ]
  },
  {
   "cell_type": "code",
   "execution_count": 31,
   "id": "f0bcdbd4",
   "metadata": {},
   "outputs": [
    {
     "data": {
      "text/plain": [
       "<zip at 0x1f809968640>"
      ]
     },
     "execution_count": 31,
     "metadata": {},
     "output_type": "execute_result"
    }
   ],
   "source": [
    "zip(düzlistem, düzlistem)   # zip fonksiyonun docstringine bakınız! \n",
    "\n",
    "# zip, iki iterable'ın karşılıklı elemanlarını bir tuple'da bir araya getirerek\n",
    "# havada bir zip object generate eder."
   ]
  },
  {
   "cell_type": "code",
   "execution_count": 32,
   "id": "5e2df9c8",
   "metadata": {},
   "outputs": [
    {
     "data": {
      "text/plain": [
       "[(1, 1), (2, 2), (3, 3), (4, 4), (5, 5)]"
      ]
     },
     "execution_count": 32,
     "metadata": {},
     "output_type": "execute_result"
    }
   ],
   "source": [
    "zip_list = zip(düzlistem, düzlistem)  \n",
    "# aynı iki listeyi zip'in içine atarak zip object oluşturduk.\n",
    "\n",
    "list(zip_list) # havada zip object'i görünür yapmak için onu listeye çevirebiliriz."
   ]
  },
  {
   "cell_type": "code",
   "execution_count": 33,
   "id": "4c205ac9",
   "metadata": {},
   "outputs": [
    {
     "data": {
      "text/plain": [
       "[]"
      ]
     },
     "execution_count": 33,
     "metadata": {},
     "output_type": "execute_result"
    }
   ],
   "source": [
    "list(zip_list)  \n",
    "# zip fonk. ile generate edilen zip object'in elemanları \n",
    " # görünür yapılıp bir kere kullanıldığında zip object boşalır. "
   ]
  },
  {
   "cell_type": "code",
   "execution_count": 34,
   "id": "d70181ad",
   "metadata": {},
   "outputs": [
    {
     "data": {
      "text/plain": [
       "[(1, 1), (2, 2), (3, 3), (4, 4), (5, 5)]"
      ]
     },
     "execution_count": 34,
     "metadata": {},
     "output_type": "execute_result"
    }
   ],
   "source": [
    "# zip object'i tekrar generate etmeliyiz\n",
    "\n",
    "zip_list = zip(düzlistem, düzlistem)  \n",
    "\n",
    "list(zip_list)"
   ]
  },
  {
   "cell_type": "code",
   "execution_count": 35,
   "id": "49e4839a",
   "metadata": {},
   "outputs": [
    {
     "name": "stdout",
     "output_type": "stream",
     "text": [
      "(1, 1) (2, 2) (3, 3) (4, 4) (5, 5)\n"
     ]
    }
   ],
   "source": [
    "zip_list = zip(düzlistem, düzlistem)\n",
    "\n",
    "print(*zip_list)  # print ( * zip object) syntax'i de zip object'i görünür yapar."
   ]
  },
  {
   "cell_type": "code",
   "execution_count": 36,
   "id": "b6358e27",
   "metadata": {},
   "outputs": [
    {
     "name": "stdout",
     "output_type": "stream",
     "text": [
      "\n"
     ]
    }
   ],
   "source": [
    "print(*zip_list)  # generate edildikten sonra print(* ) ile görünür yapılan \n",
    "                # zip object boşaldı."
   ]
  },
  {
   "cell_type": "code",
   "execution_count": 37,
   "id": "d9a4cd41",
   "metadata": {},
   "outputs": [
    {
     "data": {
      "text/plain": [
       "{1: 1, 2: 2, 3: 3, 4: 4, 5: 5}"
      ]
     },
     "execution_count": 37,
     "metadata": {},
     "output_type": "execute_result"
    }
   ],
   "source": [
    "zip_list = zip(düzlistem, düzlistem)\n",
    "\n",
    "dict(list(zip_list))  # pair pair tuple'lardan oluşan listeden bir dictionary oluşturabiliyoruz."
   ]
  },
  {
   "cell_type": "code",
   "execution_count": 38,
   "id": "a17ed290",
   "metadata": {},
   "outputs": [
    {
     "data": {
      "text/plain": [
       "{0: 0,\n",
       " 1: 1,\n",
       " 2: 2,\n",
       " 3: 3,\n",
       " 4: 4,\n",
       " 5: 5,\n",
       " 6: 6,\n",
       " 7: 7,\n",
       " 8: 8,\n",
       " 9: 9,\n",
       " 10: 10,\n",
       " 11: 11,\n",
       " 12: 12,\n",
       " 13: 13,\n",
       " 14: 14,\n",
       " 15: 15,\n",
       " 16: 16,\n",
       " 17: 17,\n",
       " 18: 18,\n",
       " 19: 19,\n",
       " 20: 20,\n",
       " 21: 21,\n",
       " 22: 22,\n",
       " 23: 23,\n",
       " 24: 24,\n",
       " 25: 25,\n",
       " 26: 26,\n",
       " 27: 27,\n",
       " 28: 28,\n",
       " 29: 29}"
      ]
     },
     "execution_count": 38,
     "metadata": {},
     "output_type": "execute_result"
    }
   ],
   "source": [
    "# sonradan key ve value'ları doldurulmak üzere elimizde uzun bir dictionary hazır bulunmasını\n",
    "# istiyorsak bu yöntemle onu oluşturabiliriz.\n",
    "\n",
    "basitliste2 = list(range(30))\n",
    "dict(list(zip(basitliste2, basitliste2)))\n"
   ]
  },
  {
   "cell_type": "markdown",
   "id": "40717eb6",
   "metadata": {},
   "source": [
    "<a id=\"toc\"></a>\n",
    "\n",
    "## <p style=\"background-color:#9d4f8c; font-family:newtimeroman; color:#FFF9ED; font-size:175%; text-align:center; border-radius:10px 10px;\">Dictionary'yi keylerine göre sıralama</p>"
   ]
  },
  {
   "cell_type": "code",
   "execution_count": 39,
   "id": "dd42cc0a",
   "metadata": {},
   "outputs": [],
   "source": [
    "# bunun için desserts dictionary'si üzerinden ilerleyelim: \n",
    "\n",
    "desserts = {\n",
    "    \"Ice cream\":10,\n",
    "    \"Brownies\":12,\n",
    "    \"Cheesecake\":3,\n",
    "    \"Swiss roll\":5,\n",
    "    \"Cookies\":4,\n",
    "    \"Cup cake\":2\n",
    "}"
   ]
  },
  {
   "cell_type": "code",
   "execution_count": 40,
   "id": "e49aa25e",
   "metadata": {},
   "outputs": [
    {
     "name": "stdout",
     "output_type": "stream",
     "text": [
      "dict_keys(['Ice cream', 'Brownies', 'Cheesecake', 'Swiss roll', 'Cookies', 'Cup cake'])\n",
      "dict_values([10, 12, 3, 5, 4, 2])\n"
     ]
    }
   ],
   "source": [
    "# önce keylerine ulaşalım:\n",
    "\n",
    "keys = desserts.keys()\n",
    "values = desserts.values()\n",
    "print(keys)\n",
    "print(values)"
   ]
  },
  {
   "cell_type": "markdown",
   "id": "6d2a209d",
   "metadata": {},
   "source": [
    "**sorted() fonksiyonu ile bu dict_keys listesini sıralayabiliriz:**"
   ]
  },
  {
   "cell_type": "code",
   "execution_count": 41,
   "id": "43af55e0",
   "metadata": {},
   "outputs": [
    {
     "name": "stdout",
     "output_type": "stream",
     "text": [
      "['Brownies', 'Cheesecake', 'Cookies', 'Cup cake', 'Ice cream', 'Swiss roll']\n"
     ]
    }
   ],
   "source": [
    "sorted_keys = sorted(keys)  # sıralanmış key'leri sorted_keys değişkenine atadık.\n",
    "# sorted_keys = sorted(desserts.keys())\n",
    "\n",
    "print(sorted_keys)\n",
    "\n",
    "# Artık alfabetik olarak sıralanmış key'lerimiz var. "
   ]
  },
  {
   "cell_type": "code",
   "execution_count": 42,
   "id": "f399d880",
   "metadata": {},
   "outputs": [
    {
     "data": {
      "text/plain": [
       "{'Brownies': 12}"
      ]
     },
     "execution_count": 42,
     "metadata": {},
     "output_type": "execute_result"
    }
   ],
   "source": [
    "# sıralanmış olan key'lerden yeni bir dictionary oluşturmak istiyorum.\n",
    "# böylece eski dict.'mi keylerine göre sıralamış olacağım.\n",
    "\n",
    "sorted_desserts={}  # önce boş bir dict. oluşturuyorum.\n",
    "\n",
    "sorted_desserts[\"Brownies\"] = desserts[\"Brownies\"] \n",
    "\n",
    "# sorted_keys listesine bakarak belirlediğim eski dictionarimin (alfabetik olarak) \n",
    "# ilk sıradaki key'ini sorted_desserts isimli yeni dict'ime ekledim.\n",
    "\n",
    "sorted_desserts"
   ]
  },
  {
   "cell_type": "code",
   "execution_count": 43,
   "id": "7dddf6ea",
   "metadata": {},
   "outputs": [
    {
     "data": {
      "text/plain": [
       "{'Brownies': 12, 'Cheesecake': 3}"
      ]
     },
     "execution_count": 43,
     "metadata": {},
     "output_type": "execute_result"
    }
   ],
   "source": [
    "# eski dictionarimin alfabetik olarak ikinci sıradaki keyinden; \n",
    "# yeni dict'imin ikinci key-value çiftini oluşturuyorum.\n",
    "\n",
    "sorted_desserts[\"Cheesecake\"] = desserts[\"Cheesecake\"] \n",
    "sorted_desserts"
   ]
  },
  {
   "cell_type": "code",
   "execution_count": 44,
   "id": "fed1e612",
   "metadata": {},
   "outputs": [
    {
     "data": {
      "text/plain": [
       "{'Brownies': 12, 'Cheesecake': 3, 'Cookies': 4}"
      ]
     },
     "execution_count": 44,
     "metadata": {},
     "output_type": "execute_result"
    }
   ],
   "source": [
    "# eski dictionarimin alfabetik olarak 3. sıradaki keyinden; \n",
    "# yeni dict'imin 3. key-value çiftini oluşturuyorum\n",
    "\n",
    "sorted_desserts[\"Cookies\"] = desserts[\"Cookies\"] \n",
    "sorted_desserts"
   ]
  },
  {
   "cell_type": "code",
   "execution_count": 45,
   "id": "baaf81de",
   "metadata": {},
   "outputs": [
    {
     "data": {
      "text/plain": [
       "{'Brownies': 12, 'Cheesecake': 3, 'Cookies': 4, 'Cup cake': 2}"
      ]
     },
     "execution_count": 45,
     "metadata": {},
     "output_type": "execute_result"
    }
   ],
   "source": [
    "# eski dictionarimin alfabetik olarak 4. sıradaki keyinden; \n",
    "# yeni dict'imin 4. key-value çiftini oluşturuyorum.\n",
    "\n",
    "sorted_desserts[\"Cup cake\"] = desserts[\"Cup cake\"]\n",
    "sorted_desserts"
   ]
  },
  {
   "cell_type": "code",
   "execution_count": 46,
   "id": "74954cad",
   "metadata": {},
   "outputs": [
    {
     "data": {
      "text/plain": [
       "{'Brownies': 12, 'Cheesecake': 3, 'Cookies': 4, 'Cup cake': 2, 'Ice cream': 10}"
      ]
     },
     "execution_count": 46,
     "metadata": {},
     "output_type": "execute_result"
    }
   ],
   "source": [
    "# ve bu şekilde devam ediyorum.\n",
    "\n",
    "sorted_desserts[\"Ice cream\"] = desserts[\"Ice cream\"] \n",
    "sorted_desserts"
   ]
  },
  {
   "cell_type": "code",
   "execution_count": 47,
   "id": "1abacb29",
   "metadata": {},
   "outputs": [
    {
     "data": {
      "text/plain": [
       "{'Brownies': 12,\n",
       " 'Cheesecake': 3,\n",
       " 'Cookies': 4,\n",
       " 'Cup cake': 2,\n",
       " 'Ice cream': 10,\n",
       " 'Swiss roll': 5}"
      ]
     },
     "execution_count": 47,
     "metadata": {},
     "output_type": "execute_result"
    }
   ],
   "source": [
    "# yeni dict'imin son item'ını da oluşturuyorum.\n",
    "\n",
    "sorted_desserts[\"Swiss roll\"] = desserts[\"Swiss roll\"] \n",
    "sorted_desserts"
   ]
  },
  {
   "cell_type": "raw",
   "id": "c5816be9",
   "metadata": {},
   "source": [
    "Bu şekilde keyleri manuel olarak sıraya koysam da bunun kısa bir yolu olmalı.\n",
    "böyle tek tek manuel olarak atama yapmak yerine (dictionarinin onbinlerce key-value çiftinden oluştuğunu hayal edin) döngüleri kullanarak çok daha pratik olarak bunu yapabiliyoruz. \n",
    "\n",
    "for döngüleri konusuna ilerde gireceğiz. şimdilik döngülerin hayatımızı nasıl kolaylaştırdığını anlamak için aşağıdaki koda bakmak yeterli. "
   ]
  },
  {
   "cell_type": "code",
   "execution_count": 48,
   "id": "d8900452",
   "metadata": {},
   "outputs": [
    {
     "name": "stdout",
     "output_type": "stream",
     "text": [
      "{'Brownies': 12, 'Cheesecake': 3, 'Cookies': 4, 'Cup cake': 2, 'Ice cream': 10, 'Swiss roll': 5}\n"
     ]
    }
   ],
   "source": [
    "sorted_desserts = {}  \n",
    "for key in sorted_keys:  # sorted_keys listesi içinde dolaş.\n",
    "    sorted_desserts[key] = desserts[key]  # her iterasyonda yeni sorted_desserts dict.in key'lerini oluştur.\n",
    "                                # value'ları keylere atarken orjinal desserts dictionarisinin keylerini kullan. \n",
    "print(sorted_desserts)"
   ]
  }
 ],
 "metadata": {
  "kernelspec": {
   "display_name": "Python 3 (ipykernel)",
   "language": "python",
   "name": "python3"
  },
  "language_info": {
   "codemirror_mode": {
    "name": "ipython",
    "version": 3
   },
   "file_extension": ".py",
   "mimetype": "text/x-python",
   "name": "python",
   "nbconvert_exporter": "python",
   "pygments_lexer": "ipython3",
   "version": "3.9.12"
  }
 },
 "nbformat": 4,
 "nbformat_minor": 5
}
