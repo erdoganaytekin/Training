{
 "cells": [
  {
   "cell_type": "markdown",
   "id": "a2688ecb",
   "metadata": {},
   "source": [
    "# DICTIONARIES"
   ]
  },
  {
   "cell_type": "code",
   "execution_count": 2,
   "id": "90415c50",
   "metadata": {},
   "outputs": [
    {
     "name": "stdout",
     "output_type": "stream",
     "text": [
      "e t a r a p e s\n"
     ]
    }
   ],
   "source": [
    "print(*('separate')[::-1])"
   ]
  },
  {
   "cell_type": "code",
   "execution_count": 3,
   "id": "45459088",
   "metadata": {},
   "outputs": [],
   "source": [
    "number_of_shoes = {\"ali\" : 1,\n",
    "                  \"veli\" : 1,\n",
    "                  \"deli\" : 1\n",
    "                  }"
   ]
  },
  {
   "cell_type": "code",
   "execution_count": 5,
   "id": "6f0ba184",
   "metadata": {},
   "outputs": [
    {
     "data": {
      "text/plain": [
       "{'ali': 1, 'veli': 1, 'deli': 1}"
      ]
     },
     "execution_count": 5,
     "metadata": {},
     "output_type": "execute_result"
    }
   ],
   "source": [
    "number_of_shoes"
   ]
  },
  {
   "cell_type": "code",
   "execution_count": 16,
   "id": "5f396a17",
   "metadata": {},
   "outputs": [
    {
     "data": {
      "text/plain": [
       "6"
      ]
     },
     "execution_count": 16,
     "metadata": {},
     "output_type": "execute_result"
    }
   ],
   "source": [
    "number_of_shoes[\"ali\"]"
   ]
  },
  {
   "cell_type": "code",
   "execution_count": 24,
   "id": "54087806",
   "metadata": {},
   "outputs": [
    {
     "data": {
      "text/plain": [
       "{'ali': 2, 'veli': 0, 'deli': 1}"
      ]
     },
     "execution_count": 24,
     "metadata": {},
     "output_type": "execute_result"
    }
   ],
   "source": [
    "number_of_shoes[\"ali\"]-=1\n",
    "\n",
    "number_of_shoes"
   ]
  },
  {
   "cell_type": "code",
   "execution_count": 47,
   "id": "e9ee7e96",
   "metadata": {},
   "outputs": [
    {
     "data": {
      "text/plain": [
       "{'animal': 'dog',\n",
       " 'planet': 'neptun',\n",
       " 'number': 40,\n",
       " 'pi': 3.14,\n",
       " 'is_good': True}"
      ]
     },
     "execution_count": 47,
     "metadata": {},
     "output_type": "execute_result"
    }
   ],
   "source": [
    "dict_by_dict = dict(animal = \"dog\", \n",
    "                    planet = \"neptun\", \n",
    "                    number = 40, \n",
    "                    pi = 3.14, \n",
    "                    is_good = True)\n",
    "dict_by_dict"
   ]
  },
  {
   "cell_type": "code",
   "execution_count": 36,
   "id": "1d48d615",
   "metadata": {},
   "outputs": [
    {
     "data": {
      "text/plain": [
       "'dog'"
      ]
     },
     "execution_count": 36,
     "metadata": {},
     "output_type": "execute_result"
    }
   ],
   "source": [
    "dict_by_dict[\"animal\"]"
   ]
  },
  {
   "cell_type": "code",
   "execution_count": 37,
   "id": "f41ad58a",
   "metadata": {},
   "outputs": [],
   "source": [
    "# dict_by_dict = {'animal' : \"dog\", \n",
    "#                     'planet' : \"neptun\", \n",
    "#                     'number' : 40, \n",
    "#                     'pi' : 3.14, \n",
    "#                     'is_good' : True}\n",
    "# dict_by_dict"
   ]
  },
  {
   "cell_type": "code",
   "execution_count": 38,
   "id": "1fe4743d",
   "metadata": {},
   "outputs": [
    {
     "data": {
      "text/plain": [
       "True"
      ]
     },
     "execution_count": 38,
     "metadata": {},
     "output_type": "execute_result"
    }
   ],
   "source": [
    "dict_by_dict[\"is_good\"]"
   ]
  },
  {
   "cell_type": "code",
   "execution_count": 42,
   "id": "a0383c8c",
   "metadata": {},
   "outputs": [
    {
     "data": {
      "text/plain": [
       "bool"
      ]
     },
     "execution_count": 42,
     "metadata": {},
     "output_type": "execute_result"
    }
   ],
   "source": [
    "type(dict_by_dict[\"is_good\"])"
   ]
  },
  {
   "cell_type": "code",
   "execution_count": 45,
   "id": "768a8c8f",
   "metadata": {},
   "outputs": [],
   "source": [
    "dict_by_dict.clear()"
   ]
  },
  {
   "cell_type": "code",
   "execution_count": 48,
   "id": "a2b9f525",
   "metadata": {},
   "outputs": [
    {
     "data": {
      "text/plain": [
       "{'animal': 'dog',\n",
       " 'planet': 'neptun',\n",
       " 'number': 40,\n",
       " 'pi': 3.14,\n",
       " 'is_good': True}"
      ]
     },
     "execution_count": 48,
     "metadata": {},
     "output_type": "execute_result"
    }
   ],
   "source": [
    "dict_by_dict"
   ]
  },
  {
   "cell_type": "code",
   "execution_count": 50,
   "id": "c011a40d",
   "metadata": {},
   "outputs": [
    {
     "name": "stdout",
     "output_type": "stream",
     "text": [
      "dict_items([('animal', 'dog'), ('planet', 'neptun'), ('number', 40), ('pi', 3.14), ('is_good', True)]) \n",
      "\n",
      "dict_keys(['animal', 'planet', 'number', 'pi', 'is_good']) \n",
      "\n",
      "dict_values(['dog', 'neptun', 40, 3.14, True])\n"
     ]
    }
   ],
   "source": [
    "print(dict_by_dict.items(), '\\n')\n",
    "print(dict_by_dict.keys(), '\\n')\n",
    "print(dict_by_dict.values())\n"
   ]
  },
  {
   "cell_type": "code",
   "execution_count": 51,
   "id": "3f48ead9",
   "metadata": {},
   "outputs": [],
   "source": [
    "dict_by_dict.update({\"mehmet\" : \"bay\", 11 : \"integer\"})"
   ]
  },
  {
   "cell_type": "code",
   "execution_count": 52,
   "id": "b2f73cf0",
   "metadata": {},
   "outputs": [
    {
     "data": {
      "text/plain": [
       "{'animal': 'dog',\n",
       " 'planet': 'neptun',\n",
       " 'number': 40,\n",
       " 'pi': 3.14,\n",
       " 'is_good': True,\n",
       " 'mehmet': 'bay',\n",
       " 11: 'integer'}"
      ]
     },
     "execution_count": 52,
     "metadata": {},
     "output_type": "execute_result"
    }
   ],
   "source": [
    "dict_by_dict"
   ]
  },
  {
   "cell_type": "code",
   "execution_count": 54,
   "id": "8cf5ae03",
   "metadata": {},
   "outputs": [],
   "source": [
    "mix_values_1 = {'brother': ('dog', 'cat'),\n",
    "                'planet': ['Neptun', 'Saturn', 'Jupiter'],\n",
    "                'number': 40,\n",
    "                'pi': 3.14,\n",
    "                'is_good': True}\n",
    "\n",
    "# Second way to create a dict with dict() function\n",
    "\n",
    "mix_values_2 = dict(animal='dog', \n",
    "                    planet='neptun', \n",
    "                    number=40, \n",
    "                    pi=3.14, \n",
    "                    is_good=True)"
   ]
  },
  {
   "cell_type": "code",
   "execution_count": 55,
   "id": "a5626d73",
   "metadata": {},
   "outputs": [
    {
     "name": "stdout",
     "output_type": "stream",
     "text": [
      "dict_items([('animal', ('dog', 'cat')), ('planet', ['Neptun', 'Saturn', 'Jupiter']), ('number', 40), ('pi', 3.14), ('is_good', True)]) \n",
      "\n",
      "dict_keys(['animal', 'planet', 'number', 'pi', 'is_good']) \n",
      "\n",
      "dict_values([('dog', 'cat'), ['Neptun', 'Saturn', 'Jupiter'], 40, 3.14, True])\n",
      "dict_items([('animal', 'dog'), ('planet', 'neptun'), ('number', 40), ('pi', 3.14), ('is_good', True)]) \n",
      "\n",
      "dict_keys(['animal', 'planet', 'number', 'pi', 'is_good']) \n",
      "\n",
      "dict_values(['dog', 'neptun', 40, 3.14, True])\n"
     ]
    }
   ],
   "source": [
    "print(mix_values_1.items(), '\\n')\n",
    "print(mix_values_1.keys(), '\\n')\n",
    "print(mix_values_1.values())\n",
    "\n",
    "print(mix_values_2.items(), '\\n')\n",
    "print(mix_values_2.keys(), '\\n')\n",
    "print(mix_values_2.values())\n"
   ]
  },
  {
   "cell_type": "code",
   "execution_count": 56,
   "id": "4be05e11",
   "metadata": {},
   "outputs": [
    {
     "name": "stdout",
     "output_type": "stream",
     "text": [
      "{'brother': 'X', 'me': 'E', 'friend': 'N'}\n",
      "{'brother': 'X', 'me': 'E', 'friend': 'N', 'brother2': 'V'}\n",
      "{'brother': 'X', 'me': 'E', 'friend': 'N'}\n",
      "{'brother': 'X', 'me': 'E', 'friend': 'N', 'brother2': 'V'}\n"
     ]
    }
   ],
   "source": [
    "family1 = dict(brother = \"X\",\n",
    "              me = \"E\",\n",
    "              friend = \"N\",)\n",
    "print(family1)\n",
    "family1[\"brother2\"] = \"V\"\n",
    "print(family1)\n",
    "\n",
    "family = {\"brother\" : \"X\" ,\n",
    "          \"me\" : \"E\",\n",
    "          \"friend\" : \"N\"}\n",
    "print(family)\n",
    "family[\"brother2\"] = \"V\"\n",
    "print(family)"
   ]
  },
  {
   "cell_type": "code",
   "execution_count": 60,
   "id": "c6dd7536",
   "metadata": {},
   "outputs": [
    {
     "name": "stdout",
     "output_type": "stream",
     "text": [
      "[('brother', 'X'), ('me', 'E'), ('friend', 'N'), ('brother2', 'V')] \n",
      "\n",
      "['brother', 'me', 'friend', 'brother2'] \n",
      "\n",
      "['X', 'E', 'N', 'V']\n",
      "[('brother', 'X'), ('me', 'E'), ('friend', 'N'), ('brother2', 'V')] \n",
      "\n",
      "['brother', 'me', 'friend', 'brother2'] \n",
      "\n",
      "['X', 'E', 'N', 'V']\n"
     ]
    }
   ],
   "source": [
    "print(list(family1.items()), '\\n')\n",
    "print(list(family1.keys()), '\\n')\n",
    "print(list(family1.values()))\n",
    "\n",
    "print(list(family.items()), '\\n')\n",
    "print(list(family.keys()), '\\n')\n",
    "print(list(family.values()))"
   ]
  },
  {
   "cell_type": "code",
   "execution_count": 62,
   "id": "5212e56b",
   "metadata": {},
   "outputs": [
    {
     "data": {
      "text/plain": [
       "7"
      ]
     },
     "execution_count": 62,
     "metadata": {},
     "output_type": "execute_result"
    }
   ],
   "source": [
    "len(dict_by_dict.items())"
   ]
  },
  {
   "cell_type": "code",
   "execution_count": 64,
   "id": "deea31dd",
   "metadata": {},
   "outputs": [
    {
     "data": {
      "text/plain": [
       "[('animal', 'dog'),\n",
       " ('planet', 'neptun'),\n",
       " ('number', 40),\n",
       " ('pi', 3.14),\n",
       " ('is_good', True),\n",
       " ('mehmet', 'bay'),\n",
       " (11, 'integer')]"
      ]
     },
     "execution_count": 64,
     "metadata": {},
     "output_type": "execute_result"
    }
   ],
   "source": [
    "list(dict_by_dict.items())"
   ]
  },
  {
   "cell_type": "code",
   "execution_count": 65,
   "id": "589823fa",
   "metadata": {},
   "outputs": [
    {
     "data": {
      "text/plain": [
       "('animal', 'planet', 'number', 'pi', 'is_good', 'mehmet', 11)"
      ]
     },
     "execution_count": 65,
     "metadata": {},
     "output_type": "execute_result"
    }
   ],
   "source": [
    "tuple(dict_by_dict.keys())"
   ]
  },
  {
   "cell_type": "code",
   "execution_count": 66,
   "id": "2c4e5094",
   "metadata": {},
   "outputs": [
    {
     "data": {
      "text/plain": [
       "('dog', 'neptun', 40, 3.14, True, 'bay', 'integer')"
      ]
     },
     "execution_count": 66,
     "metadata": {},
     "output_type": "execute_result"
    }
   ],
   "source": [
    "tuple(dict_by_dict.values())"
   ]
  },
  {
   "cell_type": "code",
   "execution_count": 68,
   "id": "53362208",
   "metadata": {},
   "outputs": [
    {
     "data": {
      "text/plain": [
       "dict_items([('animal', 'dog'), ('planet', 'neptun'), ('number', 40), ('pi', 3.14), ('is_good', True), ('mehmet', 'bay'), (11, 'integer')])"
      ]
     },
     "execution_count": 68,
     "metadata": {},
     "output_type": "execute_result"
    }
   ],
   "source": [
    "dict_by_dict.items()"
   ]
  },
  {
   "cell_type": "code",
   "execution_count": 70,
   "id": "5310edb2",
   "metadata": {
    "scrolled": false
   },
   "outputs": [
    {
     "data": {
      "text/plain": [
       "[('animal', 'dog'),\n",
       " ('planet', 'neptun'),\n",
       " ('number', 40),\n",
       " ('pi', 3.14),\n",
       " ('is_good', True),\n",
       " ('mehmet', 'bay'),\n",
       " (11, 'integer')]"
      ]
     },
     "execution_count": 70,
     "metadata": {},
     "output_type": "execute_result"
    }
   ],
   "source": [
    "list(dict_by_dict.items())"
   ]
  },
  {
   "cell_type": "code",
   "execution_count": 72,
   "id": "99046d68",
   "metadata": {},
   "outputs": [],
   "source": [
    "items = list(dict_by_dict.items())"
   ]
  },
  {
   "cell_type": "code",
   "execution_count": 73,
   "id": "e62dbb67",
   "metadata": {},
   "outputs": [
    {
     "data": {
      "text/plain": [
       "('animal', 'dog')"
      ]
     },
     "execution_count": 73,
     "metadata": {},
     "output_type": "execute_result"
    }
   ],
   "source": [
    "items[0]"
   ]
  },
  {
   "cell_type": "code",
   "execution_count": 76,
   "id": "d2039de0",
   "metadata": {},
   "outputs": [
    {
     "data": {
      "text/plain": [
       "2"
      ]
     },
     "execution_count": 76,
     "metadata": {},
     "output_type": "execute_result"
    }
   ],
   "source": [
    "len(items[5])"
   ]
  },
  {
   "cell_type": "code",
   "execution_count": 75,
   "id": "59be0b43",
   "metadata": {},
   "outputs": [
    {
     "data": {
      "text/plain": [
       "[('animal', 'dog'),\n",
       " ('planet', 'neptun'),\n",
       " ('number', 40),\n",
       " ('pi', 3.14),\n",
       " ('is_good', True),\n",
       " ('mehmet', 'bay'),\n",
       " (11, 'integer')]"
      ]
     },
     "execution_count": 75,
     "metadata": {},
     "output_type": "execute_result"
    }
   ],
   "source": [
    "items[::]"
   ]
  },
  {
   "cell_type": "code",
   "execution_count": 77,
   "id": "94adefa3",
   "metadata": {},
   "outputs": [],
   "source": [
    "x, y = items[0]"
   ]
  },
  {
   "cell_type": "code",
   "execution_count": 78,
   "id": "3ff836bc",
   "metadata": {},
   "outputs": [
    {
     "data": {
      "text/plain": [
       "('animal', 'dog')"
      ]
     },
     "execution_count": 78,
     "metadata": {},
     "output_type": "execute_result"
    }
   ],
   "source": [
    "x, y "
   ]
  },
  {
   "cell_type": "code",
   "execution_count": 80,
   "id": "1fcdc96e",
   "metadata": {},
   "outputs": [
    {
     "data": {
      "text/plain": [
       "str"
      ]
     },
     "execution_count": 80,
     "metadata": {},
     "output_type": "execute_result"
    }
   ],
   "source": [
    "type(x)"
   ]
  },
  {
   "cell_type": "code",
   "execution_count": 81,
   "id": "39dbfaf4",
   "metadata": {},
   "outputs": [
    {
     "data": {
      "text/plain": [
       "str"
      ]
     },
     "execution_count": 81,
     "metadata": {},
     "output_type": "execute_result"
    }
   ],
   "source": [
    "type(y)"
   ]
  },
  {
   "cell_type": "code",
   "execution_count": 82,
   "id": "8b35ff3b",
   "metadata": {},
   "outputs": [
    {
     "data": {
      "text/plain": [
       "dict_keys(['animal', 'planet', 'number', 'pi', 'is_good', 'mehmet', 11])"
      ]
     },
     "execution_count": 82,
     "metadata": {},
     "output_type": "execute_result"
    }
   ],
   "source": [
    "dict_by_dict.keys()"
   ]
  },
  {
   "cell_type": "code",
   "execution_count": 83,
   "id": "d815052a",
   "metadata": {},
   "outputs": [
    {
     "data": {
      "text/plain": [
       "{3.14, 40, True, 'bay', 'dog', 'integer', 'neptun'}"
      ]
     },
     "execution_count": 83,
     "metadata": {},
     "output_type": "execute_result"
    }
   ],
   "source": [
    "set(dict_by_dict.values())"
   ]
  },
  {
   "cell_type": "code",
   "execution_count": 85,
   "id": "d6c8ee35",
   "metadata": {},
   "outputs": [
    {
     "name": "stdout",
     "output_type": "stream",
     "text": [
      "{'brother': 'X', 'me': 'E', 'friend': 'N', 'brother2': 'V'}\n"
     ]
    }
   ],
   "source": [
    "family1 = dict(brother = \"X\",\n",
    "              me = \"E\",\n",
    "              friend = \"N\",\n",
    "            brother2 = \"V\")\n",
    "print(family1)"
   ]
  },
  {
   "cell_type": "code",
   "execution_count": 86,
   "id": "59e240be",
   "metadata": {},
   "outputs": [
    {
     "data": {
      "text/plain": [
       "['brother', 'me', 'friend', 'brother2']"
      ]
     },
     "execution_count": 86,
     "metadata": {},
     "output_type": "execute_result"
    }
   ],
   "source": [
    "list(family1)"
   ]
  },
  {
   "cell_type": "code",
   "execution_count": 89,
   "id": "1ba73e0c",
   "metadata": {},
   "outputs": [
    {
     "data": {
      "text/plain": [
       "[('brother', 'X'), ('me', 'E'), ('friend', 'N'), ('brother2', 'V')]"
      ]
     },
     "execution_count": 89,
     "metadata": {},
     "output_type": "execute_result"
    }
   ],
   "source": [
    "list(family1.items())\n"
   ]
  },
  {
   "cell_type": "code",
   "execution_count": 90,
   "id": "e2f0469a",
   "metadata": {},
   "outputs": [
    {
     "data": {
      "text/plain": [
       "['brother', 'me', 'friend', 'brother2']"
      ]
     },
     "execution_count": 90,
     "metadata": {},
     "output_type": "execute_result"
    }
   ],
   "source": [
    "list(family1.keys())\n"
   ]
  },
  {
   "cell_type": "code",
   "execution_count": 92,
   "id": "623747a6",
   "metadata": {},
   "outputs": [
    {
     "data": {
      "text/plain": [
       "['X', 'E', 'N', 'V']"
      ]
     },
     "execution_count": 92,
     "metadata": {},
     "output_type": "execute_result"
    }
   ],
   "source": [
    "list(family1.values())"
   ]
  },
  {
   "cell_type": "code",
   "execution_count": 96,
   "id": "ea48f60c",
   "metadata": {},
   "outputs": [
    {
     "data": {
      "text/plain": [
       "{'brother': 'X', 'me': 'E', 'friend': 'N', 'brother2': 'V', 'names': 'ERD'}"
      ]
     },
     "execution_count": 96,
     "metadata": {},
     "output_type": "execute_result"
    }
   ],
   "source": [
    "family1[\"names\"] = \"ERD\"\n",
    "\n",
    "family1"
   ]
  },
  {
   "cell_type": "code",
   "execution_count": 99,
   "id": "16296dbc",
   "metadata": {},
   "outputs": [
    {
     "data": {
      "text/plain": [
       "{'brother': 'X',\n",
       " 'me': 'E',\n",
       " 'friend': 'N',\n",
       " 'brother2': 'V',\n",
       " 'names': 'ERDo',\n",
       " 'names1': 'ERDo'}"
      ]
     },
     "execution_count": 99,
     "metadata": {},
     "output_type": "execute_result"
    }
   ],
   "source": [
    "family1.update({\"names1\" : \"ERDo\"})\n",
    "\n",
    "family1"
   ]
  },
  {
   "cell_type": "code",
   "execution_count": 101,
   "id": "3d2bbc08",
   "metadata": {},
   "outputs": [
    {
     "data": {
      "text/plain": [
       "{'brother': 'X',\n",
       " 'me': 'E',\n",
       " 'friend': 'N',\n",
       " 'brother2': 'V',\n",
       " 'names': 'ERDogan',\n",
       " 'names1': 'ERDo'}"
      ]
     },
     "execution_count": 101,
     "metadata": {},
     "output_type": "execute_result"
    }
   ],
   "source": [
    "family1.update({\"names\" : \"ERDogan\"})\n",
    "\n",
    "family1"
   ]
  },
  {
   "cell_type": "code",
   "execution_count": 103,
   "id": "1631fcfc",
   "metadata": {},
   "outputs": [
    {
     "data": {
      "text/plain": [
       "{'brother': 'X', 'me': 'E', 'friend': 'N', 'brother2': 'V', 'names1': 'ERDo'}"
      ]
     },
     "execution_count": 103,
     "metadata": {},
     "output_type": "execute_result"
    }
   ],
   "source": [
    "del family1[\"names\"]\n",
    "family1"
   ]
  },
  {
   "cell_type": "code",
   "execution_count": 104,
   "id": "b1ed7110",
   "metadata": {},
   "outputs": [],
   "source": [
    "del family1[\"me\"],family1[\"names1\"]"
   ]
  },
  {
   "cell_type": "code",
   "execution_count": 105,
   "id": "b382aa37",
   "metadata": {},
   "outputs": [
    {
     "data": {
      "text/plain": [
       "{'brother': 'X', 'friend': 'N', 'brother2': 'V'}"
      ]
     },
     "execution_count": 105,
     "metadata": {},
     "output_type": "execute_result"
    }
   ],
   "source": [
    "family1"
   ]
  },
  {
   "cell_type": "code",
   "execution_count": 106,
   "id": "ff666458",
   "metadata": {},
   "outputs": [
    {
     "data": {
      "text/plain": [
       "'clarusway'"
      ]
     },
     "execution_count": 106,
     "metadata": {},
     "output_type": "execute_result"
    }
   ],
   "source": [
    "a = 'clarusway'\n",
    "a"
   ]
  },
  {
   "cell_type": "code",
   "execution_count": 110,
   "id": "90da5114",
   "metadata": {},
   "outputs": [
    {
     "name": "stdout",
     "output_type": "stream",
     "text": [
      "c l a r u s w a y\n"
     ]
    }
   ],
   "source": [
    "print(*(a))"
   ]
  },
  {
   "cell_type": "code",
   "execution_count": 111,
   "id": "51105e4d",
   "metadata": {},
   "outputs": [
    {
     "data": {
      "text/plain": [
       "False"
      ]
     },
     "execution_count": 111,
     "metadata": {},
     "output_type": "execute_result"
    }
   ],
   "source": [
    "\"i\" in \"clarusway\""
   ]
  },
  {
   "cell_type": "code",
   "execution_count": 114,
   "id": "b5613a8a",
   "metadata": {},
   "outputs": [
    {
     "data": {
      "text/plain": [
       "False"
      ]
     },
     "execution_count": 114,
     "metadata": {},
     "output_type": "execute_result"
    }
   ],
   "source": [
    "\"aly\" in \"clarusway\""
   ]
  },
  {
   "cell_type": "code",
   "execution_count": 118,
   "id": "88954dd3",
   "metadata": {},
   "outputs": [],
   "source": [
    "bootcamp = \"c l a r u s w a y\""
   ]
  },
  {
   "cell_type": "code",
   "execution_count": 119,
   "id": "b7e83ce3",
   "metadata": {},
   "outputs": [
    {
     "data": {
      "text/plain": [
       "['c', 'l', 'a', 'r', 'u', 's', 'w', 'a', 'y']"
      ]
     },
     "execution_count": 119,
     "metadata": {},
     "output_type": "execute_result"
    }
   ],
   "source": [
    "bootcamp.split()"
   ]
  },
  {
   "cell_type": "code",
   "execution_count": 120,
   "id": "7eb2ae4f",
   "metadata": {},
   "outputs": [
    {
     "data": {
      "text/plain": [
       "['c', 'l', 'a', 'r', 'u', 's', 'w', 'a', 'y']"
      ]
     },
     "execution_count": 120,
     "metadata": {},
     "output_type": "execute_result"
    }
   ],
   "source": [
    "bootcamp = \"c l a r u s w a y\".split()\n",
    "\n",
    "bootcamp"
   ]
  },
  {
   "cell_type": "code",
   "execution_count": 121,
   "id": "0abd2447",
   "metadata": {},
   "outputs": [
    {
     "data": {
      "text/plain": [
       "['ali', 'veli', 'deli']"
      ]
     },
     "execution_count": 121,
     "metadata": {},
     "output_type": "execute_result"
    }
   ],
   "source": [
    "vr = \"ali-veli-deli\".split(\"-\")\n",
    "\n",
    "vr"
   ]
  },
  {
   "cell_type": "code",
   "execution_count": 122,
   "id": "6a4f8acd",
   "metadata": {},
   "outputs": [
    {
     "data": {
      "text/plain": [
       "True"
      ]
     },
     "execution_count": 122,
     "metadata": {},
     "output_type": "execute_result"
    }
   ],
   "source": [
    "\"a\" in bootcamp "
   ]
  },
  {
   "cell_type": "code",
   "execution_count": 123,
   "id": "ab586ae0",
   "metadata": {},
   "outputs": [
    {
     "data": {
      "text/plain": [
       "{'animal': 'dog',\n",
       " 'planet': 'neptun',\n",
       " 'number': 40,\n",
       " 'pi': 3.14,\n",
       " 'is_good': True,\n",
       " 'mehmet': 'bay',\n",
       " 11: 'integer'}"
      ]
     },
     "execution_count": 123,
     "metadata": {},
     "output_type": "execute_result"
    }
   ],
   "source": [
    "dict_by_dict"
   ]
  },
  {
   "cell_type": "code",
   "execution_count": 124,
   "id": "9b30eac0",
   "metadata": {},
   "outputs": [
    {
     "data": {
      "text/plain": [
       "False"
      ]
     },
     "execution_count": 124,
     "metadata": {},
     "output_type": "execute_result"
    }
   ],
   "source": [
    "\"dog\" in dict_by_dict\n",
    "# look keys"
   ]
  },
  {
   "cell_type": "code",
   "execution_count": 125,
   "id": "717d8be9",
   "metadata": {},
   "outputs": [
    {
     "data": {
      "text/plain": [
       "True"
      ]
     },
     "execution_count": 125,
     "metadata": {},
     "output_type": "execute_result"
    }
   ],
   "source": [
    "\"animal\" in dict_by_dict"
   ]
  },
  {
   "cell_type": "code",
   "execution_count": 128,
   "id": "64fe1ecb",
   "metadata": {},
   "outputs": [
    {
     "data": {
      "text/plain": [
       "True"
      ]
     },
     "execution_count": 128,
     "metadata": {},
     "output_type": "execute_result"
    }
   ],
   "source": [
    "\"dog\" in dict_by_dict.values()"
   ]
  },
  {
   "cell_type": "code",
   "execution_count": 129,
   "id": "d1396145",
   "metadata": {},
   "outputs": [
    {
     "data": {
      "text/plain": [
       "False"
      ]
     },
     "execution_count": 129,
     "metadata": {},
     "output_type": "execute_result"
    }
   ],
   "source": [
    "not True"
   ]
  },
  {
   "cell_type": "code",
   "execution_count": 132,
   "id": "e968a6e6",
   "metadata": {},
   "outputs": [
    {
     "data": {
      "text/plain": [
       "True"
      ]
     },
     "execution_count": 132,
     "metadata": {},
     "output_type": "execute_result"
    }
   ],
   "source": [
    "\"dog\" not in dict_by_dict"
   ]
  },
  {
   "cell_type": "code",
   "execution_count": 133,
   "id": "b678a632",
   "metadata": {},
   "outputs": [
    {
     "data": {
      "text/plain": [
       "False"
      ]
     },
     "execution_count": 133,
     "metadata": {},
     "output_type": "execute_result"
    }
   ],
   "source": [
    "\"dog\" not in dict_by_dict.values()"
   ]
  },
  {
   "cell_type": "code",
   "execution_count": 136,
   "id": "654c5a6e",
   "metadata": {},
   "outputs": [
    {
     "name": "stdout",
     "output_type": "stream",
     "text": [
      "<class 'tuple'>\n"
     ]
    }
   ],
   "source": [
    "x = ([4],)\n",
    "print(type(x))"
   ]
  },
  {
   "cell_type": "code",
   "execution_count": 139,
   "id": "b29fdf04",
   "metadata": {},
   "outputs": [
    {
     "name": "stdout",
     "output_type": "stream",
     "text": [
      "<class 'tuple'>\n"
     ]
    }
   ],
   "source": [
    "x = (5 +3j,)\n",
    "print(type(x))"
   ]
  },
  {
   "cell_type": "markdown",
   "id": "daf025cb",
   "metadata": {},
   "source": [
    "# Nested dicts"
   ]
  },
  {
   "cell_type": "code",
   "execution_count": 140,
   "id": "5558ea14",
   "metadata": {},
   "outputs": [
    {
     "name": "stdout",
     "output_type": "stream",
     "text": [
      "16\n"
     ]
    }
   ],
   "source": [
    "school_records={\n",
    "    \"personal_info\":{\n",
    "        \"kid\":{\"tom\":{\"class\": \"intermediate\", \"age\": 10},\n",
    "               \"sue\":{\"class\": \"elemantary\", \"age\" : 8}\n",
    "              },\n",
    "        \"teen\":{\"joseph\":{\"class\": \"college\", \"age\": 19},\n",
    "               \"marry\": {\"class\": \"high school\", \"age\": 16}\n",
    "               },\n",
    "    },\n",
    "\"grades_info\":{\n",
    "    \"kid\":{\"tom\": {\"math\": 88, \"speech\": 69},\n",
    "          \"sue\": {\"math\": 76, \"speech\": 89}\n",
    "          },\n",
    "    \"teen\":{\"joseph\": {\"coding\": 80, \"math\": 74},\n",
    "            \"marry\": {\"coding\": 45, \"math\": 90}},\n",
    "    },\n",
    "}\n",
    "print(school_records[\"personal_info\"][\"teen\"][\"marry\"][\"age\"])"
   ]
  },
  {
   "cell_type": "code",
   "execution_count": 141,
   "id": "74ba46d1",
   "metadata": {},
   "outputs": [
    {
     "data": {
      "text/plain": [
       "{'kid': {'tom': {'class': 'intermediate', 'age': 10},\n",
       "  'sue': {'class': 'elemantary', 'age': 8}},\n",
       " 'teen': {'joseph': {'class': 'college', 'age': 19},\n",
       "  'marry': {'class': 'high school', 'age': 16}}}"
      ]
     },
     "execution_count": 141,
     "metadata": {},
     "output_type": "execute_result"
    }
   ],
   "source": [
    "school_records[\"personal_info\"]"
   ]
  },
  {
   "cell_type": "code",
   "execution_count": 142,
   "id": "45131726",
   "metadata": {},
   "outputs": [
    {
     "data": {
      "text/plain": [
       "dict"
      ]
     },
     "execution_count": 142,
     "metadata": {},
     "output_type": "execute_result"
    }
   ],
   "source": [
    "type(school_records[\"personal_info\"])"
   ]
  },
  {
   "cell_type": "code",
   "execution_count": 143,
   "id": "864ec34a",
   "metadata": {},
   "outputs": [
    {
     "data": {
      "text/plain": [
       "2"
      ]
     },
     "execution_count": 143,
     "metadata": {},
     "output_type": "execute_result"
    }
   ],
   "source": [
    "len(school_records[\"personal_info\"])"
   ]
  },
  {
   "cell_type": "code",
   "execution_count": 148,
   "id": "7ad6e5ae",
   "metadata": {},
   "outputs": [
    {
     "data": {
      "text/plain": [
       "90"
      ]
     },
     "execution_count": 148,
     "metadata": {},
     "output_type": "execute_result"
    }
   ],
   "source": [
    "school_records[\"grades_info\"][\"teen\"][\"marry\"][\"math\"]"
   ]
  }
 ],
 "metadata": {
  "kernelspec": {
   "display_name": "Python 3 (ipykernel)",
   "language": "python",
   "name": "python3"
  },
  "language_info": {
   "codemirror_mode": {
    "name": "ipython",
    "version": 3
   },
   "file_extension": ".py",
   "mimetype": "text/x-python",
   "name": "python",
   "nbconvert_exporter": "python",
   "pygments_lexer": "ipython3",
   "version": "3.9.12"
  }
 },
 "nbformat": 4,
 "nbformat_minor": 5
}
