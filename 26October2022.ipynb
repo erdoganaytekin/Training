{
 "cells": [
  {
   "cell_type": "markdown",
   "id": "f3ec3b4f",
   "metadata": {},
   "source": [
    "# SET & IF"
   ]
  },
  {
   "cell_type": "code",
   "execution_count": 1,
   "id": "05aafb89",
   "metadata": {},
   "outputs": [
    {
     "data": {
      "text/plain": [
       "{}"
      ]
     },
     "execution_count": 1,
     "metadata": {},
     "output_type": "execute_result"
    }
   ],
   "source": [
    "{}"
   ]
  },
  {
   "cell_type": "code",
   "execution_count": 2,
   "id": "4ff5d33e",
   "metadata": {},
   "outputs": [
    {
     "data": {
      "text/plain": [
       "set()"
      ]
     },
     "execution_count": 2,
     "metadata": {},
     "output_type": "execute_result"
    }
   ],
   "source": [
    "set()"
   ]
  },
  {
   "cell_type": "code",
   "execution_count": 4,
   "id": "98070164",
   "metadata": {},
   "outputs": [
    {
     "data": {
      "text/plain": [
       "tuple"
      ]
     },
     "execution_count": 4,
     "metadata": {},
     "output_type": "execute_result"
    }
   ],
   "source": [
    "color = \"red\", \"apple\"\n",
    "type(color)"
   ]
  },
  {
   "cell_type": "code",
   "execution_count": 6,
   "id": "c4112f3b",
   "metadata": {},
   "outputs": [
    {
     "data": {
      "text/plain": [
       "{'blue', 'pink', 'purple', 'red', 'white'}"
      ]
     },
     "execution_count": 6,
     "metadata": {},
     "output_type": "execute_result"
    }
   ],
   "source": [
    "colors = \"red\", \"blue\", \"pink\", \"red\", \"white\", \"blue\", \"purple\"\n",
    "\n",
    "set(colors)"
   ]
  },
  {
   "cell_type": "code",
   "execution_count": 11,
   "id": "a3590034",
   "metadata": {},
   "outputs": [
    {
     "name": "stdout",
     "output_type": "stream",
     "text": [
      "<class 'dict'>\n"
     ]
    }
   ],
   "source": [
    "empty = {}\n",
    "\n",
    "print(type(empty))"
   ]
  },
  {
   "cell_type": "code",
   "execution_count": 12,
   "id": "cc0d1e5f",
   "metadata": {},
   "outputs": [
    {
     "name": "stdout",
     "output_type": "stream",
     "text": [
      "<class 'set'>\n"
     ]
    }
   ],
   "source": [
    "print(type(set()))"
   ]
  },
  {
   "cell_type": "code",
   "execution_count": 14,
   "id": "65b43f9c",
   "metadata": {},
   "outputs": [
    {
     "name": "stdout",
     "output_type": "stream",
     "text": [
      "{'a', 'b', 'c'}\n",
      "{'a', 'b', 'c'}\n"
     ]
    }
   ],
   "source": [
    "a = {\"a\", \"b\", \"c\"}\n",
    "b = {\"b\", \"c\", \"c\", \"a\"}\n",
    "\n",
    "print(a)\n",
    "print(b)"
   ]
  },
  {
   "cell_type": "code",
   "execution_count": 15,
   "id": "0782f2e5",
   "metadata": {},
   "outputs": [
    {
     "data": {
      "text/plain": [
       "{0, 1, 2}"
      ]
     },
     "execution_count": 15,
     "metadata": {},
     "output_type": "execute_result"
    }
   ],
   "source": [
    "first_cluster = {1,1,2,0}\n",
    "\n",
    "first_cluster"
   ]
  },
  {
   "cell_type": "code",
   "execution_count": 16,
   "id": "4f27c2df",
   "metadata": {},
   "outputs": [
    {
     "data": {
      "text/plain": [
       "5"
      ]
     },
     "execution_count": 16,
     "metadata": {},
     "output_type": "execute_result"
    }
   ],
   "source": [
    "len([1,1,2,0,1])"
   ]
  },
  {
   "cell_type": "code",
   "execution_count": 20,
   "id": "ef3381c9",
   "metadata": {},
   "outputs": [
    {
     "data": {
      "text/plain": [
       "3"
      ]
     },
     "execution_count": 20,
     "metadata": {},
     "output_type": "execute_result"
    }
   ],
   "source": [
    "len({1,1,2,0,1})"
   ]
  },
  {
   "cell_type": "code",
   "execution_count": 21,
   "id": "92748bf1",
   "metadata": {},
   "outputs": [
    {
     "data": {
      "text/plain": [
       "5"
      ]
     },
     "execution_count": 21,
     "metadata": {},
     "output_type": "execute_result"
    }
   ],
   "source": [
    "len((1,1,2,0,1))"
   ]
  },
  {
   "cell_type": "code",
   "execution_count": 2,
   "id": "c0aa1b2e",
   "metadata": {},
   "outputs": [
    {
     "name": "stdout",
     "output_type": "stream",
     "text": [
      "['a', 'b', 'c', 'd', 'e', 'f', 'g', 'h', 'i', 'j', 'k', 'l', 'm', 'n', 'o', 'p', 'r', 's', 't', 'u', 'v', 'y', 'z', 'x', 'w', 'q']\n"
     ]
    }
   ],
   "source": [
    "letters = \"a b c d e f g h i j k l m n o p r s t u v y z x w q\".split()\n",
    "\n",
    "print(letters)"
   ]
  },
  {
   "cell_type": "code",
   "execution_count": 25,
   "id": "3109ba33",
   "metadata": {},
   "outputs": [
    {
     "name": "stdout",
     "output_type": "stream",
     "text": [
      "{'k', 'n', 'c', 'w', 'h', 'b', 'd', 'u', 'q', 't', 'e', 's', 'a', 'g', 'y', 'l', 'i', 'p', 'm', 'v', 'x', 'f', 'z', 'j', 'o', 'r'}\n"
     ]
    }
   ],
   "source": [
    "print(set(letters))"
   ]
  },
  {
   "cell_type": "code",
   "execution_count": 3,
   "id": "1ad00f03",
   "metadata": {},
   "outputs": [
    {
     "name": "stdout",
     "output_type": "stream",
     "text": [
      "{'h', 'd', 'w', 'k', 'q', 'y', 'l', 'u', 'a', 'x', 'g', 'z', 'b', 't', 'n', 'e', 'i', 'c', 'v', 's', 'p', 'r', 'j', 'm', 'o', 'f'}\n"
     ]
    }
   ],
   "source": [
    "print(set(letters))"
   ]
  },
  {
   "cell_type": "code",
   "execution_count": 9,
   "id": "ac4eae5d",
   "metadata": {},
   "outputs": [
    {
     "data": {
      "text/plain": [
       "2"
      ]
     },
     "execution_count": 9,
     "metadata": {},
     "output_type": "execute_result"
    }
   ],
   "source": [
    "x = {1, \"1\"}\n",
    "len(x)"
   ]
  },
  {
   "cell_type": "code",
   "execution_count": 10,
   "id": "ab19686b",
   "metadata": {},
   "outputs": [
    {
     "data": {
      "text/plain": [
       "True"
      ]
     },
     "execution_count": 10,
     "metadata": {},
     "output_type": "execute_result"
    }
   ],
   "source": [
    "1==1.0"
   ]
  },
  {
   "cell_type": "code",
   "execution_count": 11,
   "id": "170f30f6",
   "metadata": {},
   "outputs": [
    {
     "data": {
      "text/plain": [
       "1"
      ]
     },
     "execution_count": 11,
     "metadata": {},
     "output_type": "execute_result"
    }
   ],
   "source": [
    "hash(1)"
   ]
  },
  {
   "cell_type": "code",
   "execution_count": 12,
   "id": "6eeef5d2",
   "metadata": {},
   "outputs": [
    {
     "data": {
      "text/plain": [
       "1"
      ]
     },
     "execution_count": 12,
     "metadata": {},
     "output_type": "execute_result"
    }
   ],
   "source": [
    "hash(1.0)"
   ]
  },
  {
   "cell_type": "code",
   "execution_count": 13,
   "id": "38bb87e1",
   "metadata": {},
   "outputs": [
    {
     "data": {
      "text/plain": [
       "-8845633138833294562"
      ]
     },
     "execution_count": 13,
     "metadata": {},
     "output_type": "execute_result"
    }
   ],
   "source": [
    "hash(\"1\")"
   ]
  },
  {
   "cell_type": "code",
   "execution_count": 14,
   "id": "ab84dff0",
   "metadata": {},
   "outputs": [],
   "source": [
    "given_list = [1,2,3,4,5]"
   ]
  },
  {
   "cell_type": "code",
   "execution_count": 15,
   "id": "cd23503b",
   "metadata": {},
   "outputs": [
    {
     "ename": "TypeError",
     "evalue": "unhashable type: 'list'",
     "output_type": "error",
     "traceback": [
      "\u001b[0;31m---------------------------------------------------------------------------\u001b[0m",
      "\u001b[0;31mTypeError\u001b[0m                                 Traceback (most recent call last)",
      "Input \u001b[0;32mIn [15]\u001b[0m, in \u001b[0;36m<cell line: 1>\u001b[0;34m()\u001b[0m\n\u001b[0;32m----> 1\u001b[0m cluster \u001b[38;5;241m=\u001b[39m {given_list}\n",
      "\u001b[0;31mTypeError\u001b[0m: unhashable type: 'list'"
     ]
    }
   ],
   "source": [
    "cluster = {given_list}"
   ]
  },
  {
   "cell_type": "code",
   "execution_count": 16,
   "id": "ff9598f3",
   "metadata": {},
   "outputs": [],
   "source": [
    "plakalar = {'kocaeli': 41, 'istanbul': 34}"
   ]
  },
  {
   "cell_type": "code",
   "execution_count": 17,
   "id": "2954ea21",
   "metadata": {},
   "outputs": [
    {
     "name": "stdout",
     "output_type": "stream",
     "text": [
      "41\n",
      "34\n"
     ]
    }
   ],
   "source": [
    "print(plakalar['kocaeli'])\n",
    "print(plakalar['istanbul'])"
   ]
  },
  {
   "cell_type": "code",
   "execution_count": 20,
   "id": "3f28e219",
   "metadata": {},
   "outputs": [],
   "source": [
    "plakalar['ankara'] = 6\n",
    "plakalar['kocaeli'] = 61"
   ]
  },
  {
   "cell_type": "code",
   "execution_count": 21,
   "id": "efca3c3f",
   "metadata": {},
   "outputs": [
    {
     "data": {
      "text/plain": [
       "{'kocaeli': 61, 'istanbul': 34, 'ankara': 6}"
      ]
     },
     "execution_count": 21,
     "metadata": {},
     "output_type": "execute_result"
    }
   ],
   "source": [
    "plakalar"
   ]
  },
  {
   "cell_type": "code",
   "execution_count": 22,
   "id": "bf9b27cf",
   "metadata": {},
   "outputs": [
    {
     "data": {
      "text/plain": [
       "{1, 2}"
      ]
     },
     "execution_count": 22,
     "metadata": {},
     "output_type": "execute_result"
    }
   ],
   "source": [
    "set((1,2))"
   ]
  },
  {
   "cell_type": "code",
   "execution_count": 24,
   "id": "0b865a7c",
   "metadata": {},
   "outputs": [
    {
     "ename": "TypeError",
     "evalue": "unhashable type: 'list'",
     "output_type": "error",
     "traceback": [
      "\u001b[0;31m---------------------------------------------------------------------------\u001b[0m",
      "\u001b[0;31mTypeError\u001b[0m                                 Traceback (most recent call last)",
      "Input \u001b[0;32mIn [24]\u001b[0m, in \u001b[0;36m<cell line: 3>\u001b[0;34m()\u001b[0m\n\u001b[1;32m      1\u001b[0m lists \u001b[38;5;241m=\u001b[39m [[\u001b[38;5;241m1\u001b[39m,\u001b[38;5;241m2\u001b[39m,\u001b[38;5;241m3\u001b[39m], \u001b[38;5;124m\"\u001b[39m\u001b[38;5;124ma\u001b[39m\u001b[38;5;124m\"\u001b[39m, \u001b[38;5;241m6\u001b[39m, \u001b[38;5;241m3.14\u001b[39m]\n\u001b[0;32m----> 3\u001b[0m stm \u001b[38;5;241m=\u001b[39m \u001b[38;5;28;43mset\u001b[39;49m\u001b[43m(\u001b[49m\u001b[43mlists\u001b[49m\u001b[43m)\u001b[49m\n\u001b[1;32m      4\u001b[0m stm\n",
      "\u001b[0;31mTypeError\u001b[0m: unhashable type: 'list'"
     ]
    }
   ],
   "source": [
    "lists = [[1,2,3], \"a\", 6, 3.14]\n",
    "\n",
    "stm = set(lists)\n",
    "stm"
   ]
  },
  {
   "cell_type": "code",
   "execution_count": 25,
   "id": "afb35282",
   "metadata": {},
   "outputs": [
    {
     "ename": "TypeError",
     "evalue": "unhashable type: 'list'",
     "output_type": "error",
     "traceback": [
      "\u001b[0;31m---------------------------------------------------------------------------\u001b[0m",
      "\u001b[0;31mTypeError\u001b[0m                                 Traceback (most recent call last)",
      "Input \u001b[0;32mIn [25]\u001b[0m, in \u001b[0;36m<cell line: 1>\u001b[0;34m()\u001b[0m\n\u001b[0;32m----> 1\u001b[0m {[\u001b[38;5;241m1\u001b[39m, \u001b[38;5;124m\"\u001b[39m\u001b[38;5;124mbir\u001b[39m\u001b[38;5;124m\"\u001b[39m], \u001b[38;5;124m\"\u001b[39m\u001b[38;5;124mali\u001b[39m\u001b[38;5;124m\"\u001b[39m, \u001b[38;5;124m\"\u001b[39m\u001b[38;5;124mdeli\u001b[39m\u001b[38;5;124m\"\u001b[39m}\n",
      "\u001b[0;31mTypeError\u001b[0m: unhashable type: 'list'"
     ]
    }
   ],
   "source": [
    "{[1, \"bir\"], \"ali\", \"deli\"}"
   ]
  },
  {
   "cell_type": "code",
   "execution_count": 27,
   "id": "3307d749",
   "metadata": {},
   "outputs": [],
   "source": [
    "a = {'carnation', 'orchid', 'rose', 'violet'}\n",
    "\n",
    "b = {'carnation', 'orchid', 'rose', 'violet', 'rose'}"
   ]
  },
  {
   "cell_type": "code",
   "execution_count": 28,
   "id": "d6670788",
   "metadata": {},
   "outputs": [
    {
     "data": {
      "text/plain": [
       "{'carnation', 'orchid', 'rose', 'violet'}"
      ]
     },
     "execution_count": 28,
     "metadata": {},
     "output_type": "execute_result"
    }
   ],
   "source": [
    "a.intersection(b)"
   ]
  },
  {
   "cell_type": "code",
   "execution_count": 29,
   "id": "5293ba14",
   "metadata": {},
   "outputs": [],
   "source": [
    "a.add(\"lily\")"
   ]
  },
  {
   "cell_type": "code",
   "execution_count": 30,
   "id": "e5461e60",
   "metadata": {},
   "outputs": [
    {
     "data": {
      "text/plain": [
       "{'carnation', 'lily', 'orchid', 'rose', 'violet'}"
      ]
     },
     "execution_count": 30,
     "metadata": {},
     "output_type": "execute_result"
    }
   ],
   "source": [
    "a"
   ]
  },
  {
   "cell_type": "code",
   "execution_count": 32,
   "id": "3a2146fa",
   "metadata": {},
   "outputs": [],
   "source": [
    "a.remove(\"rose\")"
   ]
  },
  {
   "cell_type": "code",
   "execution_count": 33,
   "id": "69789507",
   "metadata": {},
   "outputs": [
    {
     "data": {
      "text/plain": [
       "{'carnation', 'lily', 'orchid', 'violet'}"
      ]
     },
     "execution_count": 33,
     "metadata": {},
     "output_type": "execute_result"
    }
   ],
   "source": [
    "a"
   ]
  },
  {
   "cell_type": "code",
   "execution_count": 35,
   "id": "87c48481",
   "metadata": {},
   "outputs": [],
   "source": [
    "a.add(\"rose\")"
   ]
  },
  {
   "cell_type": "code",
   "execution_count": 36,
   "id": "a6963e05",
   "metadata": {},
   "outputs": [
    {
     "data": {
      "text/plain": [
       "{'d', 'h', 'i', 'l', 'p'}"
      ]
     },
     "execution_count": 36,
     "metadata": {},
     "output_type": "execute_result"
    }
   ],
   "source": [
    "a = set('philadelphia')\n",
    "b = set('dolphin')\n",
    "\n",
    "a.intersection(b)"
   ]
  },
  {
   "cell_type": "code",
   "execution_count": 37,
   "id": "84393f61",
   "metadata": {},
   "outputs": [
    {
     "data": {
      "text/plain": [
       "{'a', 'd', 'e', 'h', 'i', 'l', 'n', 'o', 'p'}"
      ]
     },
     "execution_count": 37,
     "metadata": {},
     "output_type": "execute_result"
    }
   ],
   "source": [
    "a.union(b)"
   ]
  },
  {
   "cell_type": "code",
   "execution_count": 38,
   "id": "6a4777f9",
   "metadata": {},
   "outputs": [
    {
     "data": {
      "text/plain": [
       "{'a', 'e', 'n', 'o'}"
      ]
     },
     "execution_count": 38,
     "metadata": {},
     "output_type": "execute_result"
    }
   ],
   "source": [
    "a.symmetric_difference(b)"
   ]
  },
  {
   "cell_type": "code",
   "execution_count": 39,
   "id": "a924fecf",
   "metadata": {},
   "outputs": [
    {
     "data": {
      "text/plain": [
       "{'a', 'e'}"
      ]
     },
     "execution_count": 39,
     "metadata": {},
     "output_type": "execute_result"
    }
   ],
   "source": [
    "a.difference(b)"
   ]
  },
  {
   "cell_type": "code",
   "execution_count": 40,
   "id": "3592c10c",
   "metadata": {},
   "outputs": [
    {
     "data": {
      "text/plain": [
       "False"
      ]
     },
     "execution_count": 40,
     "metadata": {},
     "output_type": "execute_result"
    }
   ],
   "source": [
    "a.issubset(b)"
   ]
  },
  {
   "cell_type": "code",
   "execution_count": 41,
   "id": "9528ccbd",
   "metadata": {},
   "outputs": [
    {
     "data": {
      "text/plain": [
       "False"
      ]
     },
     "execution_count": 41,
     "metadata": {},
     "output_type": "execute_result"
    }
   ],
   "source": [
    "b.issubset(a)"
   ]
  },
  {
   "cell_type": "code",
   "execution_count": 63,
   "id": "a484ec7b",
   "metadata": {},
   "outputs": [],
   "source": [
    "    date1 = set('10/26/2022')\n",
    "    date2 = {'10/26/2022', '234'}"
   ]
  },
  {
   "cell_type": "code",
   "execution_count": 64,
   "id": "7d7f9e70",
   "metadata": {},
   "outputs": [
    {
     "data": {
      "text/plain": [
       "{'/', '0', '1', '2', '6'}"
      ]
     },
     "execution_count": 64,
     "metadata": {},
     "output_type": "execute_result"
    }
   ],
   "source": [
    "date1"
   ]
  },
  {
   "cell_type": "code",
   "execution_count": 65,
   "id": "455e0d8b",
   "metadata": {},
   "outputs": [
    {
     "data": {
      "text/plain": [
       "{'10/26/2022', '234'}"
      ]
     },
     "execution_count": 65,
     "metadata": {},
     "output_type": "execute_result"
    }
   ],
   "source": [
    "date2"
   ]
  },
  {
   "cell_type": "code",
   "execution_count": 66,
   "id": "b4d1c6e7",
   "metadata": {},
   "outputs": [],
   "source": [
    "    date2 = {10/26/2022}"
   ]
  },
  {
   "cell_type": "code",
   "execution_count": 67,
   "id": "9fb5e4df",
   "metadata": {},
   "outputs": [
    {
     "data": {
      "text/plain": [
       "{0.00019021532374648102}"
      ]
     },
     "execution_count": 67,
     "metadata": {},
     "output_type": "execute_result"
    }
   ],
   "source": [
    "date2"
   ]
  },
  {
   "cell_type": "code",
   "execution_count": 68,
   "id": "65b4106e",
   "metadata": {},
   "outputs": [
    {
     "data": {
      "text/plain": [
       "set"
      ]
     },
     "execution_count": 68,
     "metadata": {},
     "output_type": "execute_result"
    }
   ],
   "source": [
    "type(date2)"
   ]
  },
  {
   "cell_type": "code",
   "execution_count": 69,
   "id": "371a1fc1",
   "metadata": {},
   "outputs": [
    {
     "name": "stdout",
     "output_type": "stream",
     "text": [
      "{'5', '0', '/', '2', '1'}\n",
      "{'05/21/2022'}\n"
     ]
    }
   ],
   "source": [
    "date1 = set('05/21/2022')\n",
    "date2 = {'05/21/2022'}\n",
    "print(date1)\n",
    "print(date2)"
   ]
  },
  {
   "cell_type": "code",
   "execution_count": 77,
   "id": "409f0a25",
   "metadata": {},
   "outputs": [],
   "source": [
    "listt = [1,2,3,3,3,3,4,4,5,5]\n",
    "unique = set(listt)"
   ]
  },
  {
   "cell_type": "code",
   "execution_count": 78,
   "id": "3f61c2bf",
   "metadata": {},
   "outputs": [
    {
     "data": {
      "text/plain": [
       "{1, 2, 3, 4, 5}"
      ]
     },
     "execution_count": 78,
     "metadata": {},
     "output_type": "execute_result"
    }
   ],
   "source": [
    "unique"
   ]
  },
  {
   "cell_type": "code",
   "execution_count": 79,
   "id": "5f83bb59",
   "metadata": {},
   "outputs": [],
   "source": [
    "Capital_of_USA = set('Washington')\n",
    "Capital_of_New_Zealand = set('Wellington')\n",
    "\n",
    "a = Capital_of_USA\n",
    "b = Capital_of_New_Zealand"
   ]
  },
  {
   "cell_type": "code",
   "execution_count": 80,
   "id": "e93ba50d",
   "metadata": {},
   "outputs": [
    {
     "data": {
      "text/plain": [
       "{'W', 'g', 'i', 'n', 'o', 't'}"
      ]
     },
     "execution_count": 80,
     "metadata": {},
     "output_type": "execute_result"
    }
   ],
   "source": [
    "a.intersection(b)"
   ]
  },
  {
   "cell_type": "code",
   "execution_count": 81,
   "id": "93fca58a",
   "metadata": {},
   "outputs": [
    {
     "data": {
      "text/plain": [
       "{'W', 'a', 'e', 'g', 'h', 'i', 'l', 'n', 'o', 's', 't'}"
      ]
     },
     "execution_count": 81,
     "metadata": {},
     "output_type": "execute_result"
    }
   ],
   "source": [
    "a.union(b)"
   ]
  },
  {
   "cell_type": "code",
   "execution_count": 82,
   "id": "98212593",
   "metadata": {},
   "outputs": [
    {
     "data": {
      "text/plain": [
       "{'a', 'h', 's'}"
      ]
     },
     "execution_count": 82,
     "metadata": {},
     "output_type": "execute_result"
    }
   ],
   "source": [
    "a.difference(b)"
   ]
  },
  {
   "cell_type": "code",
   "execution_count": 83,
   "id": "fc17def8",
   "metadata": {},
   "outputs": [
    {
     "data": {
      "text/plain": [
       "{'e', 'l'}"
      ]
     },
     "execution_count": 83,
     "metadata": {},
     "output_type": "execute_result"
    }
   ],
   "source": [
    "b.difference(a)"
   ]
  },
  {
   "cell_type": "code",
   "execution_count": 88,
   "id": "e8681dea",
   "metadata": {},
   "outputs": [
    {
     "name": "stdout",
     "output_type": "stream",
     "text": [
      "{2}\n"
     ]
    }
   ],
   "source": [
    "k1 = set([1,2,3])\n",
    "\n",
    "k2 = set([1,3,5])\n",
    "\n",
    "k1.difference_update(k2)\n",
    "\n",
    "print(k1)"
   ]
  },
  {
   "cell_type": "code",
   "execution_count": 89,
   "id": "f2f777f1",
   "metadata": {},
   "outputs": [
    {
     "data": {
      "text/plain": [
       "{1, 3, 5}"
      ]
     },
     "execution_count": 89,
     "metadata": {},
     "output_type": "execute_result"
    }
   ],
   "source": [
    "k2"
   ]
  },
  {
   "cell_type": "code",
   "execution_count": 86,
   "id": "5821cf80",
   "metadata": {},
   "outputs": [
    {
     "data": {
      "text/plain": [
       "{2}"
      ]
     },
     "execution_count": 86,
     "metadata": {},
     "output_type": "execute_result"
    }
   ],
   "source": [
    "k1"
   ]
  },
  {
   "cell_type": "code",
   "execution_count": 90,
   "id": "d3bbe7b3",
   "metadata": {},
   "outputs": [],
   "source": [
    "hayvanlar = set([\"cat\", \"dog\"])"
   ]
  },
  {
   "cell_type": "code",
   "execution_count": 91,
   "id": "13054f77",
   "metadata": {},
   "outputs": [],
   "source": [
    "hayvanlar.discard(\"cat\")"
   ]
  },
  {
   "cell_type": "code",
   "execution_count": 92,
   "id": "37df613e",
   "metadata": {},
   "outputs": [
    {
     "data": {
      "text/plain": [
       "{'dog'}"
      ]
     },
     "execution_count": 92,
     "metadata": {},
     "output_type": "execute_result"
    }
   ],
   "source": [
    "hayvanlar"
   ]
  },
  {
   "cell_type": "markdown",
   "id": "bca858f4",
   "metadata": {},
   "source": [
    "# Control Flow Statement \n",
    "# Conditionals \n",
    "# Loops"
   ]
  },
  {
   "cell_type": "code",
   "execution_count": 109,
   "id": "e8f24165",
   "metadata": {},
   "outputs": [
    {
     "name": "stdout",
     "output_type": "stream",
     "text": [
      "1\n",
      "4\n",
      "9\n",
      "16\n"
     ]
    }
   ],
   "source": [
    "iterable = [1, 2, 3, 4]\n",
    "\n",
    "for i in iterable : \n",
    "    print(i**2)"
   ]
  },
  {
   "cell_type": "code",
   "execution_count": 122,
   "id": "9b96f73c",
   "metadata": {},
   "outputs": [
    {
     "name": "stdout",
     "output_type": "stream",
     "text": [
      "Fizz 3\n",
      "Buzz 5\n",
      "Fizz 6\n",
      "Fizz 9\n",
      "Buzz 10\n",
      "Fizz 12\n",
      "Fizz Buzz 15\n",
      "Fizz 18\n",
      "Buzz 20\n",
      "Fizz 21\n",
      "Fizz 24\n",
      "Buzz 25\n",
      "Fizz 27\n",
      "Fizz Buzz 30\n",
      "Fizz 33\n",
      "Buzz 35\n",
      "Fizz 36\n",
      "Fizz 39\n",
      "Buzz 40\n",
      "Fizz 42\n",
      "Fizz Buzz 45\n",
      "Fizz 48\n",
      "Buzz 50\n",
      "Fizz 51\n",
      "Fizz 54\n",
      "Buzz 55\n",
      "Fizz 57\n",
      "Fizz Buzz 60\n",
      "Fizz 63\n",
      "Buzz 65\n",
      "Fizz 66\n",
      "Fizz 69\n",
      "Buzz 70\n",
      "Fizz 72\n",
      "Fizz Buzz 75\n",
      "Fizz 78\n",
      "Buzz 80\n",
      "Fizz 81\n",
      "Fizz 84\n",
      "Buzz 85\n",
      "Fizz 87\n",
      "Fizz Buzz 90\n",
      "Fizz 93\n",
      "Buzz 95\n",
      "Fizz 96\n",
      "Fizz 99\n"
     ]
    }
   ],
   "source": [
    "for a in range(1,100):\n",
    "    \n",
    "    if a%3 == 0 and a%5 == 0:\n",
    "        print(\"Fizz Buzz\",a)\n",
    "    elif a%3 == 0:\n",
    "        print(\"Fizz\",a)\n",
    "    elif a%5 == 0:\n",
    "        print(\"Buzz\",a)"
   ]
  },
  {
   "cell_type": "code",
   "execution_count": 128,
   "id": "9396b81e",
   "metadata": {},
   "outputs": [
    {
     "name": "stdout",
     "output_type": "stream",
     "text": [
      "you guaranteed the job\n"
     ]
    }
   ],
   "source": [
    "course = 'clarusway'\n",
    "\n",
    "if course == \"clarusway\":\n",
    "    print(\"you guaranteed the job\")\n",
    "else:\n",
    "    print(\"think about it again\")"
   ]
  },
  {
   "cell_type": "code",
   "execution_count": 132,
   "id": "f0bbc82d",
   "metadata": {},
   "outputs": [
    {
     "name": "stdout",
     "output_type": "stream",
     "text": [
      "it is true\n"
     ]
    }
   ],
   "source": [
    "if True:\n",
    "    print('it is true')"
   ]
  },
  {
   "cell_type": "code",
   "execution_count": 140,
   "id": "48b4a967",
   "metadata": {},
   "outputs": [],
   "source": [
    "if False:\n",
    "    print('it is true')"
   ]
  },
  {
   "cell_type": "code",
   "execution_count": 142,
   "id": "d98df4d4",
   "metadata": {},
   "outputs": [
    {
     "data": {
      "text/plain": [
       "True"
      ]
     },
     "execution_count": 142,
     "metadata": {},
     "output_type": "execute_result"
    }
   ],
   "source": [
    "bool(-1)"
   ]
  },
  {
   "cell_type": "code",
   "execution_count": 145,
   "id": "1b74d8d3",
   "metadata": {},
   "outputs": [
    {
     "name": "stdout",
     "output_type": "stream",
     "text": [
      "hello\n"
     ]
    }
   ],
   "source": [
    "if [\"\"]:\n",
    "    print(\"hello\")"
   ]
  },
  {
   "cell_type": "code",
   "execution_count": 147,
   "id": "b2543b8b",
   "metadata": {},
   "outputs": [
    {
     "data": {
      "text/plain": [
       "True"
      ]
     },
     "execution_count": 147,
     "metadata": {},
     "output_type": "execute_result"
    }
   ],
   "source": [
    "bool([\"\"])"
   ]
  },
  {
   "cell_type": "code",
   "execution_count": 150,
   "id": "f3625014",
   "metadata": {},
   "outputs": [
    {
     "name": "stdout",
     "output_type": "stream",
     "text": [
      "hello\n"
     ]
    }
   ],
   "source": [
    "if [1]:\n",
    "    print(\"hello\")"
   ]
  },
  {
   "cell_type": "code",
   "execution_count": 151,
   "id": "a7f8285a",
   "metadata": {},
   "outputs": [],
   "source": [
    "#Ingredients:\n",
    "\n",
    "minced = True\n",
    "bread = True\n",
    "\n",
    "#green:\n",
    "\n",
    "lettuce = True\n",
    "onion = False\n",
    "\n",
    "grocer = True"
   ]
  },
  {
   "cell_type": "code",
   "execution_count": 152,
   "id": "bdf90885",
   "metadata": {},
   "outputs": [],
   "source": [
    "hamburger = minced and grocer and bread and (lettuce or onion)"
   ]
  },
  {
   "cell_type": "code",
   "execution_count": 153,
   "id": "a2d43603",
   "metadata": {},
   "outputs": [
    {
     "name": "stdout",
     "output_type": "stream",
     "text": [
      "Bon Appetit\n"
     ]
    }
   ],
   "source": [
    "if hamburger:\n",
    "    print(\"Bon Appetit\")"
   ]
  }
 ],
 "metadata": {
  "kernelspec": {
   "display_name": "Python 3 (ipykernel)",
   "language": "python",
   "name": "python3"
  },
  "language_info": {
   "codemirror_mode": {
    "name": "ipython",
    "version": 3
   },
   "file_extension": ".py",
   "mimetype": "text/x-python",
   "name": "python",
   "nbconvert_exporter": "python",
   "pygments_lexer": "ipython3",
   "version": "3.9.12"
  }
 },
 "nbformat": 4,
 "nbformat_minor": 5
}
