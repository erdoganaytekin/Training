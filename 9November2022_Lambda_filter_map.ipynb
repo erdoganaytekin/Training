{
 "cells": [
  {
   "cell_type": "code",
   "execution_count": 1,
   "id": "58f3f5b7",
   "metadata": {},
   "outputs": [],
   "source": [
    "function = lambda x : x**2"
   ]
  },
  {
   "cell_type": "code",
   "execution_count": 2,
   "id": "1453f227",
   "metadata": {},
   "outputs": [],
   "source": [
    "iterable = range(10)"
   ]
  },
  {
   "cell_type": "code",
   "execution_count": 3,
   "id": "23802f9d",
   "metadata": {},
   "outputs": [
    {
     "name": "stdout",
     "output_type": "stream",
     "text": [
      "0 1 4 9 16 25 36 49 64 81\n"
     ]
    }
   ],
   "source": [
    "result = map(function, iterable)\n",
    "\n",
    "print(*result)"
   ]
  },
  {
   "cell_type": "code",
   "execution_count": 4,
   "id": "5aacf06f",
   "metadata": {},
   "outputs": [
    {
     "name": "stdout",
     "output_type": "stream",
     "text": [
      "1 4 9 16 25\n"
     ]
    }
   ],
   "source": [
    "print(* map(lambda x : x**2, [1,2,3,4,5]))"
   ]
  },
  {
   "cell_type": "code",
   "execution_count": 5,
   "id": "6e30ee70",
   "metadata": {},
   "outputs": [
    {
     "name": "stdout",
     "output_type": "stream",
     "text": [
      "0 1 4 9 16 25 36 49 64 81\n"
     ]
    }
   ],
   "source": [
    "def square(x) :\n",
    "    return x ** 2\n",
    "\n",
    "result = map(square, iterable)\n",
    "\n",
    "print(*result)"
   ]
  },
  {
   "cell_type": "code",
   "execution_count": 6,
   "id": "a77da2ac",
   "metadata": {},
   "outputs": [
    {
     "name": "stdout",
     "output_type": "stream",
     "text": [
      "[0, 1, 4, 9, 16, 25, 36, 49, 64, 81]\n"
     ]
    }
   ],
   "source": [
    "def square(x) :\n",
    "    return x ** 2\n",
    "\n",
    "result = map(square, iterable)\n",
    "\n",
    "print(list(result))"
   ]
  },
  {
   "cell_type": "code",
   "execution_count": 7,
   "id": "3fb4c6c0",
   "metadata": {},
   "outputs": [],
   "source": [
    "total = lambda x, y, z : x + y + z"
   ]
  },
  {
   "cell_type": "code",
   "execution_count": 8,
   "id": "5624d7f9",
   "metadata": {},
   "outputs": [
    {
     "data": {
      "text/plain": [
       "'ali'"
      ]
     },
     "execution_count": 8,
     "metadata": {},
     "output_type": "execute_result"
    }
   ],
   "source": [
    "total(\"a\", \"l\", \"i\")"
   ]
  },
  {
   "cell_type": "code",
   "execution_count": 9,
   "id": "6049cc06",
   "metadata": {},
   "outputs": [],
   "source": [
    "words1=[\"you\", \"much\", \"hard\"]\n",
    "words2=[\"i\", \"you\", \"he\"]\n",
    "words3=[\"love\", \"ate\", \"works\"]"
   ]
  },
  {
   "cell_type": "code",
   "execution_count": 10,
   "id": "dd0cf00b",
   "metadata": {},
   "outputs": [],
   "source": [
    "sentence = map(lambda x, y, z : x + \" \" + y + \" \" + z, words2, words3, words1)"
   ]
  },
  {
   "cell_type": "code",
   "execution_count": 11,
   "id": "73452957",
   "metadata": {},
   "outputs": [
    {
     "name": "stdout",
     "output_type": "stream",
     "text": [
      "i love you you ate much he works hard\n"
     ]
    }
   ],
   "source": [
    "print(*sentence)"
   ]
  },
  {
   "cell_type": "code",
   "execution_count": 12,
   "id": "923836b2",
   "metadata": {},
   "outputs": [],
   "source": [
    "sentence = map(lambda x, y, z : x + y + z, words2, words3, words1)"
   ]
  },
  {
   "cell_type": "code",
   "execution_count": 13,
   "id": "aad9b40a",
   "metadata": {},
   "outputs": [
    {
     "name": "stdout",
     "output_type": "stream",
     "text": [
      "iloveyou youatemuch heworkshard\n"
     ]
    }
   ],
   "source": [
    "print(*sentence)"
   ]
  },
  {
   "cell_type": "code",
   "execution_count": 14,
   "id": "390150d9",
   "metadata": {},
   "outputs": [
    {
     "name": "stdout",
     "output_type": "stream",
     "text": [
      "[]\n"
     ]
    }
   ],
   "source": [
    "print(list(sentence))"
   ]
  },
  {
   "cell_type": "code",
   "execution_count": 15,
   "id": "18faf51d",
   "metadata": {},
   "outputs": [],
   "source": [
    "num1 = [9, 6, 7, 4]\n",
    "num2 = [3, 6, 5, 8]"
   ]
  },
  {
   "cell_type": "code",
   "execution_count": 16,
   "id": "a9890e34",
   "metadata": {},
   "outputs": [],
   "source": [
    "numbers = map(lambda x, y : (x+y)/2, num1, num2)"
   ]
  },
  {
   "cell_type": "code",
   "execution_count": 17,
   "id": "e916cca3",
   "metadata": {},
   "outputs": [
    {
     "name": "stdout",
     "output_type": "stream",
     "text": [
      "6.0 6.0 6.0 6.0\n"
     ]
    }
   ],
   "source": [
    "print(*numbers)"
   ]
  },
  {
   "cell_type": "code",
   "execution_count": 18,
   "id": "f1f75c20",
   "metadata": {},
   "outputs": [
    {
     "name": "stdout",
     "output_type": "stream",
     "text": [
      "[]\n"
     ]
    }
   ],
   "source": [
    "print(list(numbers))"
   ]
  },
  {
   "cell_type": "code",
   "execution_count": 19,
   "id": "de15e4f8",
   "metadata": {},
   "outputs": [],
   "source": [
    "words1=[\"you\", \"much\", \"hard\"]\n",
    "words2=[\"i\", \"you\", \"he\"]\n",
    "words3=[\"love\", \"ate\", \"works\"]"
   ]
  },
  {
   "cell_type": "code",
   "execution_count": 20,
   "id": "b7ee5f78",
   "metadata": {},
   "outputs": [],
   "source": [
    "sentence = map(lambda x, y, z : x + \" \" + y + \" \" + z, words2, words3, words1)"
   ]
  },
  {
   "cell_type": "code",
   "execution_count": 21,
   "id": "4be64b3a",
   "metadata": {},
   "outputs": [
    {
     "name": "stdout",
     "output_type": "stream",
     "text": [
      "['i love you', 'you ate much', 'he works hard']\n"
     ]
    }
   ],
   "source": [
    "print(list(sentence))"
   ]
  },
  {
   "cell_type": "code",
   "execution_count": 22,
   "id": "bed53ca6",
   "metadata": {},
   "outputs": [
    {
     "name": "stdout",
     "output_type": "stream",
     "text": [
      "['i', ' ', 'l', 'o', 'v', 'e', ' ', 'y', 'o', 'u']\n",
      "['y', 'o', 'u', ' ', 'a', 't', 'e', ' ', 'm', 'u', 'c', 'h']\n",
      "['h', 'e', ' ', 'w', 'o', 'r', 'k', 's', ' ', 'h', 'a', 'r', 'd']\n"
     ]
    }
   ],
   "source": [
    "for i in map(lambda x, y, z : x + \" \" + y + \" \" + z, words2, words3, words1):\n",
    "    print(list(i))"
   ]
  },
  {
   "cell_type": "code",
   "execution_count": 23,
   "id": "73f92fa0",
   "metadata": {
    "scrolled": true
   },
   "outputs": [
    {
     "name": "stdout",
     "output_type": "stream",
     "text": [
      "i love you i love you\n",
      "you ate much you ate much\n",
      "he works hard he works hard\n"
     ]
    }
   ],
   "source": [
    "for i in map(lambda x, y, z : x + \" \" + y + \" \" + z, words2, words3, words1):\n",
    "    print(i + \" \" + i)"
   ]
  },
  {
   "cell_type": "code",
   "execution_count": 24,
   "id": "2f4c93cd",
   "metadata": {},
   "outputs": [],
   "source": [
    "words = ['apple', 'swim', \"clock\", \"me\", \"kiwi\", \"banana\"]"
   ]
  },
  {
   "cell_type": "code",
   "execution_count": 25,
   "id": "c9eb5523",
   "metadata": {},
   "outputs": [],
   "source": [
    "less_than_five = filter(lambda x : len(x) < 5, words)"
   ]
  },
  {
   "cell_type": "code",
   "execution_count": 26,
   "id": "77ca480d",
   "metadata": {},
   "outputs": [
    {
     "name": "stdout",
     "output_type": "stream",
     "text": [
      "swim me kiwi\n"
     ]
    }
   ],
   "source": [
    "print(*less_than_five)"
   ]
  },
  {
   "cell_type": "code",
   "execution_count": 27,
   "id": "42e58c59",
   "metadata": {},
   "outputs": [
    {
     "name": "stdout",
     "output_type": "stream",
     "text": [
      "[]\n"
     ]
    }
   ],
   "source": [
    "print(list(less_than_five))"
   ]
  },
  {
   "cell_type": "code",
   "execution_count": 30,
   "id": "e945240d",
   "metadata": {},
   "outputs": [],
   "source": [
    "fiv = map(lambda x : len(x) < 5, words)"
   ]
  },
  {
   "cell_type": "code",
   "execution_count": 31,
   "id": "28f85ce8",
   "metadata": {},
   "outputs": [
    {
     "name": "stdout",
     "output_type": "stream",
     "text": [
      "False\n",
      "True\n",
      "False\n",
      "True\n",
      "True\n",
      "False\n"
     ]
    }
   ],
   "source": [
    "for i in fiv:\n",
    "    print(i)"
   ]
  },
  {
   "cell_type": "code",
   "execution_count": 32,
   "id": "f048310a",
   "metadata": {},
   "outputs": [],
   "source": [
    "fiv = filter(lambda x : x, words)"
   ]
  },
  {
   "cell_type": "code",
   "execution_count": 33,
   "id": "40d4f636",
   "metadata": {},
   "outputs": [
    {
     "name": "stdout",
     "output_type": "stream",
     "text": [
      "['a', 'p', 'p', 'l', 'e']\n",
      "['s', 'w', 'i', 'm']\n",
      "['c', 'l', 'o', 'c', 'k']\n",
      "['m', 'e']\n",
      "['k', 'i', 'w', 'i']\n",
      "['b', 'a', 'n', 'a', 'n', 'a']\n"
     ]
    }
   ],
   "source": [
    "for i in fiv:\n",
    "    print(list(i))"
   ]
  },
  {
   "cell_type": "code",
   "execution_count": 34,
   "id": "e12523c4",
   "metadata": {},
   "outputs": [],
   "source": [
    "numberr = [1,2,3,4,5,6,7]"
   ]
  },
  {
   "cell_type": "code",
   "execution_count": 35,
   "id": "cfab8b1c",
   "metadata": {},
   "outputs": [
    {
     "name": "stdout",
     "output_type": "stream",
     "text": [
      "[1, 2, 3, 4, 5, 6, 7]\n"
     ]
    }
   ],
   "source": [
    "print(list(numberr))"
   ]
  },
  {
   "cell_type": "code",
   "execution_count": 36,
   "id": "ca830cf4",
   "metadata": {},
   "outputs": [],
   "source": [
    "letter1 = [\"a\", \"b\", \"c\"]\n",
    "letter2 = [\"x\", \"y\", \"z\"]"
   ]
  },
  {
   "cell_type": "code",
   "execution_count": 37,
   "id": "54c6a763",
   "metadata": {},
   "outputs": [],
   "source": [
    "combine = map(zip, letter1,letter2)"
   ]
  },
  {
   "cell_type": "code",
   "execution_count": 38,
   "id": "e6d51886",
   "metadata": {},
   "outputs": [
    {
     "name": "stdout",
     "output_type": "stream",
     "text": [
      "('a', 'x')\n",
      "('b', 'y')\n",
      "('c', 'z')\n"
     ]
    }
   ],
   "source": [
    "# i progress with j in i.\n",
    "for i in combine:\n",
    "    for j in i:\n",
    "        print(j)"
   ]
  },
  {
   "cell_type": "code",
   "execution_count": 39,
   "id": "47e1a0dd",
   "metadata": {},
   "outputs": [],
   "source": [
    "for i in combine:\n",
    "    print(j)"
   ]
  },
  {
   "cell_type": "code",
   "execution_count": 40,
   "id": "ae0bce27",
   "metadata": {},
   "outputs": [],
   "source": [
    "for i in combine:\n",
    "    print(i)"
   ]
  },
  {
   "cell_type": "code",
   "execution_count": 41,
   "id": "d7f7c6d0",
   "metadata": {},
   "outputs": [
    {
     "data": {
      "text/plain": [
       "[('c', 'z')]"
      ]
     },
     "execution_count": 41,
     "metadata": {},
     "output_type": "execute_result"
    }
   ],
   "source": [
    "list(zip(letter1[2], letter2[2]))"
   ]
  },
  {
   "cell_type": "code",
   "execution_count": 42,
   "id": "8657797b",
   "metadata": {},
   "outputs": [
    {
     "data": {
      "text/plain": [
       "[('b', 'y')]"
      ]
     },
     "execution_count": 42,
     "metadata": {},
     "output_type": "execute_result"
    }
   ],
   "source": [
    "list(zip(letter1[1], letter2[1]))"
   ]
  },
  {
   "cell_type": "code",
   "execution_count": 43,
   "id": "39548ac3",
   "metadata": {},
   "outputs": [
    {
     "data": {
      "text/plain": [
       "[('a', 'x')]"
      ]
     },
     "execution_count": 43,
     "metadata": {},
     "output_type": "execute_result"
    }
   ],
   "source": [
    "list(zip(letter1[0], letter2[0]))"
   ]
  },
  {
   "cell_type": "code",
   "execution_count": 44,
   "id": "f3ef33e5",
   "metadata": {},
   "outputs": [],
   "source": [
    "def modular_function(n):\n",
    "    return lambda x: x ** n\n",
    "x = 4"
   ]
  },
  {
   "cell_type": "code",
   "execution_count": 45,
   "id": "0b5a150f",
   "metadata": {},
   "outputs": [
    {
     "name": "stdout",
     "output_type": "stream",
     "text": [
      "16\n",
      "64\n",
      "256\n"
     ]
    }
   ],
   "source": [
    "power_of_2 = modular_function(2)  # first sub-function derived from def\n",
    "power_of_3 = modular_function(3)  # second sub-function derived from def\n",
    "power_of_4 = modular_function(4)  # third sub-function derived from def\n",
    "print(power_of_2(x))  # 2 to the power of 2\n",
    "print(power_of_3(x))  # 2 to the power of 3\n",
    "print(power_of_4(x))  # 2 to the power of 4"
   ]
  },
  {
   "cell_type": "code",
   "execution_count": 46,
   "id": "627a74d7",
   "metadata": {},
   "outputs": [],
   "source": [
    "def repeater4(n):\n",
    "    return lambda x : x * n"
   ]
  },
  {
   "cell_type": "code",
   "execution_count": 47,
   "id": "2c915904",
   "metadata": {},
   "outputs": [
    {
     "name": "stdout",
     "output_type": "stream",
     "text": [
      "RR\n"
     ]
    }
   ],
   "source": [
    "repeater4 = repeater4(2)\n",
    "print(repeater4(\"R\"))"
   ]
  },
  {
   "cell_type": "code",
   "execution_count": 48,
   "id": "c66f2f8f",
   "metadata": {},
   "outputs": [],
   "source": [
    "def functioner(emoji = \"\") :\n",
    "    return lambda message : print(message, emoji)"
   ]
  },
  {
   "cell_type": "code",
   "execution_count": 49,
   "id": "0b558244",
   "metadata": {},
   "outputs": [],
   "source": [
    "smile_face = functioner(\":)\")\n",
    "ugly_face = functioner(\":(\")\n",
    "notr_face = functioner(\":|\")"
   ]
  },
  {
   "cell_type": "code",
   "execution_count": 50,
   "id": "e48faacb",
   "metadata": {},
   "outputs": [
    {
     "name": "stdout",
     "output_type": "stream",
     "text": [
      "hello :)\n",
      "hello :(\n",
      "hello :|\n"
     ]
    }
   ],
   "source": [
    "smile_face(\"hello\")\n",
    "ugly_face(\"hello\")\n",
    "notr_face(\"hello\")"
   ]
  },
  {
   "cell_type": "code",
   "execution_count": 51,
   "id": "255aaa13",
   "metadata": {},
   "outputs": [
    {
     "name": "stdout",
     "output_type": "stream",
     "text": [
      "33 :)\n"
     ]
    }
   ],
   "source": [
    "(lambda message : print(message, \":)\"))(33)"
   ]
  },
  {
   "cell_type": "code",
   "execution_count": 52,
   "id": "6f3b37a3",
   "metadata": {},
   "outputs": [],
   "source": [
    "def func_generator(function) :\n",
    "    return lambda x : function(x)"
   ]
  },
  {
   "cell_type": "code",
   "execution_count": 53,
   "id": "15da36c4",
   "metadata": {},
   "outputs": [],
   "source": [
    "erdo_max = func_generator(max)"
   ]
  },
  {
   "cell_type": "code",
   "execution_count": 54,
   "id": "8c92456d",
   "metadata": {},
   "outputs": [
    {
     "data": {
      "text/plain": [
       "7"
      ]
     },
     "execution_count": 54,
     "metadata": {},
     "output_type": "execute_result"
    }
   ],
   "source": [
    "erdo_max([3,5,7])"
   ]
  },
  {
   "cell_type": "code",
   "execution_count": 55,
   "id": "d6a4569b",
   "metadata": {},
   "outputs": [],
   "source": [
    "erdo_print = func_generator(print)"
   ]
  },
  {
   "cell_type": "code",
   "execution_count": 56,
   "id": "f5d52de0",
   "metadata": {},
   "outputs": [
    {
     "name": "stdout",
     "output_type": "stream",
     "text": [
      "hello\n"
     ]
    }
   ],
   "source": [
    "erdo_print(\"hello\")"
   ]
  },
  {
   "cell_type": "code",
   "execution_count": 57,
   "id": "145ffcb0",
   "metadata": {},
   "outputs": [],
   "source": [
    "erdo_bool = func_generator(bool)"
   ]
  },
  {
   "cell_type": "code",
   "execution_count": 58,
   "id": "a8475b90",
   "metadata": {},
   "outputs": [
    {
     "data": {
      "text/plain": [
       "False"
      ]
     },
     "execution_count": 58,
     "metadata": {},
     "output_type": "execute_result"
    }
   ],
   "source": [
    "erdo_bool(\"\")"
   ]
  },
  {
   "cell_type": "code",
   "execution_count": 59,
   "id": "f40aed46",
   "metadata": {},
   "outputs": [
    {
     "data": {
      "text/plain": [
       "7"
      ]
     },
     "execution_count": 59,
     "metadata": {},
     "output_type": "execute_result"
    }
   ],
   "source": [
    "(lambda x : max(x))([3,5,7])"
   ]
  },
  {
   "cell_type": "code",
   "execution_count": 60,
   "id": "9d85a986",
   "metadata": {},
   "outputs": [
    {
     "name": "stdout",
     "output_type": "stream",
     "text": [
      "[3, 5, 7]\n"
     ]
    }
   ],
   "source": [
    "(lambda x : print(x))([3,5,7])"
   ]
  },
  {
   "cell_type": "code",
   "execution_count": 61,
   "id": "a0eb2a3d",
   "metadata": {},
   "outputs": [
    {
     "data": {
      "text/plain": [
       "True"
      ]
     },
     "execution_count": 61,
     "metadata": {},
     "output_type": "execute_result"
    }
   ],
   "source": [
    "(lambda x : bool(x))([3,5,7])"
   ]
  },
  {
   "cell_type": "code",
   "execution_count": 62,
   "id": "2cf539ad",
   "metadata": {},
   "outputs": [
    {
     "data": {
      "text/plain": [
       "[3, 5, 7]"
      ]
     },
     "execution_count": 62,
     "metadata": {},
     "output_type": "execute_result"
    }
   ],
   "source": [
    "(lambda x : sorted(x))([3,5,7])"
   ]
  }
 ],
 "metadata": {
  "kernelspec": {
   "display_name": "Python 3 (ipykernel)",
   "language": "python",
   "name": "python3"
  },
  "language_info": {
   "codemirror_mode": {
    "name": "ipython",
    "version": 3
   },
   "file_extension": ".py",
   "mimetype": "text/x-python",
   "name": "python",
   "nbconvert_exporter": "python",
   "pygments_lexer": "ipython3",
   "version": "3.9.12"
  }
 },
 "nbformat": 4,
 "nbformat_minor": 5
}
 
