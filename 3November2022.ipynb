{
 "cells": [
  {
   "cell_type": "code",
   "execution_count": 1,
   "id": "3e1b4fd5",
   "metadata": {},
   "outputs": [
    {
     "data": {
      "text/plain": [
       "[1, 8, 9, 64, 25, 216]"
      ]
     },
     "execution_count": 1,
     "metadata": {},
     "output_type": "execute_result"
    }
   ],
   "source": [
    "my_list = [1, 2, 3, 4, 5, 6]\n",
    "[i ** 2 if i % 2 else i ** 3 for i in my_list]"
   ]
  },
  {
   "cell_type": "markdown",
   "id": "8957d108",
   "metadata": {},
   "source": [
    "# def functions"
   ]
  },
  {
   "cell_type": "code",
   "execution_count": 2,
   "id": "0f82ed10",
   "metadata": {},
   "outputs": [
    {
     "name": "stdout",
     "output_type": "stream",
     "text": [
      "12\n",
      "11\n",
      "3.67\n",
      "3.67\n"
     ]
    }
   ],
   "source": [
    "print(round(12))\n",
    "print(round(10.8))\n",
    "print(round(3.665, 2))\n",
    "print(round(3.675, 2))"
   ]
  },
  {
   "cell_type": "code",
   "execution_count": 3,
   "id": "2187bec5",
   "metadata": {},
   "outputs": [],
   "source": [
    "def first_function(x,y) :\n",
    "    print(x**2 + y**2)"
   ]
  },
  {
   "cell_type": "code",
   "execution_count": 4,
   "id": "da8170a4",
   "metadata": {},
   "outputs": [
    {
     "name": "stdout",
     "output_type": "stream",
     "text": [
      "25\n"
     ]
    }
   ],
   "source": [
    "first_function(3,4)"
   ]
  },
  {
   "cell_type": "code",
   "execution_count": 5,
   "id": "22e3148d",
   "metadata": {},
   "outputs": [
    {
     "name": "stdout",
     "output_type": "stream",
     "text": [
      "21.29\n"
     ]
    }
   ],
   "source": [
    "first_function(2.3, 4)"
   ]
  },
  {
   "cell_type": "code",
   "execution_count": 6,
   "id": "cd6c9523",
   "metadata": {},
   "outputs": [
    {
     "name": "stdout",
     "output_type": "stream",
     "text": [
      "40.5\n"
     ]
    }
   ],
   "source": [
    "first_function(4.5,4.5)"
   ]
  },
  {
   "cell_type": "code",
   "execution_count": 7,
   "id": "3d8f9205",
   "metadata": {},
   "outputs": [
    {
     "name": "stdout",
     "output_type": "stream",
     "text": [
      "abs\n"
     ]
    }
   ],
   "source": [
    "def motto():\n",
    "    print(\"abs\")\n",
    "motto()"
   ]
  },
  {
   "cell_type": "code",
   "execution_count": 8,
   "id": "5bc44207",
   "metadata": {},
   "outputs": [],
   "source": [
    "def add(d,f):\n",
    "    print(d+f)"
   ]
  },
  {
   "cell_type": "code",
   "execution_count": 9,
   "id": "a6b04915",
   "metadata": {},
   "outputs": [
    {
     "name": "stdout",
     "output_type": "stream",
     "text": [
      "7\n"
     ]
    }
   ],
   "source": [
    "add(3,4)"
   ]
  },
  {
   "cell_type": "code",
   "execution_count": 10,
   "id": "9bd1dce9",
   "metadata": {},
   "outputs": [],
   "source": [
    "def hipotenus(a,b):\n",
    "    print((a**2+b**2)**0.5)"
   ]
  },
  {
   "cell_type": "code",
   "execution_count": 11,
   "id": "ed1075f4",
   "metadata": {},
   "outputs": [
    {
     "name": "stdout",
     "output_type": "stream",
     "text": [
      "13.0\n"
     ]
    }
   ],
   "source": [
    "hipotenus(5,12)"
   ]
  },
  {
   "cell_type": "code",
   "execution_count": 12,
   "id": "560b8f4e",
   "metadata": {},
   "outputs": [
    {
     "name": "stdout",
     "output_type": "stream",
     "text": [
      "5\n"
     ]
    }
   ],
   "source": [
    "def calculator(x, y, z):\n",
    "    if z == \"+\":\n",
    "      print(x + y)\n",
    "    elif z == \"-\":\n",
    "      print(x - y)\n",
    "    elif z == \"*\":\n",
    "      print(x * y)\n",
    "    elif z == \"/\":\n",
    "      print(x / y)\n",
    "    else:\n",
    "        print(\"Enter a valid operator\")\n",
    "\n",
    "calculator(2,3,\"+\")"
   ]
  },
  {
   "cell_type": "code",
   "execution_count": 13,
   "id": "fd4214f1",
   "metadata": {},
   "outputs": [],
   "source": [
    "def add2(s1, s2):\n",
    "    print(s1 + s2)"
   ]
  },
  {
   "cell_type": "code",
   "execution_count": 14,
   "id": "f0c8ab27",
   "metadata": {},
   "outputs": [
    {
     "name": "stdout",
     "output_type": "stream",
     "text": [
      "29\n"
     ]
    },
    {
     "ename": "TypeError",
     "evalue": "unsupported operand type(s) for +: 'int' and 'NoneType'",
     "output_type": "error",
     "traceback": [
      "\u001b[0;31m---------------------------------------------------------------------------\u001b[0m",
      "\u001b[0;31mTypeError\u001b[0m                                 Traceback (most recent call last)",
      "Input \u001b[0;32mIn [14]\u001b[0m, in \u001b[0;36m<cell line: 2>\u001b[0;34m()\u001b[0m\n\u001b[1;32m      1\u001b[0m listem2 \u001b[38;5;241m=\u001b[39m []\n\u001b[1;32m      2\u001b[0m \u001b[38;5;28;01mfor\u001b[39;00m i \u001b[38;5;129;01min\u001b[39;00m \u001b[38;5;28mrange\u001b[39m(\u001b[38;5;241m5\u001b[39m):\n\u001b[0;32m----> 3\u001b[0m     listem2\u001b[38;5;241m.\u001b[39mappend(\u001b[43mi\u001b[49m\u001b[43m \u001b[49m\u001b[38;5;241;43m+\u001b[39;49m\u001b[43m \u001b[49m\u001b[43madd2\u001b[49m\u001b[43m(\u001b[49m\u001b[38;5;241;43m21\u001b[39;49m\u001b[43m,\u001b[49m\u001b[38;5;241;43m8\u001b[39;49m\u001b[43m)\u001b[49m)\n",
      "\u001b[0;31mTypeError\u001b[0m: unsupported operand type(s) for +: 'int' and 'NoneType'"
     ]
    }
   ],
   "source": [
    "listem2 = []\n",
    "for i in range(5):\n",
    "    listem2.append(i + add2(21,8))"
   ]
  },
  {
   "cell_type": "code",
   "execution_count": 15,
   "id": "f45e1019",
   "metadata": {},
   "outputs": [],
   "source": [
    "def topla (x,y) :\n",
    "    return x + y"
   ]
  },
  {
   "cell_type": "code",
   "execution_count": 16,
   "id": "2b0009af",
   "metadata": {},
   "outputs": [
    {
     "data": {
      "text/plain": [
       "int"
      ]
     },
     "execution_count": 16,
     "metadata": {},
     "output_type": "execute_result"
    }
   ],
   "source": [
    "type(topla(4,5))"
   ]
  },
  {
   "cell_type": "code",
   "execution_count": 17,
   "id": "c389e9ed",
   "metadata": {},
   "outputs": [],
   "source": [
    "def string():\n",
    "    return \"alideliveli\""
   ]
  },
  {
   "cell_type": "code",
   "execution_count": 18,
   "id": "750a682f",
   "metadata": {},
   "outputs": [
    {
     "data": {
      "text/plain": [
       "'alideliveli'"
      ]
     },
     "execution_count": 18,
     "metadata": {},
     "output_type": "execute_result"
    }
   ],
   "source": [
    "string()"
   ]
  },
  {
   "cell_type": "code",
   "execution_count": 19,
   "id": "aefb413e",
   "metadata": {},
   "outputs": [],
   "source": [
    "from timeit import timeit"
   ]
  },
  {
   "cell_type": "code",
   "execution_count": 20,
   "id": "c9621453",
   "metadata": {},
   "outputs": [],
   "source": [
    "from timeit import timeit"
   ]
  },
  {
   "cell_type": "code",
   "execution_count": 21,
   "id": "780e58b9",
   "metadata": {},
   "outputs": [
    {
     "name": "stdout",
     "output_type": "stream",
     "text": [
      "list comprehension is 1.56 times faster than for loop\n"
     ]
    }
   ],
   "source": [
    "def for_loop():\n",
    "    result = []\n",
    "    for i in range(1000000):\n",
    "        result.append(i)\n",
    "    return result\n",
    "def list_comprehension():\n",
    "    return[i for i in range(1000000)]\n",
    "expSize = 100\n",
    "time1 = timeit(for_loop, number = expSize)\n",
    "time2 = timeit(list_comprehension, number =expSize)\n",
    "print(f\"list comprehension is {round(time1/time2, 2)} times faster than for loop\")"
   ]
  }
 ],
 "metadata": {
  "kernelspec": {
   "display_name": "Python 3 (ipykernel)",
   "language": "python",
   "name": "python3"
  },
  "language_info": {
   "codemirror_mode": {
    "name": "ipython",
    "version": 3
   },
   "file_extension": ".py",
   "mimetype": "text/x-python",
   "name": "python",
   "nbconvert_exporter": "python",
   "pygments_lexer": "ipython3",
   "version": "3.9.12"
  }
 },
 "nbformat": 4,
 "nbformat_minor": 5
}
