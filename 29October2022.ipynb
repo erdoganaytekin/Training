{
 "cells": [
  {
   "cell_type": "markdown",
   "id": "71e9c513",
   "metadata": {},
   "source": [
    "**Python official documentation1 - More Flexible Loop Control: https://peps.python.org/pep-0548/**\n",
    "\n",
    "**Python official documentation2 - Enhenced while loop: https://peps.python.org/pep-0315/**\n",
    "\n",
    "**Python official documentation - Labeled \"break\" and \"continue\": https://peps.python.org/pep-3136/**\n",
    "\n",
    "**Link 4 - Loops in Python: https://www.w3schools.com/python/python_for_loops.asp**\n",
    "\n",
    "**Link 5 - Loops in Python: https://www.geeksforgeeks.org/loops-in-python/**\n",
    "\n",
    "**Link 6 - Loops : https://www.learnpython.org/en/Loops**"
   ]
  },
  {
   "cell_type": "code",
   "execution_count": 2,
   "id": "3f541401",
   "metadata": {},
   "outputs": [
    {
     "name": "stdout",
     "output_type": "stream",
     "text": [
      "0 ts 1 ts 2 ts 3 ts 4 ts 5 ts 6 ts 7 ts 8 ts 9 ts 10 ts 11 ts 12 ts 13 ts 14 ts 15 ts 16 ts 17 ts 18 ts 19 ts "
     ]
    }
   ],
   "source": [
    "for i in range(20):\n",
    "    print(i, end = \" ts \")"
   ]
  },
  {
   "cell_type": "markdown",
   "id": "2e7e752b",
   "metadata": {},
   "source": [
    "# While check the condition"
   ]
  },
  {
   "cell_type": "code",
   "execution_count": 2,
   "id": "81ecd2e3",
   "metadata": {},
   "outputs": [
    {
     "name": "stdout",
     "output_type": "stream",
     "text": [
      "I love you.\n",
      "I love you.\n",
      "I love you.\n",
      "I love you.\n",
      "I love you.\n"
     ]
    }
   ],
   "source": [
    "counter = 0\n",
    "\n",
    "while counter < 5 :\n",
    "    print(\"I love you.\")\n",
    "    counter += 1"
   ]
  },
  {
   "cell_type": "code",
   "execution_count": 4,
   "id": "be2e9635",
   "metadata": {},
   "outputs": [
    {
     "name": "stdout",
     "output_type": "stream",
     "text": [
      "I love you.\n",
      "I love you.\n",
      "I love you.\n",
      "I love you.\n",
      "I love you.\n"
     ]
    }
   ],
   "source": [
    "counter = 5\n",
    "\n",
    "while counter < 10 :\n",
    "    print(\"I love you.\")\n",
    "    counter += 1"
   ]
  },
  {
   "cell_type": "code",
   "execution_count": 2,
   "id": "a8c6924b",
   "metadata": {},
   "outputs": [
    {
     "name": "stdout",
     "output_type": "stream",
     "text": [
      "I love you too.\n",
      "I love you too.\n",
      "I love you too.\n",
      "I love you too.\n",
      "I love you too.\n"
     ]
    }
   ],
   "source": [
    "counter = 5\n",
    "\n",
    "while counter > 0 :\n",
    "    print(\"I love you too.\")\n",
    "    counter -= 1"
   ]
  },
  {
   "cell_type": "code",
   "execution_count": 3,
   "id": "44de3329",
   "metadata": {},
   "outputs": [
    {
     "name": "stdout",
     "output_type": "stream",
     "text": [
      "I love you.\n",
      "I love you.\n",
      "I love you.\n",
      "I love you.\n",
      "I love you.\n"
     ]
    }
   ],
   "source": [
    "counter = 5\n",
    "\n",
    "while counter < 10 :\n",
    "    print(\"I love you.\")\n",
    "    counter += 1"
   ]
  },
  {
   "cell_type": "markdown",
   "id": "ea988ceb",
   "metadata": {},
   "source": [
    "# Count the iterator"
   ]
  },
  {
   "cell_type": "code",
   "execution_count": 1,
   "id": "2ac60ea4",
   "metadata": {},
   "outputs": [
    {
     "name": "stdout",
     "output_type": "stream",
     "text": [
      "5\n"
     ]
    }
   ],
   "source": [
    "con = 5\n",
    "while con:\n",
    "    print(con)\n",
    "    break"
   ]
  },
  {
   "cell_type": "code",
   "execution_count": 3,
   "id": "137f5b6d",
   "metadata": {},
   "outputs": [
    {
     "name": "stdout",
     "output_type": "stream",
     "text": [
      "4\n",
      "3\n",
      "2\n",
      "1\n",
      "0\n"
     ]
    }
   ],
   "source": [
    "con = 5\n",
    "while True:\n",
    "    con -=1\n",
    "    print(con)\n",
    "    \n",
    "    if con ==0:\n",
    "        break"
   ]
  },
  {
   "cell_type": "code",
   "execution_count": 5,
   "id": "7bb61634",
   "metadata": {},
   "outputs": [
    {
     "name": "stdout",
     "output_type": "stream",
     "text": [
      "4\n"
     ]
    }
   ],
   "source": [
    "con = 5\n",
    "while True:\n",
    "    con -=1\n",
    "    print(con)\n",
    "    break"
   ]
  },
  {
   "cell_type": "code",
   "execution_count": null,
   "id": "88c2e84f",
   "metadata": {},
   "outputs": [],
   "source": []
  },
  {
   "cell_type": "code",
   "execution_count": 1,
   "id": "65564699",
   "metadata": {},
   "outputs": [
    {
     "name": "stdout",
     "output_type": "stream",
     "text": [
      "Enter your age: 30.9\n",
      "You entered incorrectly!\n",
      "Enter your age please: 35\n",
      "Great you entered valid input and your age is: 35\n"
     ]
    }
   ],
   "source": [
    "age = input(\"Enter your age: \")\n",
    "\n",
    "while not age.isdigit():\n",
    "    \n",
    "    print(\"You entered incorrectly!\")\n",
    "    \n",
    "    age = input(\"Enter your age please: \")\n",
    "    \n",
    "print(\"Great you entered valid input and your age is:\",age)"
   ]
  },
  {
   "cell_type": "code",
   "execution_count": 2,
   "id": "ef0160ed",
   "metadata": {},
   "outputs": [
    {
     "data": {
      "text/plain": [
       "True"
      ]
     },
     "execution_count": 2,
     "metadata": {},
     "output_type": "execute_result"
    }
   ],
   "source": [
    "yas = \"24\"\n",
    "yas.isdigit()"
   ]
  },
  {
   "cell_type": "code",
   "execution_count": 1,
   "id": "e8a861b7",
   "metadata": {},
   "outputs": [
    {
     "name": "stdout",
     "output_type": "stream",
     "text": [
      "Let's start play the quessing game!\n",
      "What a two digit number am i thinking of?25\n",
      "Little higher..\n",
      "What a two digit number am i thinking of?28\n",
      "Little lower..\n",
      "What a two digit number am i thinking of?27\n",
      "Little lower..\n",
      "What a two digit number am i thinking of?26\n",
      "Are you a mindreader\n"
     ]
    }
   ],
   "source": [
    "answer = 26\n",
    "\n",
    "print(\"Let's start play the quessing game!\")\n",
    "\n",
    "while True :\n",
    "    \n",
    "    guess = int(input(\"What a two digit number am i thinking of?\"))\n",
    "    \n",
    "    if guess < answer : \n",
    "        print(\"Little higher..\")\n",
    "    elif guess> answer :\n",
    "        print(\"Little lower..\")\n",
    "    else :\n",
    "        print(\"Are you a mindreader\")\n",
    "        break"
   ]
  },
  {
   "cell_type": "code",
   "execution_count": null,
   "id": "15084b64",
   "metadata": {},
   "outputs": [],
   "source": [
    "while True:  \n",
    "  sayi1= 26\n",
    "  sayi= int(input(\"Please enter a number: \"))\n",
    "  if sayi < sayi1:\n",
    "    print(\"Higher please.\")\n",
    "  elif sayi> sayi1:\n",
    "    print(\"Lower please.\")\n",
    "  else:\n",
    "    print(\"You found the number and it is\", sayi1)\n",
    "    break"
   ]
  },
  {
   "cell_type": "code",
   "execution_count": null,
   "id": "303cc3ca",
   "metadata": {},
   "outputs": [],
   "source": [
    "sentences = set(input(\"clarusway\"))\n",
    "\"The best school is Clarusway\".split()\n"
   ]
  },
  {
   "cell_type": "code",
   "execution_count": 8,
   "id": "6388e715",
   "metadata": {},
   "outputs": [
    {
     "name": "stdout",
     "output_type": "stream",
     "text": [
      "Give me a sentences: California\n",
      "The lenght of the longest word:  10\n"
     ]
    }
   ],
   "source": [
    "\"The best school is Clarusway\".split()\n",
    "\n",
    "sentence = input(\"Give me a sentences: \")\n",
    "\n",
    "word_list = sentence.split()\n",
    "\n",
    "longest = 0\n",
    "i = 0\n",
    "while i < len(word_list) :\n",
    "    if len(word_list[i]) > longest :\n",
    "        longest = len(word_list[i])\n",
    "    i += 1\n",
    "    \n",
    "print(\"The lenght of the longest word: \",longest)\n",
    "\n",
    "        \n",
    "    \n",
    "    "
   ]
  },
  {
   "cell_type": "code",
   "execution_count": 10,
   "id": "58eda43b",
   "metadata": {},
   "outputs": [
    {
     "name": "stdout",
     "output_type": "stream",
     "text": [
      "[1, 2, 3, 4, 5]\n"
     ]
    }
   ],
   "source": [
    "numbers = []\n",
    "\n",
    "for i in range(1,6):\n",
    "    numbers.append(i)\n",
    "print(numbers)"
   ]
  }
 ],
 "metadata": {
  "kernelspec": {
   "display_name": "Python 3 (ipykernel)",
   "language": "python",
   "name": "python3"
  },
  "language_info": {
   "codemirror_mode": {
    "name": "ipython",
    "version": 3
   },
   "file_extension": ".py",
   "mimetype": "text/x-python",
   "name": "python",
   "nbconvert_exporter": "python",
   "pygments_lexer": "ipython3",
   "version": "3.9.12"
  }
 },
 "nbformat": 4,
 "nbformat_minor": 5
}
