     { 
 "cells": [
  {
   "cell_type": "code",
   "execution_count": 1,
   "id": "1fbf4585",
   "metadata": {},
   "outputs": [],
   "source": [
    "z = 5.0"
   ]
  },
  {
   "cell_type": "code",
   "execution_count": 35,
   "id": "0972ce8a",
   "metadata": {},
   "outputs": [
    {
     "name": "stdout",
     "output_type": "stream",
     "text": [
      "Enter first number: 4\n",
      "Enter second number: 4\n",
      "1.0\n"
     ]
    }
   ],
   "source": [
    "while True :\n",
    "    x = int(input(\"Enter first number: \"))\n",
    "    y = int(input(\"Enter second number: \"))\n",
    "    \n",
    "    try:\n",
    "        z = x / y\n",
    "        print(z)\n",
    "        break\n",
    "    except :\n",
    "        print(\"Something wrong!\")"
   ]
  },
  {
   "cell_type": "code",
   "execution_count": 15,
   "id": "7be7d490",
   "metadata": {},
   "outputs": [
    {
     "name": "stdout",
     "output_type": "stream",
     "text": [
      "Enter first number: 3\n",
      "Enter second number: t\n"
     ]
    },
    {
     "ename": "ValueError",
     "evalue": "invalid literal for int() with base 10: 't'",
     "output_type": "error",
     "traceback": [
      "\u001b[0;31m---------------------------------------------------------------------------\u001b[0m",
      "\u001b[0;31mValueError\u001b[0m                                Traceback (most recent call last)",
      "Input \u001b[0;32mIn [15]\u001b[0m, in \u001b[0;36m<cell line: 2>\u001b[0;34m()\u001b[0m\n\u001b[1;32m      1\u001b[0m \u001b[38;5;28;01mwhile\u001b[39;00m \u001b[38;5;28;01mTrue\u001b[39;00m :\n\u001b[1;32m      2\u001b[0m     x \u001b[38;5;241m=\u001b[39m \u001b[38;5;28mint\u001b[39m(\u001b[38;5;28minput\u001b[39m(\u001b[38;5;124m\"\u001b[39m\u001b[38;5;124mEnter first number: \u001b[39m\u001b[38;5;124m\"\u001b[39m))\n\u001b[0;32m----> 3\u001b[0m     y \u001b[38;5;241m=\u001b[39m \u001b[38;5;28;43mint\u001b[39;49m\u001b[43m(\u001b[49m\u001b[38;5;28;43minput\u001b[39;49m\u001b[43m(\u001b[49m\u001b[38;5;124;43m\"\u001b[39;49m\u001b[38;5;124;43mEnter second number: \u001b[39;49m\u001b[38;5;124;43m\"\u001b[39;49m\u001b[43m)\u001b[49m\u001b[43m)\u001b[49m\n\u001b[1;32m      5\u001b[0m     \u001b[38;5;28;01mtry\u001b[39;00m:\n\u001b[1;32m      6\u001b[0m         z \u001b[38;5;241m=\u001b[39m x \u001b[38;5;241m/\u001b[39m y\n",
      "\u001b[0;31mValueError\u001b[0m: invalid literal for int() with base 10: 't'"
     ]
    }
   ],
   "source": [
    "while True :\n",
    "    x = int(input(\"Enter first number: \"))\n",
    "    y = int(input(\"Enter second number: \"))\n",
    "    \n",
    "    try:\n",
    "        z = x / y\n",
    "        print(z)\n",
    "        break\n",
    "    except :\n",
    "        print(\"Something wrong!\")\n",
    "        break\n",
    "    finally:\n",
    "        print(\"ty\")"
   ]
  },
  {
   "cell_type": "code",
   "execution_count": 3,
   "id": "0254aae4",
   "metadata": {},
   "outputs": [
    {
     "name": "stdout",
     "output_type": "stream",
     "text": [
      "Enter first number: 4\n",
      "Enter second number: 0\n",
      "Something wrong!\n",
      "Enter first number: 4\n",
      "Enter second number: 4\n",
      "1.0\n"
     ]
    }
   ],
   "source": [
    "while True :\n",
    "    x = int(input(\"Enter first number: \"))\n",
    "    y = int(input(\"Enter second number: \"))\n",
    "    \n",
    "    try:\n",
    "        z = x / y\n",
    "        print(z)\n",
    "        break\n",
    "    except :\n",
    "        print(\"Something wrong!\")"
   ]
  },
  {
   "cell_type": "code",
   "execution_count": 4,
   "id": "8211d200",
   "metadata": {},
   "outputs": [
    {
     "name": "stdout",
     "output_type": "stream",
     "text": [
      "perhaps that is wrong.\n"
     ]
    }
   ],
   "source": [
    "try :\n",
    "    print(\"4\" + 4)\n",
    "except :\n",
    "    print(\"perhaps that is wrong.\")"
   ]
  },
  {
   "cell_type": "code",
   "execution_count": 5,
   "id": "b3eafa49",
   "metadata": {},
   "outputs": [
    {
     "name": "stdout",
     "output_type": "stream",
     "text": [
      "12\n",
      "11\n"
     ]
    }
   ],
   "source": [
    "try :\n",
    "    print(\"1\" + \"2\")\n",
    "    print(\"1\" * 2)\n",
    "except :\n",
    "    print(\"perhaps that is wrong.\")"
   ]
  },
  {
   "cell_type": "code",
   "execution_count": 6,
   "id": "850bbe29",
   "metadata": {},
   "outputs": [
    {
     "name": "stdout",
     "output_type": "stream",
     "text": [
      "1\n"
     ]
    }
   ],
   "source": [
    "a=10\n",
    "b=0\n",
    "\n",
    "c= (a/b) if b!=0 else 1\n",
    "print(c)"
   ]
  },
  {
   "cell_type": "code",
   "execution_count": 7,
   "id": "1c677355",
   "metadata": {},
   "outputs": [
    {
     "name": "stdout",
     "output_type": "stream",
     "text": [
      "Type error, check type.\n",
      "It is my turn. i worked\n"
     ]
    }
   ],
   "source": [
    "try :\n",
    "    print(\"4\" + 4)\n",
    "except TypeError:\n",
    "    print(\"Type error, check type.\")\n",
    "else :\n",
    "    print(\"no problem about exeption.\")\n",
    "finally:\n",
    "    print(\"It is my turn. i worked\")"
   ]
  },
  {
   "cell_type": "code",
   "execution_count": 8,
   "id": "c409ce00",
   "metadata": {},
   "outputs": [
    {
     "name": "stdout",
     "output_type": "stream",
     "text": [
      "55\n",
      "no problem about exeption.\n",
      "It is my turn. i worked\n"
     ]
    }
   ],
   "source": [
    "try :\n",
    "    print(\"5\" + \"5\")\n",
    "except TypeError:\n",
    "    print(\"Type error, check type.\")\n",
    "else :\n",
    "    print(\"no problem about exeption.\")\n",
    "finally:\n",
    "    print(\"It is my turn. i worked\")"
   ]
  },
  {
   "cell_type": "code",
   "execution_count": 20,
   "id": "da8294ae",
   "metadata": {},
   "outputs": [],
   "source": [
    "import math"
   ]
  },
  {
   "cell_type": "code",
   "execution_count": 21,
   "id": "98732d89",
   "metadata": {},
   "outputs": [
    {
     "ename": "ValueError",
     "evalue": "math domain error",
     "output_type": "error",
     "traceback": [
      "\u001b[0;31m---------------------------------------------------------------------------\u001b[0m",
      "\u001b[0;31mValueError\u001b[0m                                Traceback (most recent call last)",
      "Input \u001b[0;32mIn [21]\u001b[0m, in \u001b[0;36m<cell line: 1>\u001b[0;34m()\u001b[0m\n\u001b[0;32m----> 1\u001b[0m \u001b[38;5;28mprint\u001b[39m(\u001b[43mmath\u001b[49m\u001b[38;5;241;43m.\u001b[39;49m\u001b[43msqrt\u001b[49m\u001b[43m(\u001b[49m\u001b[38;5;241;43m-\u001b[39;49m\u001b[38;5;241;43m25\u001b[39;49m\u001b[43m)\u001b[49m)\n",
      "\u001b[0;31mValueError\u001b[0m: math domain error"
     ]
    }
   ],
   "source": [
    "print(math.sqrt(-25))"
   ]
  },
  {
   "cell_type": "code",
   "execution_count": 38,
   "id": "6f92a963",
   "metadata": {},
   "outputs": [
    {
     "name": "stdout",
     "output_type": "stream",
     "text": [
      "Value error, check value.\n",
      "It is my turn. i worked\n"
     ]
    }
   ],
   "source": [
    "try :\n",
    "    print(math.sqrt(-25))\n",
    "except ValueError:\n",
    "    print(\"Value error, check value.\")\n",
    "else :\n",
    "    print(\"no problem about exeption.\")\n",
    "finally:\n",
    "    print(\"It is my turn. i worked\")"
   ]
  },
  {
   "cell_type": "code",
   "execution_count": 32,
   "id": "e7fca974",
   "metadata": {},
   "outputs": [
    {
     "name": "stdout",
     "output_type": "stream",
     "text": [
      "Name error, define it.\n",
      "It is my turn. i worked\n"
     ]
    }
   ],
   "source": [
    "try :\n",
    "    print(banana)\n",
    "except NameError:\n",
    "    print(\"Name error, define it.\")\n",
    "else :\n",
    "    print(\"no problem about exeption.\")\n",
    "finally:\n",
    "    print(\"It is my turn. i worked\")"
   ]
  },
  {
   "cell_type": "code",
   "execution_count": 39,
   "id": "f4da2bb2",
   "metadata": {},
   "outputs": [
    {
     "name": "stdout",
     "output_type": "stream",
     "text": [
      "It is my turn. i worked\n"
     ]
    },
    {
     "ename": "TypeError",
     "evalue": "can only concatenate str (not \"int\") to str",
     "output_type": "error",
     "traceback": [
      "\u001b[0;31m---------------------------------------------------------------------------\u001b[0m",
      "\u001b[0;31mTypeError\u001b[0m                                 Traceback (most recent call last)",
      "Input \u001b[0;32mIn [39]\u001b[0m, in \u001b[0;36m<cell line: 1>\u001b[0;34m()\u001b[0m\n\u001b[1;32m      1\u001b[0m \u001b[38;5;28;01mtry\u001b[39;00m :\n\u001b[0;32m----> 2\u001b[0m     \u001b[38;5;28mprint\u001b[39m(\u001b[38;5;124;43m\"\u001b[39;49m\u001b[38;5;124;43m4\u001b[39;49m\u001b[38;5;124;43m\"\u001b[39;49m\u001b[43m \u001b[49m\u001b[38;5;241;43m+\u001b[39;49m\u001b[43m \u001b[49m\u001b[38;5;241;43m4\u001b[39;49m)\n\u001b[1;32m      3\u001b[0m \u001b[38;5;28;01mexcept\u001b[39;00m \u001b[38;5;167;01mValueError\u001b[39;00m:\n\u001b[1;32m      4\u001b[0m     \u001b[38;5;28mprint\u001b[39m(\u001b[38;5;124m\"\u001b[39m\u001b[38;5;124mType error, check type.\u001b[39m\u001b[38;5;124m\"\u001b[39m)\n",
      "\u001b[0;31mTypeError\u001b[0m: can only concatenate str (not \"int\") to str"
     ]
    }
   ],
   "source": [
    "try :\n",
    "    print(\"4\" + 4)\n",
    "except ValueError:\n",
    "    print(\"Type error, check type.\")\n",
    "else :\n",
    "    print(\"no problem about exeption.\")\n",
    "finally:\n",
    "    print(\"It is my turn. i worked\")"
   ]
  },
  {
   "cell_type": "code",
   "execution_count": 16,
   "id": "8025d145",
   "metadata": {},
   "outputs": [
    {
     "name": "stdout",
     "output_type": "stream",
     "text": [
      "It is my turn. i worked\n"
     ]
    },
    {
     "ename": "TypeError",
     "evalue": "can only concatenate str (not \"int\") to str",
     "output_type": "error",
     "traceback": [
      "\u001b[0;31m---------------------------------------------------------------------------\u001b[0m",
      "\u001b[0;31mTypeError\u001b[0m                                 Traceback (most recent call last)",
      "Input \u001b[0;32mIn [16]\u001b[0m, in \u001b[0;36m<cell line: 1>\u001b[0;34m()\u001b[0m\n\u001b[1;32m      1\u001b[0m \u001b[38;5;28;01mtry\u001b[39;00m :\n\u001b[0;32m----> 2\u001b[0m     \u001b[38;5;28mprint\u001b[39m(\u001b[38;5;124;43m\"\u001b[39;49m\u001b[38;5;124;43m4\u001b[39;49m\u001b[38;5;124;43m\"\u001b[39;49m\u001b[43m \u001b[49m\u001b[38;5;241;43m+\u001b[39;49m\u001b[43m \u001b[49m\u001b[38;5;241;43m4\u001b[39;49m)\n\u001b[1;32m      3\u001b[0m \u001b[38;5;28;01mexcept\u001b[39;00m \u001b[38;5;167;01mValueError\u001b[39;00m:\n\u001b[1;32m      4\u001b[0m     \u001b[38;5;28mprint\u001b[39m(\u001b[38;5;124m\"\u001b[39m\u001b[38;5;124mType error, check type.\u001b[39m\u001b[38;5;124m\"\u001b[39m)\n",
      "\u001b[0;31mTypeError\u001b[0m: can only concatenate str (not \"int\") to str"
     ]
    }
   ],
   "source": [
    "try :\n",
    "    print(\"4\" + 4)\n",
    "except ValueError:\n",
    "    print(\"Type error, check type.\")\n",
    "else :\n",
    "    print(\"no problem about exeption.\")\n",
    "finally:\n",
    "    print(\"It is my turn. i worked\")"
   ]
  },
  {
   "cell_type": "code",
   "execution_count": 15,
   "id": "041bcbdb",
   "metadata": {},
   "outputs": [
    {
     "name": "stdout",
     "output_type": "stream",
     "text": [
      "4444\n",
      "no problem about exeption.\n",
      "It is my turn. i worked\n"
     ]
    }
   ],
   "source": [
    "try :\n",
    "    print(\"4\" * 4)\n",
    "except ValueError:\n",
    "    print(\"Type error, check type.\")\n",
    "else :\n",
    "    print(\"no problem about exeption.\")\n",
    "finally:\n",
    "    print(\"It is my turn. i worked\")"
   ]
  },
  {
   "cell_type": "code",
   "execution_count": 18,
   "id": "f71acd27",
   "metadata": {},
   "outputs": [
    {
     "name": "stdout",
     "output_type": "stream",
     "text": [
      "Type error or ValueError, check type.\n",
      "It is my turn. i worked\n"
     ]
    }
   ],
   "source": [
    "try :\n",
    "    print(\"4\" + 4)\n",
    "except (TypeError ,ValueError):\n",
    "    print(\"Type error or ValueError, check type.\")\n",
    "else :\n",
    "    print(\"no problem about exeption.\")\n",
    "finally:\n",
    "    print(\"It is my turn. i worked\")"
   ]
  },
  {
   "cell_type": "code",
   "execution_count": 27,
   "id": "8697d366",
   "metadata": {},
   "outputs": [
    {
     "name": "stdout",
     "output_type": "stream",
     "text": [
      "name :erdogan\n",
      "name 'xx' is not defined\n",
      "<class 'NameError'>\n"
     ]
    }
   ],
   "source": [
    "try :\n",
    "    name = input(\"name :\")\n",
    "    print(xx)\n",
    "except Exception as mistake :\n",
    "    print(mistake)\n",
    "    print(type(mistake))"
   ]
  },
  {
   "cell_type": "code",
   "execution_count": 28,
   "id": "b5b69c08",
   "metadata": {},
   "outputs": [
    {
     "name": "stdout",
     "output_type": "stream",
     "text": [
      "name :erdogan\n",
      "4\n"
     ]
    }
   ],
   "source": [
    "try :\n",
    "    name = input(\"name :\")\n",
    "    print(x)\n",
    "except Exception as mistake :\n",
    "    print(mistake)\n",
    "    print(type(mistake))"
   ]
  },
  {
   "cell_type": "code",
   "execution_count": 2,
   "id": "6cccf8c0",
   "metadata": {},
   "outputs": [],
   "source": [
    "fruits = [\"banana\", \"mango\", \"pear\", \"apple\", \"kiwi\", \"grape\"]"
   ]
  },
  {
   "cell_type": "code",
   "execution_count": 5,
   "id": "d35a7eb5",
   "metadata": {},
   "outputs": [
    {
     "name": "stdout",
     "output_type": "stream",
     "text": [
      "Input your favorite fruit's index? : 6\n",
      "There is no index like this, please try again.\n",
      "Input your favorite fruit's index? : 9\n",
      "There is no index like this, please try again.\n",
      "Input your favorite fruit's index? : banana\n",
      "Numeric please.\n",
      "Input your favorite fruit's index? : 1\n",
      "My favorite fruit is mango .\n"
     ]
    }
   ],
   "source": [
    "while True :\n",
    "    \n",
    "    try :\n",
    "        index = int(input(\"Input your favorite fruit's index? : \"))\n",
    "        print(\"My favorite fruit is {} .\".format(fruits[index]))\n",
    "        break\n",
    "    \n",
    "    except IndexError :\n",
    "        print(\"There is no index like this, please try again.\")\n",
    "        \n",
    "    except ValueError :\n",
    "        print(\"Numeric please.\")"
   ]
  },
  {
   "cell_type": "code",
   "execution_count": 4,
   "id": "bd055d83",
   "metadata": {},
   "outputs": [
    {
     "name": "stdout",
     "output_type": "stream",
     "text": [
      "Input your favorite fruit's index? : pol\n",
      "Numeric please.\n",
      "Input your favorite fruit's index? : 3\n",
      "My favorite fruit is apple .\n"
     ]
    }
   ],
   "source": [
    "while True :\n",
    "    \n",
    "    try :\n",
    "        index = int(input(\"Input your favorite fruit's index? : \"))\n",
    "        print(\"My favorite fruit is {} .\".format(fruits[index]))\n",
    "        break\n",
    "    \n",
    "    except IndexError :\n",
    "        print(\"There is no index like this, please try again.\")\n",
    "        \n",
    "    except ValueError :\n",
    "        print(\"Numeric please.\")"
   ]
  },
  {
   "cell_type": "code",
   "execution_count": 1,
   "id": "5efb584e",
   "metadata": {},
   "outputs": [],
   "source": [
    "fruits = [\"banana\", \"mango\", \"pear\", \"apple\", \"kiwi\", \"grape\"]"
   ]
  },
  {
   "cell_type": "code",
   "execution_count": 2,
   "id": "b5dec8c0",
   "metadata": {},
   "outputs": [
    {
     "name": "stdout",
     "output_type": "stream",
     "text": [
      "Favori meyve indexini girer misin? : 2\n",
      "Benim favori meyvem pear'dir.\n",
      "Tebrikler.. Doğru giriş yaptınız.\n",
      "Meyvelerim tazedir. Afiyet ossun.\n"
     ]
    }
   ],
   "source": [
    "count = 3\n",
    "count1 = 3\n",
    "\n",
    "while count > 0 or count1 >0:\n",
    "    \n",
    "    try :\n",
    "        index = int(input(\"Favori meyve indexini girer misin? : \"))\n",
    "        print(\"Benim favori meyvem {}'dir.\".format(fruits[index]))\n",
    "    \n",
    "    except IndexError :\n",
    "        count -= 1\n",
    "        print(f\"Böyle bir index bulunmamaktadır. {count} adet giriş hakkınız kaldı. Lütfen doğru giriş yapınız.\")\n",
    "        \n",
    "    except ValueError :\n",
    "        count1 -= 1\n",
    "        print(f\"Integer yani numeric bir değer giriniz. {count1} adet giriş hakkınız kaldı. Tekrar deneyin.\")\n",
    "        \n",
    "    else :\n",
    "        print(\"Tebrikler.. Doğru giriş yaptınız.\")\n",
    "        break\n",
    "        \n",
    "    finally :\n",
    "        print(\"Meyvelerim tazedir. Afiyet ossun.\")"
   ]
  },
  {
   "cell_type": "code",
   "execution_count": null,
   "id": "492ed22c",
   "metadata": {},
   "outputs": [
    {
     "name": "stdout",
     "output_type": "stream",
     "text": [
      "Favori meyve indexini girer misin? : 6\n",
      "Böyle bir index bulunmamaktadır. 2 adet giriş hakkınız kaldı. Lütfen doğru giriş yapınız.\n",
      "Meyvelerim tazedir. Afiyet ossun.\n",
      "Favori meyve indexini girer misin? : 6\n",
      "Böyle bir index bulunmamaktadır. 1 adet giriş hakkınız kaldı. Lütfen doğru giriş yapınız.\n",
      "Meyvelerim tazedir. Afiyet ossun.\n",
      "Favori meyve indexini girer misin? : 6\n",
      "Index Error. Sorry you have to right left\n",
      "Meyvelerim tazedir. Afiyet ossun.\n",
      "Favori meyve indexini girer misin? : 6\n",
      "Böyle bir index bulunmamaktadır. -1 adet giriş hakkınız kaldı. Lütfen doğru giriş yapınız.\n",
      "Meyvelerim tazedir. Afiyet ossun.\n"
     ]
    }
   ],
   "source": [
    "count = 3\n",
    "count1 = 3\n",
    "\n",
    "while count > 0 or count1 >0:\n",
    "    \n",
    "    try :\n",
    "        index = int(input(\"Favori meyve indexini girer misin? : \"))\n",
    "        print(\"Benim favori meyvem {}'dir.\".format(fruits[index]))\n",
    "    \n",
    "    except IndexError :\n",
    "        count -= 1\n",
    "        if count!=0 :\n",
    "            print(f\"Böyle bir index bulunmamaktadır. {count} adet giriş hakkınız kaldı. Lütfen doğru giriş yapınız.\")\n",
    "        else:\n",
    "            print(f\"Index Error. Sorry you have to right left\")\n",
    "    except ValueError :\n",
    "        count1 -= 1\n",
    "        if count1!=0 :\n",
    "            print(f\"Integer yani numeric bir değer giriniz. {count1} adet giriş hakkınız kaldı. Tekrar deneyin.\")\n",
    "        else:\n",
    "            print(f\"Value Error. Sorry you have to right left\")\n",
    "    else :\n",
    "        print(\"Tebrikler.. Doğru giriş yaptınız.\")\n",
    "        break\n",
    "        \n",
    "    finally :\n",
    "        print(\"Meyvelerim tazedir. Afiyet ossun.\")"
   ]
  },
  {
   "cell_type": "code",
   "execution_count": 6,
   "id": "737078a6",
   "metadata": {},
   "outputs": [
    {
     "data": {
      "text/plain": [
       "'/Users/erdoganaytekin/Desktop/Clarusway/November2022'"
      ]
     },
     "execution_count": 6,
     "metadata": {},
     "output_type": "execute_result"
    }
   ],
   "source": [
    "pwd"
   ]
  },
  {
   "cell_type": "code",
   "execution_count": null,
   "id": "61acd951",
   "metadata": {},
   "outputs": [],
   "source": []
  }
 ],
 "metadata": {
  "kernelspec": {
   "display_name": "Python 3 (ipykernel)",
   "language": "python",
   "name": "python3"
  },
  "language_info": {
   "codemirror_mode": {
    "name": "ipython",
    "version": 3
   },
   "file_extension": ".py",
   "mimetype": "text/x-python",
   "name": "python",
   "nbconvert_exporter": "python",
   "pygments_lexer": "ipython3",
   "version": "3.9.12"
  }
 },
 "nbformat": 4,
 "nbformat_minor": 5
}
