{
 "cells": [
  {
   "cell_type": "code",
   "execution_count": 6,
   "id": "92d1dcde",
   "metadata": {},
   "outputs": [
    {
     "name": "stdout",
     "output_type": "stream",
     "text": [
      "Enter a word :tester\n",
      "\n",
      "'tester' is not a comfortable word\n"
     ]
    }
   ],
   "source": [
    "word = input(\"Enter a word :\")\n",
    "\n",
    "left = set(\"qwertasdfgzxcvb\")\n",
    "\n",
    "right = set(\"yuiophjklmn\")\n",
    "\n",
    "leftcheck = bool(set(word).difference(left))\n",
    "rightcheck = bool(set(word).difference(right))\n",
    "\n",
    "result = leftcheck and rightcheck\n",
    "\n",
    "print(f\"'{word}' is a comfortable word\" * int(result))\n",
    "print(f\"'{word}' is not a comfortable word\" * int(not result))"
   ]
  },
  {
   "cell_type": "code",
   "execution_count": null,
   "id": "846b4892",
   "metadata": {},
   "outputs": [],
   "source": []
  },
  {
   "cell_type": "code",
   "execution_count": 11,
   "id": "62dcc6fa",
   "metadata": {},
   "outputs": [
    {
     "name": "stdout",
     "output_type": "stream",
     "text": [
      "False\n"
     ]
    }
   ],
   "source": [
    "print(bool(set(word).intersection(left) and set(word).intersection(right)))"
   ]
  },
  {
   "cell_type": "code",
   "execution_count": 17,
   "id": "0bf51a8d",
   "metadata": {},
   "outputs": [
    {
     "name": "stdout",
     "output_type": "stream",
     "text": [
      "Enter a word :tester\n"
     ]
    },
    {
     "data": {
      "text/plain": [
       "False"
      ]
     },
     "execution_count": 17,
     "metadata": {},
     "output_type": "execute_result"
    }
   ],
   "source": [
    "word = set(input(\"Enter a word :\"))\n",
    "\n",
    "left = \"qwertasdfgzxcvb\"\n",
    "\n",
    "right = \"yuiophjklmn\"\n",
    "\n",
    "leftcheck = bool(word.difference(left))\n",
    "rightcheck = bool(word.difference(right))\n",
    "\n",
    "leftcheck and rightcheck"
   ]
  },
  {
   "cell_type": "code",
   "execution_count": null,
   "id": "1fa71adf",
   "metadata": {},
   "outputs": [],
   "source": []
  }
 ],
 "metadata": {
  "kernelspec": {
   "display_name": "Python 3 (ipykernel)",
   "language": "python",
   "name": "python3"
  },
  "language_info": {
   "codemirror_mode": {
    "name": "ipython",
    "version": 3
   },
   "file_extension": ".py",
   "mimetype": "text/x-python",
   "name": "python",
   "nbconvert_exporter": "python",
   "pygments_lexer": "ipython3",
   "version": "3.9.12"
  }
 },
 "nbformat": 4,
 "nbformat_minor": 5
}
