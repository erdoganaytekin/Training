{
 "cells": [
  {
   "cell_type": "code",
   "execution_count": 1,
   "id": "2b44b60f",
   "metadata": {},
   "outputs": [
    {
     "name": "stdout",
     "output_type": "stream",
     "text": [
      "0\n",
      "1\n",
      "2\n",
      "3\n",
      "4\n",
      "5\n",
      "6\n",
      "7\n",
      "8\n",
      "9\n"
     ]
    }
   ],
   "source": [
    "for x in range(10):\n",
    "    print(x)"
   ]
  },
  {
   "cell_type": "code",
   "execution_count": 2,
   "id": "d09e1a73",
   "metadata": {},
   "outputs": [],
   "source": [
    "numbers = [x for x in range(10)]"
   ]
  },
  {
   "cell_type": "code",
   "execution_count": 3,
   "id": "fbdfe0d1",
   "metadata": {},
   "outputs": [
    {
     "data": {
      "text/plain": [
       "[0, 1, 2, 3, 4, 5, 6, 7, 8, 9]"
      ]
     },
     "execution_count": 3,
     "metadata": {},
     "output_type": "execute_result"
    }
   ],
   "source": [
    "numbers"
   ]
  },
  {
   "cell_type": "code",
   "execution_count": 4,
   "id": "4277bc0e",
   "metadata": {},
   "outputs": [
    {
     "name": "stdout",
     "output_type": "stream",
     "text": [
      "[0, 1, 2, 3, 4, 5, 6, 7, 8, 9]\n"
     ]
    }
   ],
   "source": [
    "print(numbers)"
   ]
  },
  {
   "cell_type": "code",
   "execution_count": 5,
   "id": "1bd939b7",
   "metadata": {},
   "outputs": [
    {
     "name": "stdout",
     "output_type": "stream",
     "text": [
      "[0, 1, 2, 3, 4, 5, 6, 7, 8, 9]\n"
     ]
    }
   ],
   "source": [
    "numbers = []\n",
    "for x in range(10):\n",
    "    numbers.append(x)\n",
    "print(numbers)"
   ]
  },
  {
   "cell_type": "code",
   "execution_count": 9,
   "id": "7b6c0f99",
   "metadata": {},
   "outputs": [
    {
     "name": "stdout",
     "output_type": "stream",
     "text": [
      "0\n",
      "1\n",
      "4\n",
      "9\n",
      "16\n",
      "25\n",
      "36\n",
      "49\n",
      "64\n",
      "81\n"
     ]
    }
   ],
   "source": [
    "for x in range(10):\n",
    "    print(x**2)"
   ]
  },
  {
   "cell_type": "code",
   "execution_count": 7,
   "id": "624b0bb0",
   "metadata": {},
   "outputs": [],
   "source": [
    "numbers = [x**2 for x in range(10)]"
   ]
  },
  {
   "cell_type": "code",
   "execution_count": 8,
   "id": "ed97a01c",
   "metadata": {},
   "outputs": [
    {
     "data": {
      "text/plain": [
       "[0, 1, 4, 9, 16, 25, 36, 49, 64, 81]"
      ]
     },
     "execution_count": 8,
     "metadata": {},
     "output_type": "execute_result"
    }
   ],
   "source": [
    "numbers"
   ]
  },
  {
   "cell_type": "code",
   "execution_count": 11,
   "id": "96661ad3",
   "metadata": {},
   "outputs": [
    {
     "data": {
      "text/plain": [
       "[0, 9, 36, 81]"
      ]
     },
     "execution_count": 11,
     "metadata": {},
     "output_type": "execute_result"
    }
   ],
   "source": [
    "numbers = [x*x for x in range(10) if x%3==0]\n",
    "numbers"
   ]
  },
  {
   "cell_type": "code",
   "execution_count": 13,
   "id": "e7feca40",
   "metadata": {},
   "outputs": [
    {
     "name": "stdout",
     "output_type": "stream",
     "text": [
      "['H', 'e', 'l', 'l', 'o']\n"
     ]
    }
   ],
   "source": [
    "mystring = \"Hello\"\n",
    "mylist = []\n",
    "\n",
    "for letter in mystring:\n",
    "    mylist.append(letter)\n",
    "print(mylist)"
   ]
  },
  {
   "cell_type": "code",
   "execution_count": 14,
   "id": "79bfd1ec",
   "metadata": {},
   "outputs": [
    {
     "data": {
      "text/plain": [
       "['H', 'e', 'l', 'l', 'o']"
      ]
     },
     "execution_count": 14,
     "metadata": {},
     "output_type": "execute_result"
    }
   ],
   "source": [
    "mylist = [letter for letter in mystring]\n",
    "mylist"
   ]
  },
  {
   "cell_type": "code",
   "execution_count": 16,
   "id": "f4a7184b",
   "metadata": {},
   "outputs": [
    {
     "data": {
      "text/plain": [
       "[39, 23, 14, 66, 36]"
      ]
     },
     "execution_count": 16,
     "metadata": {},
     "output_type": "execute_result"
    }
   ],
   "source": [
    "years = [1983, 1999, 2008, 1956, 1986]\n",
    "ages = [2022-year for year in years]\n",
    "ages"
   ]
  },
  {
   "cell_type": "code",
   "execution_count": 17,
   "id": "5329f706",
   "metadata": {},
   "outputs": [
    {
     "data": {
      "text/plain": [
       "['TEK', 2, 'TEK', 4, 'TEK', 6, 'TEK', 8, 'TEK']"
      ]
     },
     "execution_count": 17,
     "metadata": {},
     "output_type": "execute_result"
    }
   ],
   "source": [
    "results = [x if x%2==0 else \"TEK\" for x in range(1,10)]\n",
    "results"
   ]
  },
  {
   "cell_type": "code",
   "execution_count": 18,
   "id": "da65b046",
   "metadata": {},
   "outputs": [],
   "source": [
    "result = []\n",
    "for x in range(3):\n",
    "    for y in range(3):\n",
    "        result.append((x,y))"
   ]
  },
  {
   "cell_type": "code",
   "execution_count": 19,
   "id": "c40460ec",
   "metadata": {},
   "outputs": [
    {
     "data": {
      "text/plain": [
       "[(0, 0), (0, 1), (0, 2), (1, 0), (1, 1), (1, 2), (2, 0), (2, 1), (2, 2)]"
      ]
     },
     "execution_count": 19,
     "metadata": {},
     "output_type": "execute_result"
    }
   ],
   "source": [
    "result"
   ]
  },
  {
   "cell_type": "code",
   "execution_count": 21,
   "id": "d0cc64eb",
   "metadata": {},
   "outputs": [
    {
     "data": {
      "text/plain": [
       "[(0, 0), (0, 1), (0, 2), (1, 0), (1, 1), (1, 2), (2, 0), (2, 1), (2, 2)]"
      ]
     },
     "execution_count": 21,
     "metadata": {},
     "output_type": "execute_result"
    }
   ],
   "source": [
    "numbers = [(x,y) for x in range(3) for y in range(3)]\n",
    "numbers"
   ]
  },
  {
   "cell_type": "code",
   "execution_count": 22,
   "id": "2d56e7ad",
   "metadata": {},
   "outputs": [
    {
     "data": {
      "text/plain": [
       "[(0, 0, 0),\n",
       " (0, 0, 1),\n",
       " (0, 0, 2),\n",
       " (0, 1, 0),\n",
       " (0, 1, 1),\n",
       " (0, 1, 2),\n",
       " (0, 2, 0),\n",
       " (0, 2, 1),\n",
       " (0, 2, 2),\n",
       " (1, 0, 0),\n",
       " (1, 0, 1),\n",
       " (1, 0, 2),\n",
       " (1, 1, 0),\n",
       " (1, 1, 1),\n",
       " (1, 1, 2),\n",
       " (1, 2, 0),\n",
       " (1, 2, 1),\n",
       " (1, 2, 2),\n",
       " (2, 0, 0),\n",
       " (2, 0, 1),\n",
       " (2, 0, 2),\n",
       " (2, 1, 0),\n",
       " (2, 1, 1),\n",
       " (2, 1, 2),\n",
       " (2, 2, 0),\n",
       " (2, 2, 1),\n",
       " (2, 2, 2)]"
      ]
     },
     "execution_count": 22,
     "metadata": {},
     "output_type": "execute_result"
    }
   ],
   "source": [
    "numbers = [(x,y,z) for x in range(3) for y in range(3) for z in range(3)]\n",
    "numbers"
   ]
  },
  {
   "cell_type": "code",
   "execution_count": 14,
   "id": "3e6a77e6",
   "metadata": {},
   "outputs": [],
   "source": [
    "import random"
   ]
  },
  {
   "cell_type": "code",
   "execution_count": 15,
   "id": "e698e3de",
   "metadata": {},
   "outputs": [],
   "source": [
    "sayi = random.randint(1,100)"
   ]
  },
  {
   "cell_type": "code",
   "execution_count": 16,
   "id": "3234639c",
   "metadata": {},
   "outputs": [
    {
     "data": {
      "text/plain": [
       "53"
      ]
     },
     "execution_count": 16,
     "metadata": {},
     "output_type": "execute_result"
    }
   ],
   "source": [
    "sayi"
   ]
  },
  {
   "cell_type": "code",
   "execution_count": 17,
   "id": "ebdd97e7",
   "metadata": {},
   "outputs": [],
   "source": [
    "hak = 5\n",
    "sayac = 0"
   ]
  },
  {
   "cell_type": "code",
   "execution_count": 11,
   "id": "ef666313",
   "metadata": {},
   "outputs": [
    {
     "name": "stdout",
     "output_type": "stream",
     "text": [
      "tahmin19\n",
      "yukari\n",
      "tahmin20\n",
      "tebrikler 4.defada bildiniz.\n"
     ]
    }
   ],
   "source": [
    "while hak > 0:\n",
    "    hak-= 1\n",
    "    sayac+=1\n",
    "    tahmin = int(input(\"tahmin\"))\n",
    "    \n",
    "    if sayi == tahmin:\n",
    "        print(f\"tebrikler {sayac}.defada bildiniz.\")\n",
    "        break\n",
    "    elif sayi > tahmin:\n",
    "        print(\"yukari\")\n",
    "    else:\n",
    "        print(\"asagi\")\n",
    "        \n",
    "    if hak == 0:\n",
    "        print(f\"hakkiniz bitti. Tutulan sayi: {sayi}\")"
   ]
  },
  {
   "cell_type": "code",
   "execution_count": 18,
   "id": "5cd8bf6e",
   "metadata": {},
   "outputs": [
    {
     "name": "stdout",
     "output_type": "stream",
     "text": [
      "tahmin50\n",
      "yukari\n",
      "tahmin54\n",
      "asagi\n",
      "tahmin53\n",
      "tebrikler 3.defada bildiniz. Toplam puaniniz: 60\n"
     ]
    }
   ],
   "source": [
    "while hak > 0:\n",
    "    hak-= 1\n",
    "    sayac+=1\n",
    "    tahmin = int(input(\"tahmin\"))\n",
    "    \n",
    "    if sayi == tahmin:\n",
    "        print(f\"tebrikler {sayac}.defada bildiniz. Toplam puaniniz: {100-(20)*(sayac-1)}\")\n",
    "        break\n",
    "    elif sayi > tahmin:\n",
    "        print(\"yukari\")\n",
    "    else:\n",
    "        print(\"asagi\")\n",
    "        \n",
    "    if hak == 0:\n",
    "        print(f\"hakkiniz bitti. Tutulan sayi: {sayi}\")"
   ]
  },
  {
   "cell_type": "code",
   "execution_count": 21,
   "id": "99d8b66f",
   "metadata": {},
   "outputs": [
    {
     "name": "stdout",
     "output_type": "stream",
     "text": [
      "kac hak kullanmak istersiniz: 10\n",
      "tahmin5\n",
      "yukari\n",
      "tahmin66\n",
      "asagi\n",
      "tahmin40\n",
      "asagi\n",
      "tahmin30\n",
      "asagi\n",
      "tahmin20\n",
      "asagi\n",
      "tahmin15\n",
      "asagi\n",
      "tahmin11\n",
      "asagi\n",
      "tahmin10\n",
      "asagi\n",
      "tahmin9\n",
      "tebrikler 9.defada bildiniz. Toplam puaniniz: 20.0\n"
     ]
    }
   ],
   "source": [
    "sayi = random.randint(1,100)\n",
    "can = int(input(\"kac hak kullanmak istersiniz: \"))\n",
    "hak = can\n",
    "sayac = 0\n",
    "\n",
    "while hak > 0:\n",
    "    hak-= 1\n",
    "    sayac+=1\n",
    "    tahmin = int(input(\"tahmin\"))\n",
    "    \n",
    "    if sayi == tahmin:\n",
    "        print(f\"tebrikler {sayac}.defada bildiniz. Toplam puaniniz: {100-(100/can)*(sayac-1)}\")\n",
    "        break\n",
    "    elif sayi > tahmin:\n",
    "        print(\"yukari\")\n",
    "    else:\n",
    "        print(\"asagi\")\n",
    "        \n",
    "    if hak == 0:\n",
    "        print(f\"hakkiniz bitti. Tutulan sayi: {sayi}\")"
   ]
  },
  {
   "cell_type": "code",
   "execution_count": 22,
   "id": "0fc58848",
   "metadata": {},
   "outputs": [],
   "source": [
    "# prime number"
   ]
  },
  {
   "cell_type": "code",
   "execution_count": 28,
   "id": "f7c089a3",
   "metadata": {},
   "outputs": [
    {
     "name": "stdout",
     "output_type": "stream",
     "text": [
      "sayi: 18\n",
      "sayi asal degildir.\n"
     ]
    }
   ],
   "source": [
    "sayi = int(input(\"sayi: \"))\n",
    "asalmi = True\n",
    "if sayi == 1:\n",
    "    asalmi = False\n",
    "for i in range(2,sayi):\n",
    "    if (sayi%i == 0):\n",
    "        asalmi = False\n",
    "        break\n",
    "        \n",
    "if asalmi:\n",
    "    \n",
    "    print(\"sayi asaldir.\")\n",
    "else:\n",
    "    print(\"sayi asal degildir.\")"
   ]
  },
  {
   "cell_type": "code",
   "execution_count": null,
   "id": "8a7310a5",
   "metadata": {},
   "outputs": [],
   "source": []
  }
 ],
 "metadata": {
  "kernelspec": {
   "display_name": "Python 3 (ipykernel)",
   "language": "python",
   "name": "python3"
  },
  "language_info": {
   "codemirror_mode": {
    "name": "ipython",
    "version": 3
   },
   "file_extension": ".py",
   "mimetype": "text/x-python",
   "name": "python",
   "nbconvert_exporter": "python",
   "pygments_lexer": "ipython3",
   "version": "3.9.12"
  }
 },
 "nbformat": 4,
 "nbformat_minor": 5
}
