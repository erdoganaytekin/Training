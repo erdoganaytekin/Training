{
 "cells": [
  {
   "cell_type": "markdown",
   "id": "a066d5ef",
   "metadata": {},
   "source": [
    "# 4 Exercises"
   ]
  },
  {
   "cell_type": "code",
   "execution_count": 1,
   "id": "1adf6cd5",
   "metadata": {},
   "outputs": [],
   "source": [
    "#  Gonderilen bir kelimeyi belirtilen kez ekranda gosteren fonksiyonu yazalim."
   ]
  },
  {
   "cell_type": "code",
   "execution_count": 2,
   "id": "cf51a44a",
   "metadata": {},
   "outputs": [],
   "source": [
    "def yazdir(kelime, adet):\n",
    "    print(kelime*adet)"
   ]
  },
  {
   "cell_type": "code",
   "execution_count": 3,
   "id": "1140cb74",
   "metadata": {},
   "outputs": [
    {
     "name": "stdout",
     "output_type": "stream",
     "text": [
      "MerhabaMerhabaMerhabaMerhabaMerhabaMerhabaMerhabaMerhabaMerhabaMerhaba\n"
     ]
    }
   ],
   "source": [
    "yazdir(\"Merhaba\",10)"
   ]
  },
  {
   "cell_type": "code",
   "execution_count": 4,
   "id": "8764d2c9",
   "metadata": {},
   "outputs": [
    {
     "name": "stdout",
     "output_type": "stream",
     "text": [
      "Merhaba\n",
      "Merhaba\n",
      "Merhaba\n",
      "Merhaba\n",
      "Merhaba\n",
      "Merhaba\n",
      "Merhaba\n",
      "Merhaba\n",
      "Merhaba\n",
      "Merhaba\n",
      "\n"
     ]
    }
   ],
   "source": [
    "yazdir(\"Merhaba\\n\",10)"
   ]
  },
  {
   "cell_type": "code",
   "execution_count": 5,
   "id": "5c0d9b2f",
   "metadata": {},
   "outputs": [],
   "source": [
    "# Kendine gonderilen sinirsiz sayidaki parametreyi bir listeye ceviren fonksiyon yazalim."
   ]
  },
  {
   "cell_type": "code",
   "execution_count": 6,
   "id": "83fe3ef6",
   "metadata": {},
   "outputs": [],
   "source": [
    "def listeyecevir(*params):\n",
    "    liste = []\n",
    "    \n",
    "    for param in params:\n",
    "        liste.append(param)\n",
    "        \n",
    "    return liste\n",
    "\n",
    "result = listeyecevir(10,20,30,\"Merhaba\")"
   ]
  },
  {
   "cell_type": "code",
   "execution_count": 7,
   "id": "5e93e1cd",
   "metadata": {},
   "outputs": [
    {
     "name": "stdout",
     "output_type": "stream",
     "text": [
      "[10, 20, 30, 'Merhaba']\n"
     ]
    }
   ],
   "source": [
    "print(result)"
   ]
  },
  {
   "cell_type": "code",
   "execution_count": 8,
   "id": "27ff379c",
   "metadata": {},
   "outputs": [],
   "source": [
    "# Gonderilen 2 sayi arasindaki tum asal sayilari bulun."
   ]
  },
  {
   "cell_type": "code",
   "execution_count": 9,
   "id": "49c87efc",
   "metadata": {},
   "outputs": [
    {
     "name": "stdout",
     "output_type": "stream",
     "text": [
      "Sayi 1: 10\n",
      "Sayi 2: 30\n",
      "11\n",
      "13\n",
      "17\n",
      "19\n",
      "23\n",
      "29\n"
     ]
    }
   ],
   "source": [
    "def asalsayilaribul(sayi1, sayi2):\n",
    "    for sayi in range(sayi1,sayi2+1):\n",
    "        if sayi > 1:\n",
    "            for i in range(2,sayi):\n",
    "                if (sayi % i == 0):\n",
    "                    break\n",
    "            else: print(sayi)\n",
    "                \n",
    "sayi1 = int(input(\"Sayi 1: \"))\n",
    "sayi2 = int(input(\"Sayi 2: \"))\n",
    "\n",
    "asalsayilaribul(sayi1,sayi2)"
   ]
  },
  {
   "cell_type": "code",
   "execution_count": 10,
   "id": "4feff71f",
   "metadata": {},
   "outputs": [],
   "source": [
    "# Kendisine gonderilen bir sayinin tam bolenlerini bir liste yapin."
   ]
  },
  {
   "cell_type": "code",
   "execution_count": 11,
   "id": "c054364e",
   "metadata": {},
   "outputs": [
    {
     "name": "stdout",
     "output_type": "stream",
     "text": [
      "[2, 4, 5, 10]\n"
     ]
    }
   ],
   "source": [
    "def tambolenleribul(sayi):\n",
    "    tambolenler = []\n",
    "    \n",
    "    for i in range(2,sayi):\n",
    "        if sayi % i == 0:\n",
    "            tambolenler.append(i)\n",
    "    return tambolenler\n",
    "\n",
    "print(tambolenleribul(20))"
   ]
  }
 ],
 "metadata": {
  "kernelspec": {
   "display_name": "Python 3 (ipykernel)",
   "language": "python",
   "name": "python3"
  },
  "language_info": {
   "codemirror_mode": {
    "name": "ipython",
    "version": 3
   },
   "file_extension": ".py",
   "mimetype": "text/x-python",
   "name": "python",
   "nbconvert_exporter": "python",
   "pygments_lexer": "ipython3",
   "version": "3.9.12"
  }
 },
 "nbformat": 4,
 "nbformat_minor": 5
}
