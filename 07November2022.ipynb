{.         
 "cells": [
  {
   "cell_type": "markdown",
   "id": "2c9cf9a9",
   "metadata": {},
   "source": [
    "# def_(*name)_(**name)_lambda"
   ]
  },
  {
   "cell_type": "code",
   "execution_count": 1,
   "id": "4a81bf4c",
   "metadata": {},
   "outputs": [
    {
     "name": "stdout",
     "output_type": "stream",
     "text": [
      "evens : [2, 4, 6, 8]\n",
      "odd : [1, 3, 5, 7, 9]\n"
     ]
    }
   ],
   "source": [
    "def slicer(*num) :\n",
    "    print(\"evens :\", [i for i in num if i%2 == 0])\n",
    "    print(\"odd :\", [i for i in num if not i%2 == 0])\n",
    "    \n",
    "slicer(1,2,3,4,5,6,7,8,9)"
   ]
  },
  {
   "cell_type": "code",
   "execution_count": 2,
   "id": "390298c4",
   "metadata": {},
   "outputs": [
    {
     "name": "stdout",
     "output_type": "stream",
     "text": [
      "odd list =  [(1, 3, 5, 7, 9)]\n",
      "even list =  [(2, 4, 6, 8)]\n"
     ]
    }
   ],
   "source": [
    "def slicer(*numbers):\n",
    "    evens = [numbers[1::2]]\n",
    "    odds = [numbers[0::2]]\n",
    "    print(\"odd list = \", odds)\n",
    "    print(\"even list = \", evens)\n",
    "\n",
    "slicer(1,2,3,4,5,6,7,8,9)"
   ]
  },
  {
   "cell_type": "code",
   "execution_count": 3,
   "id": "acfea291",
   "metadata": {},
   "outputs": [
    {
     "name": "stdout",
     "output_type": "stream",
     "text": [
      "odds : [1, 3, 5, 7, 9]\n",
      "evens : [2, 4, 6, 8]\n"
     ]
    }
   ],
   "source": [
    "def slicer(*num) :\n",
    "    print(\"odds :\", [i for i in num if i%2])\n",
    "    print(\"evens :\", [i for i in num if not i%2])\n",
    "    \n",
    "slicer(1,2,3,4,5,6,7,8,9)"
   ]
  },
  {
   "cell_type": "code",
   "execution_count": 4,
   "id": "edcf1828",
   "metadata": {},
   "outputs": [],
   "source": [
    "dicti = dict(shelby = \"g.friend\", micheal = \"b.friend\", baron = \"goodfriend\", john = \"bestfriend\")"
   ]
  },
  {
   "cell_type": "code",
   "execution_count": 5,
   "id": "983cb589",
   "metadata": {},
   "outputs": [],
   "source": [
    "def dicti(**a) :\n",
    "    for key, value in a.items() :\n",
    "        print(key, value)"
   ]
  },
  {
   "cell_type": "code",
   "execution_count": 6,
   "id": "fa5474bb",
   "metadata": {},
   "outputs": [
    {
     "name": "stdout",
     "output_type": "stream",
     "text": [
      "shelby g.friend\n",
      "micheal b.friend\n",
      "baron goodfriend\n",
      "john bestfriend\n"
     ]
    }
   ],
   "source": [
    "dicti(shelby = \"g.friend\", micheal = \"b.friend\", baron = \"goodfriend\", john = \"bestfriend\")"
   ]
  },
  {
   "cell_type": "code",
   "execution_count": 7,
   "id": "b22d4db2",
   "metadata": {},
   "outputs": [
    {
     "name": "stdout",
     "output_type": "stream",
     "text": [
      "Beth is 26 years old.\n",
      "Oscar is 42 years old.\n",
      "Justin is 18 years old.\n",
      "Frank is 33 years old.\n"
     ]
    }
   ],
   "source": [
    "def organizer(**x) :\n",
    "    for t, z in x.items():\n",
    "        print(t, \"is\", z, \"years old.\")\n",
    "        \n",
    "organizer(Beth = 26, Oscar = 42, Justin = 18, Frank = 33)"
   ]
  },
  {
   "cell_type": "code",
   "execution_count": 8,
   "id": "1490313d",
   "metadata": {},
   "outputs": [
    {
     "name": "stdout",
     "output_type": "stream",
     "text": [
      "['Beth', 'Oscar', 'Justin', 'Frank']\n",
      "[26, 42, 18, 33]\n"
     ]
    }
   ],
   "source": [
    "def organizer(**y):\n",
    "    names = []\n",
    "    ages = []\n",
    "    \n",
    "    for keys, values in y.items():\n",
    "        names.append(keys)\n",
    "        ages.append(values)\n",
    "        \n",
    "    print(names, ages, sep = \"\\n\")\n",
    "    \n",
    "organizer(Beth = 26, Oscar = 42, Justin = 18, Frank = 33)"
   ]
  },
  {
   "cell_type": "code",
   "execution_count": 9,
   "id": "f84d9f38",
   "metadata": {},
   "outputs": [],
   "source": [
    "letter = \"ben size ders anlatirken huzur buluyorum, dertlerimi unutuyorum.\""
   ]
  },
  {
   "cell_type": "code",
   "execution_count": 10,
   "id": "303f1697",
   "metadata": {},
   "outputs": [],
   "source": [
    "def filtersesli(letter) :\n",
    "    sesli_harfler = [\"a\", \"e\", \"i\", \"o\", \"u\"]\n",
    "    \n",
    "    if letter.lower() in sesli_harfler :\n",
    "        return True\n",
    "    else :\n",
    "        return False"
   ]
  },
  {
   "cell_type": "code",
   "execution_count": 11,
   "id": "0a7031cf",
   "metadata": {},
   "outputs": [
    {
     "data": {
      "text/plain": [
       "<function __main__.filtersesli(letter)>"
      ]
     },
     "execution_count": 11,
     "metadata": {},
     "output_type": "execute_result"
    }
   ],
   "source": [
    "filtersesli"
   ]
  },
  {
   "cell_type": "code",
   "execution_count": 12,
   "id": "6535d93e",
   "metadata": {},
   "outputs": [],
   "source": [
    "def vowel(letter) :\n",
    "    vowels = [\"a\", \"e\", \"i\", \"o\", \"u\"]\n",
    "    \n",
    "    if letter.lower() in vowels :\n",
    "        return True\n",
    "    else :\n",
    "        return False"
   ]
  },
  {
   "cell_type": "code",
   "execution_count": 13,
   "id": "23c75d5c",
   "metadata": {},
   "outputs": [
    {
     "data": {
      "text/plain": [
       "<filter at 0x7fe48f421c10>"
      ]
     },
     "execution_count": 13,
     "metadata": {},
     "output_type": "execute_result"
    }
   ],
   "source": [
    "filter(vowel, letter)"
   ]
  },
  {
   "cell_type": "code",
   "execution_count": 14,
   "id": "9c0afae7",
   "metadata": {},
   "outputs": [],
   "source": [
    "filtered_vowels = filter(vowel, letter)"
   ]
  },
  {
   "cell_type": "code",
   "execution_count": 15,
   "id": "d99234d1",
   "metadata": {},
   "outputs": [
    {
     "data": {
      "text/plain": [
       "['e',\n",
       " 'i',\n",
       " 'e',\n",
       " 'e',\n",
       " 'a',\n",
       " 'a',\n",
       " 'i',\n",
       " 'e',\n",
       " 'u',\n",
       " 'u',\n",
       " 'u',\n",
       " 'u',\n",
       " 'o',\n",
       " 'u',\n",
       " 'e',\n",
       " 'e',\n",
       " 'i',\n",
       " 'i',\n",
       " 'u',\n",
       " 'u',\n",
       " 'u',\n",
       " 'o',\n",
       " 'u']"
      ]
     },
     "execution_count": 15,
     "metadata": {},
     "output_type": "execute_result"
    }
   ],
   "source": [
    "list(filtered_vowels)"
   ]
  },
  {
   "cell_type": "code",
   "execution_count": 16,
   "id": "02ea72d4",
   "metadata": {},
   "outputs": [
    {
     "name": "stdout",
     "output_type": "stream",
     "text": [
      "\n"
     ]
    }
   ],
   "source": [
    "print(* filtered_vowels, sep = \"-\")"
   ]
  },
  {
   "cell_type": "code",
   "execution_count": 17,
   "id": "c6eef9c0",
   "metadata": {},
   "outputs": [],
   "source": [
    "def absolute(num) :\n",
    "    \"\"\"\n",
    "This function returns the absolute\n",
    "value of the entered number\n",
    "    \"\"\"\n",
    "    if num >= 0 :\n",
    "        return num\n",
    "    else:\n",
    "        return -num"
   ]
  },
  {
   "cell_type": "code",
   "execution_count": 18,
   "id": "58d0ec2d",
   "metadata": {},
   "outputs": [
    {
     "data": {
      "text/plain": [
       "20"
      ]
     },
     "execution_count": 18,
     "metadata": {},
     "output_type": "execute_result"
    }
   ],
   "source": [
    "absolute(-20)"
   ]
  },
  {
   "cell_type": "code",
   "execution_count": 19,
   "id": "5ed2c864",
   "metadata": {},
   "outputs": [
    {
     "data": {
      "text/plain": [
       "20"
      ]
     },
     "execution_count": 19,
     "metadata": {},
     "output_type": "execute_result"
    }
   ],
   "source": [
    "absolute(20)"
   ]
  },
  {
   "cell_type": "code",
   "execution_count": 20,
   "id": "eda9925f",
   "metadata": {},
   "outputs": [
    {
     "data": {
      "text/plain": [
       "20.3"
      ]
     },
     "execution_count": 20,
     "metadata": {},
     "output_type": "execute_result"
    }
   ],
   "source": [
    "absolute(20.3)"
   ]
  },
  {
   "cell_type": "code",
   "execution_count": 21,
   "id": "a9668d72",
   "metadata": {},
   "outputs": [],
   "source": [
    "average = (lambda a, b : a**2 + b**2)(3, 5)"
   ]
  },
  {
   "cell_type": "code",
   "execution_count": 22,
   "id": "9ce54bf6",
   "metadata": {},
   "outputs": [
    {
     "name": "stdout",
     "output_type": "stream",
     "text": [
      "34\n"
     ]
    }
   ],
   "source": [
    "print(average)"
   ]
  },
  {
   "cell_type": "code",
   "execution_count": 23,
   "id": "11536c20",
   "metadata": {},
   "outputs": [],
   "source": [
    "find = (lambda x, y : x + y)(3, 5)"
   ]
  },
  {
   "cell_type": "code",
   "execution_count": 24,
   "id": "f2e40689",
   "metadata": {},
   "outputs": [
    {
     "name": "stdout",
     "output_type": "stream",
     "text": [
      "8\n"
     ]
    }
   ],
   "source": [
    "print(find)   "
   ]
  },
  {
   "cell_type": "code",
   "execution_count": 25,
   "id": "0666e012",
   "metadata": {},
   "outputs": [],
   "source": [
    "find = (lambda x, y : (x + y)/2)(3, 5)"
   ]
  },
  {
   "cell_type": "code",
   "execution_count": 26,
   "id": "708ed118",
   "metadata": {},
   "outputs": [
    {
     "name": "stdout",
     "output_type": "stream",
     "text": [
      "4.0\n"
     ]
    }
   ],
   "source": [
    "print(find)   "
   ]
  },
  {
   "cell_type": "code",
   "execution_count": 27,
   "id": "4fdcb00c",
   "metadata": {},
   "outputs": [
    {
     "data": {
      "text/plain": [
       "<function __main__.<lambda>(x)>"
      ]
     },
     "execution_count": 27,
     "metadata": {},
     "output_type": "execute_result"
    }
   ],
   "source": [
    "lambda x : \"odd\" if x%2 != 0 else \"even\""
   ]
  },
  {
   "cell_type": "code",
   "execution_count": 28,
   "id": "fb594b8a",
   "metadata": {},
   "outputs": [
    {
     "data": {
      "text/plain": [
       "'odd'"
      ]
     },
     "execution_count": 28,
     "metadata": {},
     "output_type": "execute_result"
    }
   ],
   "source": [
    "(lambda x : \"odd\" if x%2 != 0 else \"even\")(5)"
   ]
  },
  {
   "cell_type": "code",
   "execution_count": 29,
   "id": "b22c5d2c",
   "metadata": {},
   "outputs": [
    {
     "data": {
      "text/plain": [
       "'even'"
      ]
     },
     "execution_count": 29,
     "metadata": {},
     "output_type": "execute_result"
    }
   ],
   "source": [
    "(lambda x : \"odd\" if x%2 != 0 else \"even\")(4)"
   ]
  },
  {
   "cell_type": "code",
   "execution_count": 30,
   "id": "5f0bb21b",
   "metadata": {},
   "outputs": [],
   "source": [
    "trying = (lambda x : \"odd\" if x%2 != 0 else \"even\")(4) "
   ]
  },
  {
   "cell_type": "code",
   "execution_count": 31,
   "id": "d410f136",
   "metadata": {},
   "outputs": [
    {
     "name": "stdout",
     "output_type": "stream",
     "text": [
      "even\n"
     ]
    }
   ],
   "source": [
    "print(trying)"
   ]
  },
  {
   "cell_type": "code",
   "execution_count": 32,
   "id": "b89c9728",
   "metadata": {},
   "outputs": [],
   "source": [
    "trying = (lambda x : \"odd\" if x%2 != 0 else \"even\")"
   ]
  },
  {
   "cell_type": "code",
   "execution_count": 33,
   "id": "4ce9ed23",
   "metadata": {},
   "outputs": [
    {
     "name": "stdout",
     "output_type": "stream",
     "text": [
      "even\n"
     ]
    }
   ],
   "source": [
    "print(trying(4))"
   ]
  },
  {
   "cell_type": "code",
   "execution_count": 34,
   "id": "0a7525c2",
   "metadata": {},
   "outputs": [
    {
     "data": {
      "text/plain": [
       "'even'"
      ]
     },
     "execution_count": 34,
     "metadata": {},
     "output_type": "execute_result"
    }
   ],
   "source": [
    "trying(4)"
   ]
  },
  {
   "cell_type": "code",
   "execution_count": 35,
   "id": "6f8a9f0a",
   "metadata": {},
   "outputs": [],
   "source": [
    "iterable = \"erdogan\"\n",
    "reverser = (lambda x : x[::-1])(iterable)"
   ]
  },
  {
   "cell_type": "code",
   "execution_count": 36,
   "id": "f7187e6b",
   "metadata": {},
   "outputs": [
    {
     "data": {
      "text/plain": [
       "'nagodre'"
      ]
     },
     "execution_count": 36,
     "metadata": {},
     "output_type": "execute_result"
    }
   ],
   "source": [
    "reverser"
   ]
  },
  {
   "cell_type": "code",
   "execution_count": 37,
   "id": "91401441",
   "metadata": {},
   "outputs": [
    {
     "data": {
      "text/plain": [
       "'nagodre'"
      ]
     },
     "execution_count": 37,
     "metadata": {},
     "output_type": "execute_result"
    }
   ],
   "source": [
    "iterable[::-1]"
   ]
  },
  {
   "cell_type": "code",
   "execution_count": 38,
   "id": "20eac8f5",
   "metadata": {},
   "outputs": [
    {
     "name": "stdout",
     "output_type": "stream",
     "text": [
      "1 : odd\n",
      "2 : even\n",
      "3 : odd\n",
      "4 : even\n"
     ]
    }
   ],
   "source": [
    "for i in [1,2,3,4] :\n",
    "    print(i, \":\", (lambda x : \"odd\" if x%2 != 0 else \"even\")(i))"
   ]
  },
  {
   "cell_type": "code",
   "execution_count": 39,
   "id": "c0c63559",
   "metadata": {},
   "outputs": [
    {
     "name": "stdout",
     "output_type": "stream",
     "text": [
      "0 : even\n",
      "1 : odd\n",
      "2 : even\n",
      "3 : odd\n",
      "4 : even\n",
      "5 : odd\n",
      "6 : even\n",
      "7 : odd\n",
      "8 : even\n",
      "9 : odd\n",
      "10 : even\n",
      "11 : odd\n"
     ]
    }
   ],
   "source": [
    "for a in range(12) :\n",
    "    print(a, \":\", (lambda x : \"odd\" if x%2 != 0 else \"even\")(a))"
   ]
  },
  {
   "cell_type": "code",
   "execution_count": 40,
   "id": "ccc9895e",
   "metadata": {},
   "outputs": [],
   "source": [
    " x = \"Erdem\""
   ]
  },
  {
   "cell_type": "code",
   "execution_count": 41,
   "id": "e95a7c9b",
   "metadata": {},
   "outputs": [
    {
     "name": "stdout",
     "output_type": "stream",
     "text": [
      "Erdem\n"
     ]
    }
   ],
   "source": [
    "print(x)"
   ]
  },
  {
   "cell_type": "code",
   "execution_count": null,
   "id": "a943fc63",
   "metadata": {},
   "outputs": [],
   "source": []
  }
 ],
 "metadata": {
  "kernelspec": {
   "display_name": "Python 3 (ipykernel)",
   "language": "python",
   "name": "python3"
  },
  "language_info": {
   "codemirror_mode": {
    "name": "ipython",
    "version": 3
   },
   "file_extension": ".py",
   "mimetype": "text/x-python",
   "name": "python",
   "nbconvert_exporter": "python",
   "pygments_lexer": "ipython3",
   "version": "3.9.12"
  }
 },
 "nbformat": 4,
 "nbformat_minor": 5
}
