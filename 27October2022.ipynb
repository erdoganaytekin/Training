{
 "cells": [
  {
   "cell_type": "markdown",
   "id": "b0330965",
   "metadata": {},
   "source": [
    "# IF&ELIF&ELSE"
   ]
  },
  {
   "cell_type": "code",
   "execution_count": 1,
   "id": "7d335d64",
   "metadata": {},
   "outputs": [
    {
     "data": {
      "text/plain": [
       "True"
      ]
     },
     "execution_count": 1,
     "metadata": {},
     "output_type": "execute_result"
    }
   ],
   "source": [
    "1 == 1"
   ]
  },
  {
   "cell_type": "code",
   "execution_count": 2,
   "id": "ae9b3c16",
   "metadata": {},
   "outputs": [
    {
     "data": {
      "text/plain": [
       "False"
      ]
     },
     "execution_count": 2,
     "metadata": {},
     "output_type": "execute_result"
    }
   ],
   "source": [
    "3>3"
   ]
  },
  {
   "cell_type": "code",
   "execution_count": 3,
   "id": "3b02aa98",
   "metadata": {},
   "outputs": [
    {
     "data": {
      "text/plain": [
       "True"
      ]
     },
     "execution_count": 3,
     "metadata": {},
     "output_type": "execute_result"
    }
   ],
   "source": [
    "3>=2"
   ]
  },
  {
   "cell_type": "code",
   "execution_count": 4,
   "id": "89d2ff61",
   "metadata": {},
   "outputs": [
    {
     "data": {
      "text/plain": [
       "False"
      ]
     },
     "execution_count": 4,
     "metadata": {},
     "output_type": "execute_result"
    }
   ],
   "source": [
    "3<=2"
   ]
  },
  {
   "cell_type": "code",
   "execution_count": 5,
   "id": "7a2cfe8f",
   "metadata": {},
   "outputs": [
    {
     "data": {
      "text/plain": [
       "True"
      ]
     },
     "execution_count": 5,
     "metadata": {},
     "output_type": "execute_result"
    }
   ],
   "source": [
    "3>=3"
   ]
  },
  {
   "cell_type": "code",
   "execution_count": 9,
   "id": "8ad93bd9",
   "metadata": {},
   "outputs": [
    {
     "data": {
      "text/plain": [
       "True"
      ]
     },
     "execution_count": 9,
     "metadata": {},
     "output_type": "execute_result"
    }
   ],
   "source": [
    "(3 > 3) or (3 == 3)"
   ]
  },
  {
   "cell_type": "code",
   "execution_count": 21,
   "id": "3ca34fce",
   "metadata": {},
   "outputs": [
    {
     "name": "stdout",
     "output_type": "stream",
     "text": [
      "Ana\n"
     ]
    }
   ],
   "source": [
    "if \"ali\" == \"deli\" :\n",
    "    print(\"Ankara\")\n",
    "\n",
    "print(\"Ana\")"
   ]
  },
  {
   "cell_type": "code",
   "execution_count": 14,
   "id": "58b19467",
   "metadata": {},
   "outputs": [
    {
     "data": {
      "text/plain": [
       "(1,)"
      ]
     },
     "execution_count": 14,
     "metadata": {},
     "output_type": "execute_result"
    }
   ],
   "source": [
    "(1,)"
   ]
  },
  {
   "cell_type": "code",
   "execution_count": 15,
   "id": "e279c13e",
   "metadata": {},
   "outputs": [
    {
     "data": {
      "text/plain": [
       "int"
      ]
     },
     "execution_count": 15,
     "metadata": {},
     "output_type": "execute_result"
    }
   ],
   "source": [
    "type(1,)"
   ]
  },
  {
   "cell_type": "code",
   "execution_count": 24,
   "id": "b8f59506",
   "metadata": {},
   "outputs": [
    {
     "name": "stdout",
     "output_type": "stream",
     "text": [
      "Bir rakam: 0.9\n"
     ]
    },
    {
     "ename": "ValueError",
     "evalue": "invalid literal for int() with base 10: '0.9'",
     "output_type": "error",
     "traceback": [
      "\u001b[0;31m---------------------------------------------------------------------------\u001b[0m",
      "\u001b[0;31mValueError\u001b[0m                                Traceback (most recent call last)",
      "Input \u001b[0;32mIn [24]\u001b[0m, in \u001b[0;36m<cell line: 1>\u001b[0;34m()\u001b[0m\n\u001b[0;32m----> 1\u001b[0m \u001b[38;5;28;43mint\u001b[39;49m\u001b[43m(\u001b[49m\u001b[38;5;28;43minput\u001b[39;49m\u001b[43m(\u001b[49m\u001b[38;5;124;43m\"\u001b[39;49m\u001b[38;5;124;43mBir rakam: \u001b[39;49m\u001b[38;5;124;43m\"\u001b[39;49m\u001b[43m)\u001b[49m\u001b[43m)\u001b[49m\n",
      "\u001b[0;31mValueError\u001b[0m: invalid literal for int() with base 10: '0.9'"
     ]
    }
   ],
   "source": [
    "int(input(\"Bir rakam: \"))"
   ]
  },
  {
   "cell_type": "code",
   "execution_count": 25,
   "id": "c486fb8f",
   "metadata": {},
   "outputs": [
    {
     "name": "stdout",
     "output_type": "stream",
     "text": [
      "We are the same!\n"
     ]
    }
   ],
   "source": [
    "a = \"TWELVE PLUS ONE\"\n",
    "b = \"ELEVEN PLUS TWO\"\n",
    "if set(a) == set(b):\n",
    "    print('We are the same!')"
   ]
  },
  {
   "cell_type": "code",
   "execution_count": 28,
   "id": "ad1002cb",
   "metadata": {},
   "outputs": [
    {
     "name": "stdout",
     "output_type": "stream",
     "text": [
      "Yes or No: No\n",
      "You entered No\n",
      "You entered Yes\n"
     ]
    }
   ],
   "source": [
    "Yes = True\n",
    "No = False\n",
    "a = input(\"Yes or No: \")\n",
    "if a != True:\n",
    "    print(\"You entered No\")\n",
    "print(\"You entered Yes\")"
   ]
  },
  {
   "cell_type": "code",
   "execution_count": 34,
   "id": "cd78a491",
   "metadata": {},
   "outputs": [
    {
     "name": "stdout",
     "output_type": "stream",
     "text": [
      "Enter Yes or No: no\n"
     ]
    },
    {
     "data": {
      "text/plain": [
       "False"
      ]
     },
     "execution_count": 34,
     "metadata": {},
     "output_type": "execute_result"
    }
   ],
   "source": [
    "convert = input(\"Enter Yes or No: \").title().strip() =='Yes'\n",
    "\n",
    "convert"
   ]
  },
  {
   "cell_type": "code",
   "execution_count": 35,
   "id": "1acb774f",
   "metadata": {},
   "outputs": [
    {
     "name": "stdout",
     "output_type": "stream",
     "text": [
      "You entered False\n"
     ]
    }
   ],
   "source": [
    "print(f\"You entered {convert}\")"
   ]
  },
  {
   "cell_type": "code",
   "execution_count": 36,
   "id": "a9161870",
   "metadata": {},
   "outputs": [
    {
     "name": "stdout",
     "output_type": "stream",
     "text": [
      " Enter Yes or No: YES\n",
      "You entered yes\n"
     ]
    }
   ],
   "source": [
    "print(f\"You entered {input(' Enter Yes or No: ').lower().strip()}\")"
   ]
  },
  {
   "cell_type": "code",
   "execution_count": 46,
   "id": "167c5b4e",
   "metadata": {},
   "outputs": [
    {
     "name": "stdout",
     "output_type": "stream",
     "text": [
      " Enter a number: 4\n",
      "Number is even 4\n"
     ]
    }
   ],
   "source": [
    "i = int(input(\" Enter a number: \"))\n",
    "\n",
    "if i%2 == 0:\n",
    "    print(\"Number is even\",i)\n",
    "else:\n",
    "    print(\"Number is odd\",i)"
   ]
  },
  {
   "cell_type": "code",
   "execution_count": 47,
   "id": "cefd22d0",
   "metadata": {},
   "outputs": [
    {
     "name": "stdout",
     "output_type": "stream",
     "text": [
      " Enter a number: 3\n",
      "3 is odd\n"
     ]
    }
   ],
   "source": [
    "i = int(input(\" Enter a number: \"))\n",
    "\n",
    "if i%2 == 0:\n",
    "    print(\"{} is even\".format(i))\n",
    "else:\n",
    "    print(\"{} is odd\".format(i))\n"
   ]
  },
  {
   "cell_type": "code",
   "execution_count": 52,
   "id": "59623874",
   "metadata": {},
   "outputs": [
    {
     "name": "stdout",
     "output_type": "stream",
     "text": [
      " Enter a number: 3\n",
      "3 is positive number\n"
     ]
    }
   ],
   "source": [
    "i = int(input(\" Enter a number: \"))\n",
    "\n",
    "if i<0:\n",
    "    print(\"{} is negative number\".format(i))\n",
    "else:\n",
    "    print(\"{} is positive number\".format(i))"
   ]
  },
  {
   "cell_type": "code",
   "execution_count": 94,
   "id": "7255b191",
   "metadata": {},
   "outputs": [
    {
     "name": "stdout",
     "output_type": "stream",
     "text": [
      "Enter a number1: 7\n",
      "Enter a number2: 5\n",
      "7 The large number is 4\n"
     ]
    }
   ],
   "source": [
    "i = int(input(\"Enter a number1: \"))\n",
    "i2= int(input(\"Enter a number2: \"))\n",
    "\n",
    "if i>i2:\n",
    "    print(\"{} The large number is 4\".format(i))\n",
    "    "
   ]
  },
  {
   "cell_type": "code",
   "execution_count": 64,
   "id": "51d2e004",
   "metadata": {},
   "outputs": [
    {
     "name": "stdout",
     "output_type": "stream",
     "text": [
      "Enter a number1: 3\n",
      "Enter a number2: 4\n",
      "The larger number is: 4.0\n"
     ]
    }
   ],
   "source": [
    "i = float(input(\"Enter a number1: \"))\n",
    "i2= float(input(\"Enter a number2: \"))\n",
    "\n",
    "if i>i2:\n",
    "    larger = i\n",
    "    \n",
    "else:\n",
    "    larger = i2\n",
    "print(\"The larger number is:\",larger)\n"
   ]
  },
  {
   "cell_type": "code",
   "execution_count": 69,
   "id": "622a8795",
   "metadata": {},
   "outputs": [
    {
     "name": "stdout",
     "output_type": "stream",
     "text": [
      "Yes\n"
     ]
    }
   ],
   "source": [
    "bool_value= False\n",
    "\n",
    "if bool_value == False:\n",
    "    print(\"Yes\")\n",
    "else:\n",
    "    print(\"No\")"
   ]
  },
  {
   "cell_type": "code",
   "execution_count": 70,
   "id": "7c3c48a5",
   "metadata": {},
   "outputs": [
    {
     "name": "stdout",
     "output_type": "stream",
     "text": [
      "No\n"
     ]
    }
   ],
   "source": [
    "bool_value= False\n",
    "\n",
    "if bool_value :\n",
    "    print(\"Yes\")\n",
    "else:\n",
    "    print(\"No\")"
   ]
  },
  {
   "cell_type": "code",
   "execution_count": 71,
   "id": "ab4ab738",
   "metadata": {},
   "outputs": [
    {
     "ename": "SyntaxError",
     "evalue": "invalid syntax (3294370653.py, line 2)",
     "output_type": "error",
     "traceback": [
      "\u001b[0;36m  Input \u001b[0;32mIn [71]\u001b[0;36m\u001b[0m\n\u001b[0;31m    if price = 2200\"\u001b[0m\n\u001b[0m             ^\u001b[0m\n\u001b[0;31mSyntaxError\u001b[0m\u001b[0;31m:\u001b[0m invalid syntax\n"
     ]
    }
   ],
   "source": [
    "price = '2200'\n",
    "if price = 2200\"\n",
    "    print('I can afford it')\n",
    "else:\n",
    "    print('It is expensive')"
   ]
  },
  {
   "cell_type": "code",
   "execution_count": 90,
   "id": "ae0483e5",
   "metadata": {},
   "outputs": [
    {
     "name": "stdout",
     "output_type": "stream",
     "text": [
      "Enter a number1: 5\n",
      "Enter a number2: 6\n",
      "Enter a number3: 7\n",
      "The largest number is: 7.0\n"
     ]
    }
   ],
   "source": [
    "i = float(input(\"Enter a number1: \"))\n",
    "i2= float(input(\"Enter a number2: \"))\n",
    "i3= float(input(\"Enter a number3: \"))\n",
    "\n",
    "\n",
    "if i>i2 and i>i3:\n",
    "    largeset = i\n",
    "elif i2>i and i2>i3:\n",
    "    largest = i2\n",
    "else:\n",
    "    largest = i3\n",
    "print(\"The largest number is:\",largest)\n"
   ]
  },
  {
   "cell_type": "code",
   "execution_count": 99,
   "id": "fbf2642f",
   "metadata": {
    "scrolled": true
   },
   "outputs": [
    {
     "name": "stdout",
     "output_type": "stream",
     "text": [
      "Enter a number1: 2\n",
      "2 is the positive number\n"
     ]
    }
   ],
   "source": [
    "i = int(input(\"Enter a number1: \"))\n",
    "\n",
    "\n",
    "if i>0:\n",
    "    print(\"{} is the positive number\".format(i))\n",
    "elif i<0:\n",
    "    print(\"{} is the negative number\".format(i))\n",
    "else:\n",
    "    print(\"{} is zero\".format(i))\n",
    "    "
   ]
  },
  {
   "cell_type": "code",
   "execution_count": 103,
   "id": "4d7fdd80",
   "metadata": {},
   "outputs": [
    {
     "name": "stdout",
     "output_type": "stream",
     "text": [
      "Enter a exam score: 83\n",
      "B\n"
     ]
    }
   ],
   "source": [
    "a = int(input(\"Enter a exam score: \"))\n",
    "\n",
    "if a >= 95:\n",
    "    print(\"A+\")\n",
    "elif a>= 90:\n",
    "    print(\"A\")\n",
    "elif a>= 85:\n",
    "    print(\"B+\")\n",
    "elif a>= 80:\n",
    "    print(\"B\")\n",
    "else:\n",
    "    print(\"C\")"
   ]
  },
  {
   "cell_type": "code",
   "execution_count": 109,
   "id": "0954d9da",
   "metadata": {},
   "outputs": [
    {
     "name": "stdout",
     "output_type": "stream",
     "text": [
      "Enter a exam score: 84\n",
      "Your degree:  B\n"
     ]
    }
   ],
   "source": [
    "score = int(input(\"Enter a exam score: \"))\n",
    "\n",
    "if score >= 90:\n",
    "    if score>= 95:\n",
    "        Score_letter=\"A+\"\n",
    "    else:\n",
    "        Score_letter=\"A\"\n",
    "elif score >= 80:\n",
    "    if score >= 85:\n",
    "        Score_letter = \"B+\"\n",
    "    else:\n",
    "        Score_letter = \"B\"\n",
    "    \n",
    "else:\n",
    "    Score_letter = \"below B\"\n",
    "print(\"Your degree: \", Score_letter)"
   ]
  }
 ],
 "metadata": {
  "kernelspec": {
   "display_name": "Python 3 (ipykernel)",
   "language": "python",
   "name": "python3"
  },
  "language_info": {
   "codemirror_mode": {
    "name": "ipython",
    "version": 3
   },
   "file_extension": ".py",
   "mimetype": "text/x-python",
   "name": "python",
   "nbconvert_exporter": "python",
   "pygments_lexer": "ipython3",
   "version": "3.9.12"
  }
 },
 "nbformat": 4,
 "nbformat_minor": 5
}
