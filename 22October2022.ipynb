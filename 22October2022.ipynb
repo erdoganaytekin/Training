{
 "cells": [
  {
   "cell_type": "markdown",
   "id": "61e3d966",
   "metadata": {},
   "source": [
    "# Tuple"
   ]
  },
  {
   "cell_type": "code",
   "execution_count": 1,
   "id": "daf6038e",
   "metadata": {},
   "outputs": [
    {
     "name": "stdout",
     "output_type": "stream",
     "text": [
      "<class 'list'> [1, 4, 3, 4, 5, 6, 7, 4]\n"
     ]
    }
   ],
   "source": [
    "my_tuple = (1,4,3,4,5,6,7,4)\n",
    "my_list = list(my_tuple)\n",
    "print(type(my_list),my_list)"
   ]
  },
  {
   "cell_type": "code",
   "execution_count": 2,
   "id": "58bbd687",
   "metadata": {},
   "outputs": [],
   "source": [
    "x = (1,2,3,4)\n",
    "y = list(x)"
   ]
  },
  {
   "cell_type": "code",
   "execution_count": 3,
   "id": "a18264ec",
   "metadata": {},
   "outputs": [
    {
     "data": {
      "text/plain": [
       "[1, 2, 3, 4]"
      ]
     },
     "execution_count": 3,
     "metadata": {},
     "output_type": "execute_result"
    }
   ],
   "source": [
    "y"
   ]
  },
  {
   "cell_type": "code",
   "execution_count": 7,
   "id": "90fdda35",
   "metadata": {},
   "outputs": [
    {
     "data": {
      "text/plain": [
       "[1, 2, 3, 4, 6, 6, 6]"
      ]
     },
     "execution_count": 7,
     "metadata": {},
     "output_type": "execute_result"
    }
   ],
   "source": [
    "y.append(6)\n",
    "y"
   ]
  },
  {
   "cell_type": "code",
   "execution_count": 10,
   "id": "8b511454",
   "metadata": {},
   "outputs": [
    {
     "data": {
      "text/plain": [
       "[1, 2, 3, 4, 9, 9, 6, 6, 6]"
      ]
     },
     "execution_count": 10,
     "metadata": {},
     "output_type": "execute_result"
    }
   ],
   "source": [
    "y.insert(4,9)\n",
    "y"
   ]
  },
  {
   "cell_type": "code",
   "execution_count": 12,
   "id": "1c87366d",
   "metadata": {},
   "outputs": [
    {
     "data": {
      "text/plain": [
       "[1, 2, 3, 4, 9, 9, 6]"
      ]
     },
     "execution_count": 12,
     "metadata": {},
     "output_type": "execute_result"
    }
   ],
   "source": [
    "y.pop()\n",
    "y"
   ]
  },
  {
   "cell_type": "code",
   "execution_count": 14,
   "id": "a0dcfc35",
   "metadata": {},
   "outputs": [
    {
     "data": {
      "text/plain": [
       "[1, 2, 3, 4, 6, 9, 9]"
      ]
     },
     "execution_count": 14,
     "metadata": {},
     "output_type": "execute_result"
    }
   ],
   "source": [
    "y.sort()\n",
    "y"
   ]
  },
  {
   "cell_type": "code",
   "execution_count": 16,
   "id": "ea82e4fe",
   "metadata": {},
   "outputs": [
    {
     "name": "stdout",
     "output_type": "stream",
     "text": [
      "Erdogan\n",
      "('E', 'r', 'd', 'o', 'g', 'a', 'n')\n",
      "list['Erdogan']\n"
     ]
    }
   ],
   "source": [
    "d = \"Erdogan\"\n",
    "print(d)\n",
    "z = tuple(\"Erdogan\")\n",
    "print(z)\n",
    "f = list[\"Erdogan\"]\n",
    "print(f)"
   ]
  },
  {
   "cell_type": "code",
   "execution_count": 34,
   "id": "487c11a2",
   "metadata": {},
   "outputs": [
    {
     "name": "stdout",
     "output_type": "stream",
     "text": [
      "Erdogan\n",
      "Erdogan\n",
      "['Erdogan']\n"
     ]
    }
   ],
   "source": [
    "d = \"Erdogan\"\n",
    "print(d)\n",
    "z = (\"Erdogan\")\n",
    "print(z)\n",
    "f = [\"Erdogan\"]\n",
    "print(f)"
   ]
  },
  {
   "cell_type": "code",
   "execution_count": 37,
   "id": "0843666f",
   "metadata": {},
   "outputs": [
    {
     "data": {
      "text/plain": [
       "['Erdogan', 'er', 'er']"
      ]
     },
     "execution_count": 37,
     "metadata": {},
     "output_type": "execute_result"
    }
   ],
   "source": [
    "f.append(\"er\")\n",
    "f"
   ]
  },
  {
   "cell_type": "code",
   "execution_count": 39,
   "id": "8ec3f01a",
   "metadata": {
    "scrolled": true
   },
   "outputs": [
    {
     "ename": "AttributeError",
     "evalue": "'str' object has no attribute 'append'",
     "output_type": "error",
     "traceback": [
      "\u001b[0;31m---------------------------------------------------------------------------\u001b[0m",
      "\u001b[0;31mAttributeError\u001b[0m                            Traceback (most recent call last)",
      "Input \u001b[0;32mIn [39]\u001b[0m, in \u001b[0;36m<cell line: 1>\u001b[0;34m()\u001b[0m\n\u001b[0;32m----> 1\u001b[0m \u001b[43md\u001b[49m\u001b[38;5;241;43m.\u001b[39;49m\u001b[43mappend\u001b[49m(\u001b[38;5;124m\"\u001b[39m\u001b[38;5;124mer\u001b[39m\u001b[38;5;124m\"\u001b[39m)\n\u001b[1;32m      2\u001b[0m d\n",
      "\u001b[0;31mAttributeError\u001b[0m: 'str' object has no attribute 'append'"
     ]
    }
   ],
   "source": [
    "d.append(\"er\")\n",
    "d"
   ]
  },
  {
   "cell_type": "code",
   "execution_count": 24,
   "id": "75eb5e58",
   "metadata": {},
   "outputs": [
    {
     "data": {
      "text/plain": [
       "[1, 2, 3, 4, 5, 6, 7, 8, 9]"
      ]
     },
     "execution_count": 24,
     "metadata": {},
     "output_type": "execute_result"
    }
   ],
   "source": [
    "v = list(range(1,10))\n",
    "v"
   ]
  },
  {
   "cell_type": "code",
   "execution_count": 28,
   "id": "3890a938",
   "metadata": {},
   "outputs": [
    {
     "data": {
      "text/plain": [
       "(1, 2, 3, 4, 5, 6, 7, 8, 9)"
      ]
     },
     "execution_count": 28,
     "metadata": {},
     "output_type": "execute_result"
    }
   ],
   "source": [
    "v = list(range(1,10))\n",
    "g = tuple(v)\n",
    "g"
   ]
  },
  {
   "cell_type": "code",
   "execution_count": 29,
   "id": "6fb03704",
   "metadata": {},
   "outputs": [
    {
     "data": {
      "text/plain": [
       "int"
      ]
     },
     "execution_count": 29,
     "metadata": {},
     "output_type": "execute_result"
    }
   ],
   "source": [
    "y = 1\n",
    "type(y)"
   ]
  },
  {
   "cell_type": "code",
   "execution_count": 30,
   "id": "b3d3dd5c",
   "metadata": {},
   "outputs": [
    {
     "data": {
      "text/plain": [
       "tuple"
      ]
     },
     "execution_count": 30,
     "metadata": {},
     "output_type": "execute_result"
    }
   ],
   "source": [
    "y = 1,\n",
    "type(y)"
   ]
  },
  {
   "cell_type": "code",
   "execution_count": 31,
   "id": "a74e8de4",
   "metadata": {},
   "outputs": [
    {
     "data": {
      "text/plain": [
       "([1, 2, 3, 4, 5, 6, 7, 8, 9],)"
      ]
     },
     "execution_count": 31,
     "metadata": {},
     "output_type": "execute_result"
    }
   ],
   "source": [
    "v = list(range(1,10))\n",
    "g = v,\n",
    "g\n",
    "# virgul tuple yapar"
   ]
  },
  {
   "cell_type": "code",
   "execution_count": 32,
   "id": "f5414137",
   "metadata": {},
   "outputs": [
    {
     "data": {
      "text/plain": [
       "(1, 2, 3, 4, 5, 6, 7, 8, 9, 10)"
      ]
     },
     "execution_count": 32,
     "metadata": {},
     "output_type": "execute_result"
    }
   ],
   "source": [
    "a = tuple(range(1,11))\n",
    "a"
   ]
  },
  {
   "cell_type": "code",
   "execution_count": 47,
   "id": "cb5df20c",
   "metadata": {},
   "outputs": [
    {
     "data": {
      "text/plain": [
       "['new', 'istanbul', 'rtt']"
      ]
     },
     "execution_count": 47,
     "metadata": {},
     "output_type": "execute_result"
    }
   ],
   "source": [
    "city = ['tokyo', 'istanbul', 'ankara']\n",
    "cityt = tuple(city)\n",
    "cityt = list(cityt)\n",
    "cityt[0] = 'new'\n",
    "cityt\n",
    "cityt[-1]= 'rtt'\n",
    "cityt"
   ]
  },
  {
   "cell_type": "code",
   "execution_count": 48,
   "id": "595fec3a",
   "metadata": {},
   "outputs": [
    {
     "data": {
      "text/plain": [
       "range(1, 11)"
      ]
     },
     "execution_count": 48,
     "metadata": {},
     "output_type": "execute_result"
    }
   ],
   "source": [
    "sayilar = range(1,11)\n",
    "sayilar"
   ]
  },
  {
   "cell_type": "code",
   "execution_count": 49,
   "id": "a2e45ca0",
   "metadata": {},
   "outputs": [
    {
     "data": {
      "text/plain": [
       "4"
      ]
     },
     "execution_count": 49,
     "metadata": {},
     "output_type": "execute_result"
    }
   ],
   "source": [
    "sayilar[3]"
   ]
  },
  {
   "cell_type": "code",
   "execution_count": 50,
   "id": "f2a1e8bc",
   "metadata": {},
   "outputs": [
    {
     "data": {
      "text/plain": [
       "4"
      ]
     },
     "execution_count": 50,
     "metadata": {},
     "output_type": "execute_result"
    }
   ],
   "source": [
    "sayilar[3]"
   ]
  },
  {
   "cell_type": "code",
   "execution_count": 51,
   "id": "893f00d0",
   "metadata": {},
   "outputs": [],
   "source": [
    "h = (\"11\",11, [2, \"two\", (\"six\", 6)],(5, \"fair\"))"
   ]
  },
  {
   "cell_type": "code",
   "execution_count": 60,
   "id": "cf903e20",
   "metadata": {},
   "outputs": [
    {
     "data": {
      "text/plain": [
       "list"
      ]
     },
     "execution_count": 60,
     "metadata": {},
     "output_type": "execute_result"
    }
   ],
   "source": [
    "h[2]\n",
    "type(h[2])"
   ]
  },
  {
   "cell_type": "code",
   "execution_count": 61,
   "id": "f2f50ea5",
   "metadata": {},
   "outputs": [
    {
     "data": {
      "text/plain": [
       "tuple"
      ]
     },
     "execution_count": 61,
     "metadata": {},
     "output_type": "execute_result"
    }
   ],
   "source": [
    "type(h[3])"
   ]
  },
  {
   "cell_type": "code",
   "execution_count": 70,
   "id": "773c238b",
   "metadata": {},
   "outputs": [
    {
     "data": {
      "text/plain": [
       "(5, 'fair')"
      ]
     },
     "execution_count": 70,
     "metadata": {},
     "output_type": "execute_result"
    }
   ],
   "source": [
    "h[3]"
   ]
  },
  {
   "cell_type": "code",
   "execution_count": 71,
   "id": "3f4fe0fe",
   "metadata": {},
   "outputs": [
    {
     "data": {
      "text/plain": [
       "'11'"
      ]
     },
     "execution_count": 71,
     "metadata": {},
     "output_type": "execute_result"
    }
   ],
   "source": [
    "h[0]"
   ]
  },
  {
   "cell_type": "code",
   "execution_count": 72,
   "id": "ba0c649a",
   "metadata": {},
   "outputs": [
    {
     "data": {
      "text/plain": [
       "11"
      ]
     },
     "execution_count": 72,
     "metadata": {},
     "output_type": "execute_result"
    }
   ],
   "source": [
    "h[1]"
   ]
  },
  {
   "cell_type": "code",
   "execution_count": 73,
   "id": "dadd18e7",
   "metadata": {},
   "outputs": [
    {
     "data": {
      "text/plain": [
       "[2, 'two', ('six', 6)]"
      ]
     },
     "execution_count": 73,
     "metadata": {},
     "output_type": "execute_result"
    }
   ],
   "source": [
    "h[2]"
   ]
  },
  {
   "cell_type": "code",
   "execution_count": 76,
   "id": "050c544c",
   "metadata": {},
   "outputs": [
    {
     "data": {
      "text/plain": [
       "('six', 6)"
      ]
     },
     "execution_count": 76,
     "metadata": {},
     "output_type": "execute_result"
    }
   ],
   "source": [
    "h[2][2]"
   ]
  },
  {
   "cell_type": "code",
   "execution_count": 77,
   "id": "7e6008b7",
   "metadata": {},
   "outputs": [
    {
     "data": {
      "text/plain": [
       "'six'"
      ]
     },
     "execution_count": 77,
     "metadata": {},
     "output_type": "execute_result"
    }
   ],
   "source": [
    "h[2][2][0]"
   ]
  },
  {
   "cell_type": "code",
   "execution_count": 80,
   "id": "e3adba7c",
   "metadata": {},
   "outputs": [],
   "source": [
    "h = [\"11\",11, [2, \"two\", (\"six\", 6)],(5, \"fair\")]"
   ]
  },
  {
   "cell_type": "code",
   "execution_count": 82,
   "id": "66217a4d",
   "metadata": {},
   "outputs": [
    {
     "data": {
      "text/plain": [
       "['11', 11, [2, 'two', ('six', 6)], (5, 'fair'), 2, 2]"
      ]
     },
     "execution_count": 82,
     "metadata": {},
     "output_type": "execute_result"
    }
   ],
   "source": [
    "h.append(2)\n",
    "h"
   ]
  },
  {
   "cell_type": "code",
   "execution_count": 85,
   "id": "dc3e9ad1",
   "metadata": {},
   "outputs": [
    {
     "data": {
      "text/plain": [
       "['11', 11, 2, 2, [2, 'two', ('six', 6)], 2, (5, 'fair'), 2, 2]"
      ]
     },
     "execution_count": 85,
     "metadata": {},
     "output_type": "execute_result"
    }
   ],
   "source": [
    "h.insert(5,2)\n",
    "h"
   ]
  },
  {
   "cell_type": "code",
   "execution_count": 86,
   "id": "1956c2ef",
   "metadata": {},
   "outputs": [
    {
     "ename": "TypeError",
     "evalue": "insert expected 2 arguments, got 3",
     "output_type": "error",
     "traceback": [
      "\u001b[0;31m---------------------------------------------------------------------------\u001b[0m",
      "\u001b[0;31mTypeError\u001b[0m                                 Traceback (most recent call last)",
      "Input \u001b[0;32mIn [86]\u001b[0m, in \u001b[0;36m<cell line: 1>\u001b[0;34m()\u001b[0m\n\u001b[0;32m----> 1\u001b[0m \u001b[43mh\u001b[49m\u001b[38;5;241;43m.\u001b[39;49m\u001b[43minsert\u001b[49m\u001b[43m(\u001b[49m\u001b[38;5;241;43m4\u001b[39;49m\u001b[43m,\u001b[49m\u001b[38;5;241;43m2\u001b[39;49m\u001b[43m,\u001b[49m\u001b[38;5;241;43m1\u001b[39;49m\u001b[43m)\u001b[49m\n\u001b[1;32m      2\u001b[0m h\n",
      "\u001b[0;31mTypeError\u001b[0m: insert expected 2 arguments, got 3"
     ]
    }
   ],
   "source": [
    "h.insert(4,2,1)\n",
    "h"
   ]
  },
  {
   "cell_type": "code",
   "execution_count": 87,
   "id": "eeb036d9",
   "metadata": {},
   "outputs": [
    {
     "data": {
      "text/plain": [
       "['11', 11, 2, 2, [2, 'two', ('six', 6), 1], 2, (5, 'fair'), 2, 2]"
      ]
     },
     "execution_count": 87,
     "metadata": {},
     "output_type": "execute_result"
    }
   ],
   "source": [
    "h[4].append(1)\n",
    "h"
   ]
  },
  {
   "cell_type": "code",
   "execution_count": 89,
   "id": "696de798",
   "metadata": {},
   "outputs": [
    {
     "data": {
      "text/plain": [
       "['11', 11, 2, 2, [2, 'two', ('six', 6), 1], 2, (5, 'fair'), 2, 2]"
      ]
     },
     "execution_count": 89,
     "metadata": {},
     "output_type": "execute_result"
    }
   ],
   "source": [
    "h[4][1:3]\n",
    "h"
   ]
  },
  {
   "cell_type": "code",
   "execution_count": 92,
   "id": "687a8e0e",
   "metadata": {},
   "outputs": [],
   "source": [
    "y = h[4][1:3]"
   ]
  },
  {
   "cell_type": "code",
   "execution_count": 94,
   "id": "2d81a45f",
   "metadata": {},
   "outputs": [
    {
     "name": "stdout",
     "output_type": "stream",
     "text": [
      "['two', ('six', 6)]\n"
     ]
    },
    {
     "data": {
      "text/plain": [
       "list"
      ]
     },
     "execution_count": 94,
     "metadata": {},
     "output_type": "execute_result"
    }
   ],
   "source": [
    "print(y)\n",
    "type(y)"
   ]
  },
  {
   "cell_type": "code",
   "execution_count": 95,
   "id": "06163cbe",
   "metadata": {},
   "outputs": [
    {
     "data": {
      "text/plain": [
       "['11', 11, 2, 2, [2, 'two', ('six', 6), 1], 2, (5, 'fair'), 2, 2]"
      ]
     },
     "execution_count": 95,
     "metadata": {},
     "output_type": "execute_result"
    }
   ],
   "source": [
    "h"
   ]
  },
  {
   "cell_type": "code",
   "execution_count": 96,
   "id": "1e488976",
   "metadata": {},
   "outputs": [
    {
     "data": {
      "text/plain": [
       "2"
      ]
     },
     "execution_count": 96,
     "metadata": {},
     "output_type": "execute_result"
    }
   ],
   "source": [
    "h[-1]"
   ]
  },
  {
   "cell_type": "code",
   "execution_count": 97,
   "id": "3d939c3f",
   "metadata": {},
   "outputs": [
    {
     "data": {
      "text/plain": [
       "'fair'"
      ]
     },
     "execution_count": 97,
     "metadata": {},
     "output_type": "execute_result"
    }
   ],
   "source": [
    "h[6][1]"
   ]
  },
  {
   "cell_type": "code",
   "execution_count": 99,
   "id": "ca964b94",
   "metadata": {},
   "outputs": [
    {
     "data": {
      "text/plain": [
       "'fair'"
      ]
     },
     "execution_count": 99,
     "metadata": {},
     "output_type": "execute_result"
    }
   ],
   "source": [
    "h[-3][1]"
   ]
  },
  {
   "cell_type": "code",
   "execution_count": 100,
   "id": "7671efd1",
   "metadata": {},
   "outputs": [
    {
     "data": {
      "text/plain": [
       "['11', 11, 2, 2, [2, 'two', ('six', 6), 1], 2, (5, 'fair'), 2, 2]"
      ]
     },
     "execution_count": 100,
     "metadata": {},
     "output_type": "execute_result"
    }
   ],
   "source": [
    "h"
   ]
  },
  {
   "cell_type": "code",
   "execution_count": 101,
   "id": "03affe3b",
   "metadata": {},
   "outputs": [],
   "source": [
    "h[4].insert(3,9)"
   ]
  },
  {
   "cell_type": "code",
   "execution_count": 102,
   "id": "fd76236d",
   "metadata": {},
   "outputs": [
    {
     "data": {
      "text/plain": [
       "['11', 11, 2, 2, [2, 'two', ('six', 6), 9, 1], 2, (5, 'fair'), 2, 2]"
      ]
     },
     "execution_count": 102,
     "metadata": {},
     "output_type": "execute_result"
    }
   ],
   "source": [
    "h"
   ]
  },
  {
   "cell_type": "markdown",
   "id": "6df402f9",
   "metadata": {},
   "source": [
    "# Dictionary"
   ]
  },
  {
   "cell_type": "code",
   "execution_count": 107,
   "id": "9a6a115d",
   "metadata": {},
   "outputs": [],
   "source": [
    "c = {\"ali\":33, \n",
    " \"veli\":45,\n",
    " \"deli\":56\n",
    "    }"
   ]
  },
  {
   "cell_type": "code",
   "execution_count": 108,
   "id": "f64728b4",
   "metadata": {
    "scrolled": false
   },
   "outputs": [
    {
     "data": {
      "text/plain": [
       "{'ali': 33, 'veli': 45, 'deli': 56}"
      ]
     },
     "execution_count": 108,
     "metadata": {},
     "output_type": "execute_result"
    }
   ],
   "source": [
    "c"
   ]
  },
  {
   "cell_type": "code",
   "execution_count": 114,
   "id": "3232f1db",
   "metadata": {},
   "outputs": [
    {
     "data": {
      "text/plain": [
       "{'ali': 33}"
      ]
     },
     "execution_count": 114,
     "metadata": {},
     "output_type": "execute_result"
    }
   ],
   "source": [
    "c2 = dict(ali=33)\n",
    "c2"
   ]
  },
  {
   "cell_type": "code",
   "execution_count": 133,
   "id": "4cee2c61",
   "metadata": {},
   "outputs": [
    {
     "data": {
      "text/plain": [
       "{1, 2, 3, 4}"
      ]
     },
     "execution_count": 133,
     "metadata": {},
     "output_type": "execute_result"
    }
   ],
   "source": [
    "k = {1,2,3,3,3,4}\n",
    "k"
   ]
  },
  {
   "cell_type": "code",
   "execution_count": 125,
   "id": "6642e72d",
   "metadata": {},
   "outputs": [],
   "source": [
    "first_dict = {1 : \"one\", \"two\" : 2, False : [1,2,3], 1.2 : (\"one\", \"five\"), (1,2) : \"clarusway\"}"
   ]
  },
  {
   "cell_type": "code",
   "execution_count": 126,
   "id": "510775e9",
   "metadata": {
    "scrolled": true
   },
   "outputs": [
    {
     "data": {
      "text/plain": [
       "{1: 'one',\n",
       " 'two': 2,\n",
       " False: [1, 2, 3],\n",
       " 1.2: ('one', 'five'),\n",
       " (1, 2): 'clarusway'}"
      ]
     },
     "execution_count": 126,
     "metadata": {},
     "output_type": "execute_result"
    }
   ],
   "source": [
    "first_dict"
   ]
  },
  {
   "cell_type": "code",
   "execution_count": 130,
   "id": "6eb8f5c2",
   "metadata": {
    "scrolled": true
   },
   "outputs": [
    {
     "ename": "TypeError",
     "evalue": "unhashable type: 'set'",
     "output_type": "error",
     "traceback": [
      "\u001b[0;31m---------------------------------------------------------------------------\u001b[0m",
      "\u001b[0;31mTypeError\u001b[0m                                 Traceback (most recent call last)",
      "Input \u001b[0;32mIn [130]\u001b[0m, in \u001b[0;36m<cell line: 1>\u001b[0;34m()\u001b[0m\n\u001b[0;32m----> 1\u001b[0m second_dict \u001b[38;5;241m=\u001b[39m {{\u001b[38;5;241m1\u001b[39m, \u001b[38;5;241m2\u001b[39m} : \u001b[38;5;124m\"\u001b[39m\u001b[38;5;124mone\u001b[39m\u001b[38;5;124m\"\u001b[39m, \u001b[38;5;124m\"\u001b[39m\u001b[38;5;124mtwo\u001b[39m\u001b[38;5;124m\"\u001b[39m : \u001b[38;5;241m2\u001b[39m, \u001b[38;5;28;01mFalse\u001b[39;00m : [\u001b[38;5;241m1\u001b[39m,\u001b[38;5;241m2\u001b[39m,\u001b[38;5;241m3\u001b[39m], \u001b[38;5;241m1.2\u001b[39m : (\u001b[38;5;124m\"\u001b[39m\u001b[38;5;124mone\u001b[39m\u001b[38;5;124m\"\u001b[39m, \u001b[38;5;124m\"\u001b[39m\u001b[38;5;124mfive\u001b[39m\u001b[38;5;124m\"\u001b[39m), (\u001b[38;5;241m1\u001b[39m,\u001b[38;5;241m2\u001b[39m) : \u001b[38;5;124m\"\u001b[39m\u001b[38;5;124mclarusway\u001b[39m\u001b[38;5;124m\"\u001b[39m}\n\u001b[1;32m      2\u001b[0m second_dict\n",
      "\u001b[0;31mTypeError\u001b[0m: unhashable type: 'set'"
     ]
    }
   ],
   "source": [
    "second_dict = {{1, 2} : \"one\", \"two\" : 2, False : [1,2,3], 1.2 : (\"one\", \"five\"), (1,2) : \"clarusway\"}\n",
    "second_dict"
   ]
  },
  {
   "cell_type": "code",
   "execution_count": 140,
   "id": "9b18ff5c",
   "metadata": {
    "scrolled": true
   },
   "outputs": [
    {
     "ename": "SyntaxError",
     "evalue": "expression cannot contain assignment, perhaps you meant \"==\"? (2006507315.py, line 1)",
     "output_type": "error",
     "traceback": [
      "\u001b[0;36m  Input \u001b[0;32mIn [140]\u001b[0;36m\u001b[0m\n\u001b[0;31m    dict(1 = \"bir\")\u001b[0m\n\u001b[0m         ^\u001b[0m\n\u001b[0;31mSyntaxError\u001b[0m\u001b[0;31m:\u001b[0m expression cannot contain assignment, perhaps you meant \"==\"?\n"
     ]
    }
   ],
   "source": [
    "dict(1 = \"bir\")"
   ]
  },
  {
   "cell_type": "code",
   "execution_count": 139,
   "id": "42b22c15",
   "metadata": {},
   "outputs": [
    {
     "data": {
      "text/plain": [
       "{'ali': 3, 'deli': 4}"
      ]
     },
     "execution_count": 139,
     "metadata": {},
     "output_type": "execute_result"
    }
   ],
   "source": [
    "sozluk = {\"ali\" : 2, \"ali\" : 3, \"deli\" : 4}\n",
    "\n",
    "sozluk\n",
    "\n",
    "# if Same name, takes last same name.\n",
    "# If you specify a key a second time during the initial creation of a dictionary, \n",
    "# #then the second occurrence will OVERRIDE the first."
   ]
  },
  {
   "cell_type": "code",
   "execution_count": 141,
   "id": "cead9084",
   "metadata": {},
   "outputs": [
    {
     "data": {
      "text/plain": [
       "{'isim': 'ali deli veli'}"
      ]
     },
     "execution_count": 141,
     "metadata": {},
     "output_type": "execute_result"
    }
   ],
   "source": [
    "dict(isim = \"ali deli veli\")"
   ]
  },
  {
   "cell_type": "code",
   "execution_count": 149,
   "id": "a437846c",
   "metadata": {
    "scrolled": true
   },
   "outputs": [
    {
     "ename": "SyntaxError",
     "evalue": "keyword argument repeated: isim (2946282986.py, line 1)",
     "output_type": "error",
     "traceback": [
      "\u001b[0;36m  Input \u001b[0;32mIn [149]\u001b[0;36m\u001b[0m\n\u001b[0;31m    dict(isim = \"ali\", isim = \"deli\")\u001b[0m\n\u001b[0m                       ^\u001b[0m\n\u001b[0;31mSyntaxError\u001b[0m\u001b[0;31m:\u001b[0m keyword argument repeated: isim\n"
     ]
    }
   ],
   "source": [
    "dict(isim = \"ali\", isim = \"deli\")"
   ]
  },
  {
   "cell_type": "code",
   "execution_count": 152,
   "id": "9299eca2",
   "metadata": {
    "scrolled": true
   },
   "outputs": [
    {
     "ename": "NameError",
     "evalue": "name 'isim' is not defined",
     "output_type": "error",
     "traceback": [
      "\u001b[0;31m---------------------------------------------------------------------------\u001b[0m",
      "\u001b[0;31mNameError\u001b[0m                                 Traceback (most recent call last)",
      "Input \u001b[0;32mIn [152]\u001b[0m, in \u001b[0;36m<cell line: 1>\u001b[0;34m()\u001b[0m\n\u001b[0;32m----> 1\u001b[0m l \u001b[38;5;241m=\u001b[39m {\u001b[43misim\u001b[49m : \u001b[38;5;124m\"\u001b[39m\u001b[38;5;124mali\u001b[39m\u001b[38;5;124m\"\u001b[39m, isim : \u001b[38;5;124m\"\u001b[39m\u001b[38;5;124mdeli\u001b[39m\u001b[38;5;124m\"\u001b[39m}\n",
      "\u001b[0;31mNameError\u001b[0m: name 'isim' is not defined"
     ]
    }
   ],
   "source": [
    "l = {isim : \"ali\", isim : \"deli\"}"
   ]
  },
  {
   "cell_type": "code",
   "execution_count": 154,
   "id": "3813a147",
   "metadata": {},
   "outputs": [
    {
     "data": {
      "text/plain": [
       "{'sayilar': [1, 2, 3], 'harfler': {1: 'bir'}}"
      ]
     },
     "execution_count": 154,
     "metadata": {},
     "output_type": "execute_result"
    }
   ],
   "source": [
    "dict(sayilar = [1,2,3], harfler = {1 : \"bir\"})"
   ]
  },
  {
   "cell_type": "code",
   "execution_count": 157,
   "id": "177b5e46",
   "metadata": {},
   "outputs": [
    {
     "data": {
      "text/plain": [
       "{'arkansan': 'rock', 'virginia': 'richmond'}"
      ]
     },
     "execution_count": 157,
     "metadata": {},
     "output_type": "execute_result"
    }
   ],
   "source": [
    "state = {'arkansan' : 'rock'}\n",
    "state['virginia'] = 'richmond'\n",
    "state"
   ]
  },
  {
   "cell_type": "code",
   "execution_count": 158,
   "id": "0065664b",
   "metadata": {},
   "outputs": [],
   "source": [
    "# First way to create a dict with {}\n",
    "\n",
    "mix_values_1 = {'animal': ('dog', 'cat'),\n",
    "                'planet': ['Neptun', 'Saturn', 'Jupiter'],\n",
    "                'number': 40,\n",
    "                'pi': 3.14,\n",
    "                'is_good': True}\n",
    "\n",
    "# Second way to create a dict with dict() function\n",
    "\n",
    "mix_values_2 = dict(animal='dog', \n",
    "                    planet='neptun', \n",
    "                    number=40, \n",
    "                    pi=3.14, \n",
    "                    is_good=True)"
   ]
  },
  {
   "cell_type": "code",
   "execution_count": 159,
   "id": "477c4b05",
   "metadata": {
    "scrolled": true
   },
   "outputs": [
    {
     "data": {
      "text/plain": [
       "{'animal': ('dog', 'cat'),\n",
       " 'planet': ['Neptun', 'Saturn', 'Jupiter'],\n",
       " 'number': 40,\n",
       " 'pi': 3.14,\n",
       " 'is_good': True}"
      ]
     },
     "execution_count": 159,
     "metadata": {},
     "output_type": "execute_result"
    }
   ],
   "source": [
    "mix_values_1"
   ]
  },
  {
   "cell_type": "code",
   "execution_count": 160,
   "id": "2b3474f6",
   "metadata": {},
   "outputs": [
    {
     "data": {
      "text/plain": [
       "{'animal': 'dog',\n",
       " 'planet': 'neptun',\n",
       " 'number': 40,\n",
       " 'pi': 3.14,\n",
       " 'is_good': True}"
      ]
     },
     "execution_count": 160,
     "metadata": {},
     "output_type": "execute_result"
    }
   ],
   "source": [
    "mix_values_2"
   ]
  },
  {
   "cell_type": "code",
   "execution_count": null,
   "id": "1a08062f",
   "metadata": {},
   "outputs": [],
   "source": []
  }
 ],
 "metadata": {
  "kernelspec": {
   "display_name": "Python 3 (ipykernel)",
   "language": "python",
   "name": "python3"
  },
  "language_info": {
   "codemirror_mode": {
    "name": "ipython",
    "version": 3
   },
   "file_extension": ".py",
   "mimetype": "text/x-python",
   "name": "python",
   "nbconvert_exporter": "python",
   "pygments_lexer": "ipython3",
   "version": "3.9.12"
  }
 },
 "nbformat": 4,
 "nbformat_minor": 5
}
